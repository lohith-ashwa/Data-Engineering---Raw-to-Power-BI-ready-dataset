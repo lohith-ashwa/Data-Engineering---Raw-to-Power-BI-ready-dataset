{
 "cells": [
  {
   "cell_type": "code",
   "execution_count": 1,
   "id": "fdd48e19-3047-492b-9243-58e1d9716ef6",
   "metadata": {},
   "outputs": [],
   "source": [
    "import zipfile\n",
    "import os\n",
    "import duckdb\n",
    "import glob"
   ]
  },
  {
   "cell_type": "code",
   "execution_count": 2,
   "id": "1a59f289-c879-4ad1-b12a-d16eaea1df15",
   "metadata": {},
   "outputs": [],
   "source": [
    "con = duckdb.connect('data_engineering_project.duckdb')"
   ]
  },
  {
   "cell_type": "code",
   "execution_count": 3,
   "id": "e0bf2c3a-896c-4f18-be48-76083bee5364",
   "metadata": {},
   "outputs": [],
   "source": [
    "#Extract zip file\n",
    "zip_path = 'all_json.zip'\n",
    "extract_path = './extracted_data_json'\n",
    "\n",
    "with zipfile.ZipFile(zip_path, 'r') as zip_ref:\n",
    "    zip_ref.extractall(extract_path)"
   ]
  }
 ],
 "metadata": {
  "kernelspec": {
   "display_name": "Python 3 (ipykernel)",
   "language": "python",
   "name": "python3"
  },
  "language_info": {
   "codemirror_mode": {
    "name": "ipython",
    "version": 3
   },
   "file_extension": ".py",
   "mimetype": "text/x-python",
   "name": "python",
   "nbconvert_exporter": "python",
   "pygments_lexer": "ipython3",
   "version": "3.12.7"
  }
 },
 "nbformat": 4,
 "nbformat_minor": 5
}
