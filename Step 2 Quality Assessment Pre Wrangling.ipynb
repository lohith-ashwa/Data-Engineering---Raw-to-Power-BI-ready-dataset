{
 "cells": [
  {
   "cell_type": "code",
   "execution_count": 20,
   "id": "ffdd78b4-82c2-4a5c-a4b7-60798bd1920e",
   "metadata": {},
   "outputs": [
    {
     "name": "stdout",
     "output_type": "stream",
     "text": [
      "Top-level keys: dict_keys(['meta', 'info', 'innings'])\n",
      "\n",
      "Meta structure: {'data_version': '1.0.0', 'created': '2016-11-09', 'revision': 2}\n",
      "\n",
      "Info structure: {\n",
      "  \"balls_per_over\": 6,\n",
      "  \"city\": \"Perth\",\n",
      "  \"dates\": [\n",
      "    \"2016-11-03\",\n",
      "    \"2016-11-04\",\n",
      "    \"2016-11-05\",\n",
      "    \"2016-11-06\",\n",
      "    \"2016-11-07\"\n",
      "  ],\n",
      "  \"event\": {\n",
      "    \"match_number\": 1,\n",
      "    \"name\": \"South Africa in Australia Test Series\"\n",
      "  },\n",
      "  \"gender\": \"male\",\n",
      "  \"match_type\": \"Test\",\n",
      "  \"match_type_number\": 2230,\n",
      "  \"officials\": {\n",
      "    \"match_referees\": [\n",
      "      \"AJ Pycroft\"\n",
      "    ],\n",
      "    \"reserve_umpires\": [\n",
      "      \"SJ Nogajski\"\n",
      "    ],\n",
      "    \"tv_umpires\": [\n",
      "      \"RA Kettleborough\"\n",
      "    ],\n",
      "    \"umpires...\n",
      "\n",
      "Number of innings: 4\n",
      "First innings team: South Africa\n",
      "First innings overs: 64\n",
      "\n",
      "Sample delivery structure:\n",
      "{\n",
      "  \"over\": 0,\n",
      "  \"deliveries\": [\n",
      "    {\n",
      "      \"batter\": \"SC Cook\",\n",
      "      \"bowler\": \"MA Starc\",\n",
      "      \"non_striker\": \"D Elgar\",\n",
      "      \"runs\": {\n",
      "        \"batter\": 0,\n",
      "        \"extras\": 0,\n",
      "        \"total\": 0\n",
      "      }\n",
      "    },\n",
      "    {\n",
      "      \"batter\": \"SC Cook\",\n",
      "      \"bowler\": \"MA Starc\",\n",
      "      \"non_striker\": \"D Elgar\",\n",
      "      \"runs\": {\n",
      "        \"batter\": 0,\n",
      "        \"extras\": 0,\n",
      "        \"total\": 0\n",
      "      }\n",
      "    },\n",
      "    {\n",
      "      \"batter\": \"SC Cook\",\n",
      "      \"bowler\": \"MA Starc\",\n",
      "      \"non_striker\": \"D Elgar\",\n",
      "      \"runs\": {\n",
      "        \"batter\": 0,\n",
      "        \"extras\": 0,\n",
      "        \"total\": 0\n",
      "      }\n",
      "    },\n",
      "    {\n",
      "      \"batter\": \"SC Cook\",\n",
      "      \"bowler\": \"MA Starc\",\n",
      "      \"non_striker\": \"D Elgar\",\n",
      "      \"runs\": {\n",
      "        \"batter\": 0,\n",
      "        \"extras\": 0,\n",
      "        \"total\": 0\n",
      "      },\n",
      "      \"wickets\": [\n",
      "        {\n",
      "          \"kind\": \"caught\",\n",
      "          \"player_out\": \"SC Cook\",\n",
      "          \"fielders\": [\n",
      "            {\n",
      "              \"name\": \"MR Marsh\"\n",
      "            }\n",
      "          ]\n",
      "        }\n",
      "      ]\n",
      "    },\n",
      "    {\n",
      "      \"batter\": \"HM Amla\",\n",
      "      \"bowler\": \"MA Starc\",\n",
      "      \"non_striker\": \"D Elgar\",\n",
      "      \"runs\": {\n",
      "        \"batter\": 0,\n",
      "        \"extras\": 0,\n",
      "        \"total\": 0\n",
      "      }\n",
      "    },\n",
      "    {\n",
      "      \"batter\": \"HM Amla\",\n",
      "      \"bowler\": \"MA Starc\",\n",
      "      \"non_striker\": \"D Elgar\",\n",
      "      \"runs\": {\n",
      "        \"batter\": 0,\n",
      "        \"extras\": 0,\n",
      "        \"total\": 0\n",
      "      }\n",
      "    }\n",
      "  ]\n",
      "}\n"
     ]
    }
   ],
   "source": [
    "import json\n",
    "import os\n",
    "from glob import glob\n",
    "import pandas as pd\n",
    "from tqdm import tqdm  # For progress bars\n",
    "from fuzzywuzzy import fuzz\n",
    "from itertools import combinations\n",
    "import numpy as np\n",
    "from collections import defaultdict\n",
    "\n",
    "# Define path to your JSON files\n",
    "data_path = \"C:/Users/lohit/Desktop/Radboud University/Data Engineering (NWI-IMC073-2024)/Data & Codes/extracted_data_json/*.json\"\n",
    "\n",
    "# Function to explore a single JSON file in detail\n",
    "def explore_json_structure(file_path):\n",
    "    with open(file_path, 'r') as f:\n",
    "        data = json.load(f)\n",
    "    \n",
    "    print(\"Top-level keys:\", data.keys())\n",
    "    print(\"\\nMeta structure:\", data.get('meta', {}))\n",
    "    print(\"\\nInfo structure:\", json.dumps(data.get('info', {}), indent=2)[:500] + \"...\")\n",
    "    \n",
    "    # Explore innings structure if available\n",
    "    if 'innings' in data:\n",
    "        print(f\"\\nNumber of innings: {len(data['innings'])}\")\n",
    "        if data['innings']:\n",
    "            print(f\"First innings team: {data['innings'][0].get('team')}\")\n",
    "            print(f\"First innings overs: {len(data['innings'][0].get('overs', []))}\")\n",
    "            \n",
    "            # Sample one over\n",
    "            if data['innings'][0].get('overs'):\n",
    "                print(\"\\nSample delivery structure:\")\n",
    "                print(json.dumps(data['innings'][0]['overs'][0], indent=2))\n",
    "\n",
    "# Get sample file\n",
    "sample_files = glob(data_path)[:5]  # Just get first 5 files\n",
    "if sample_files:\n",
    "    explore_json_structure(sample_files[0])"
   ]
  },
  {
   "cell_type": "code",
   "execution_count": 13,
   "id": "55bcd988-c6d1-4688-a3fe-e005c3af27cf",
   "metadata": {},
   "outputs": [
    {
     "name": "stdout",
     "output_type": "stream",
     "text": [
      "Analyzing 18646 JSON files...\n",
      "Processed 1000/18646 files...\n",
      "Processed 2000/18646 files...\n",
      "Processed 3000/18646 files...\n",
      "Processed 4000/18646 files...\n",
      "Processed 5000/18646 files...\n",
      "Processed 6000/18646 files...\n",
      "Processed 7000/18646 files...\n",
      "Processed 8000/18646 files...\n",
      "Processed 9000/18646 files...\n",
      "Processed 10000/18646 files...\n",
      "Processed 11000/18646 files...\n",
      "Processed 12000/18646 files...\n",
      "Processed 13000/18646 files...\n",
      "Processed 14000/18646 files...\n",
      "Processed 15000/18646 files...\n",
      "Processed 16000/18646 files...\n",
      "Processed 17000/18646 files...\n",
      "Processed 18000/18646 files...\n",
      "\n",
      "Schema analysis complete for 18646 files:\n",
      "Files with errors: 0\n",
      "\n",
      "Top-level schema variations: 1\n",
      "  ('info', 'innings', 'meta'): 18646 files\n",
      "\n",
      "Info-level schema variations: 48\n",
      "  Top 5 variations:\n",
      "  ('balls_per_over', 'city', 'dates', 'event', 'gender', 'match_type', 'officials', 'outcome', 'overs', 'player_of_match', 'players', 'registry', 'season', 'team_type', 'teams', 'toss', 'venue'): 5803 files\n",
      "  ('balls_per_over', 'city', 'dates', 'event', 'gender', 'match_type', 'match_type_number', 'officials', 'outcome', 'overs', 'player_of_match', 'players', 'registry', 'season', 'team_type', 'teams', 'toss', 'venue'): 5445 files\n",
      "  ('balls_per_over', 'city', 'dates', 'event', 'gender', 'match_type', 'officials', 'outcome', 'players', 'registry', 'season', 'team_type', 'teams', 'toss', 'venue'): 1422 files\n",
      "  ('balls_per_over', 'city', 'dates', 'event', 'gender', 'match_type', 'officials', 'outcome', 'overs', 'players', 'registry', 'season', 'team_type', 'teams', 'toss', 'venue'): 1192 files\n",
      "  ('balls_per_over', 'city', 'dates', 'event', 'gender', 'match_type', 'missing', 'officials', 'outcome', 'overs', 'players', 'registry', 'season', 'team_type', 'teams', 'toss', 'venue'): 860 files\n",
      "\n",
      "Match types found:\n",
      "  Test: 861 files\n",
      "  ODI: 2937 files\n",
      "  T20: 11298 files\n",
      "  ODM: 1467 files\n",
      "  MDM: 1763 files\n",
      "  IT20: 320 files\n",
      "\n",
      "Innings-level schema variations: 23\n",
      "Over-level schema variations: 1\n",
      "Delivery-level schema variations: 17\n",
      "\n",
      "Analyzing delivery structure variations in more detail...\n",
      "\n",
      "Delivery fields frequency:\n",
      "  batter: 9663876 files (51828.1%)\n",
      "  bowler: 9663876 files (51828.1%)\n",
      "  non_striker: 9663876 files (51828.1%)\n",
      "  runs: 9663876 files (51828.1%)\n",
      "  extras: 326085 files (1748.8%)\n",
      "  wickets: 288858 files (1549.2%)\n",
      "  review: 14294 files (76.7%)\n",
      "  over: 3068 files (16.5%)\n",
      "  replacements: 2076 files (11.1%)\n",
      "\n",
      "Required delivery fields (present in ≥95% of files):\n",
      "  batter\n",
      "  bowler\n",
      "  non_striker\n",
      "  runs\n",
      "  wickets\n",
      "  extras\n",
      "\n",
      "Optional delivery fields (with presence percentage):\n",
      "  review: 76.7%\n",
      "  over: 16.5%\n",
      "  replacements: 11.1%\n"
     ]
    }
   ],
   "source": [
    "def get_deep_schema_profile(file_paths):\n",
    "    \"\"\"Analyze schema consistency across all JSON files at multiple levels\"\"\"\n",
    "    # Track variations\n",
    "    top_level_schema = Counter()\n",
    "    info_level_schema = Counter()\n",
    "    innings_level_schema = Counter()\n",
    "    over_level_schema = Counter()\n",
    "    delivery_level_schema = Counter()\n",
    "    \n",
    "    # Track match types\n",
    "    match_types = Counter()\n",
    "    \n",
    "    # Error tracking\n",
    "    errors = []\n",
    "    \n",
    "    # Process files\n",
    "    total_files = len(file_paths)\n",
    "    print(f\"Analyzing {total_files} JSON files...\")\n",
    "    \n",
    "    for i, file_path in enumerate(file_paths):\n",
    "        # Print progress for large datasets\n",
    "        if i % 1000 == 0 and i > 0:\n",
    "            print(f\"Processed {i}/{total_files} files...\")\n",
    "            \n",
    "        try:\n",
    "            with open(file_path, 'r') as f:\n",
    "                data = json.load(f)\n",
    "            \n",
    "            # Track top-level keys\n",
    "            top_level_schema[tuple(sorted(data.keys()))] += 1\n",
    "            \n",
    "            # Track info level keys if present\n",
    "            if 'info' in data:\n",
    "                info_level_schema[tuple(sorted(data['info'].keys()))] += 1\n",
    "                \n",
    "                # Track match type\n",
    "                if 'match_type' in data['info']:\n",
    "                    match_types[data['info']['match_type']] += 1\n",
    "            \n",
    "            # Track innings structure if present\n",
    "            if 'innings' in data and data['innings']:\n",
    "                for innings in data['innings']:\n",
    "                    innings_level_schema[tuple(sorted(innings.keys()))] += 1\n",
    "                    \n",
    "                    # Track over structure\n",
    "                    if 'overs' in innings and innings['overs']:\n",
    "                        for over in innings['overs']:\n",
    "                            over_level_schema[tuple(sorted(over.keys()))] += 1\n",
    "                            \n",
    "                            # Track delivery structure\n",
    "                            if 'deliveries' in over and over['deliveries']:\n",
    "                                for delivery in over['deliveries']:\n",
    "                                    delivery_level_schema[tuple(sorted(delivery.keys()))] += 1\n",
    "                \n",
    "        except Exception as e:\n",
    "            errors.append((file_path, str(e)))\n",
    "    \n",
    "    return {\n",
    "        'total_files': total_files,\n",
    "        'error_count': len(errors),\n",
    "        'errors': errors[:10],  # First 10 errors only\n",
    "        'top_level_variations': dict(top_level_schema),\n",
    "        'info_level_variations': dict(info_level_schema),\n",
    "        'innings_level_variations': dict(innings_level_schema),\n",
    "        'over_level_variations': dict(over_level_schema),\n",
    "        'delivery_level_variations': dict(delivery_level_schema),\n",
    "        'match_types': dict(match_types)\n",
    "    }\n",
    "\n",
    "# Get all JSON files\n",
    "all_files = glob(data_path)\n",
    "schema_profile = get_deep_schema_profile(all_files)\n",
    "\n",
    "# Print summary results\n",
    "print(f\"\\nSchema analysis complete for {schema_profile['total_files']} files:\")\n",
    "print(f\"Files with errors: {schema_profile['error_count']}\")\n",
    "\n",
    "print(f\"\\nTop-level schema variations: {len(schema_profile['top_level_variations'])}\")\n",
    "for schema, count in schema_profile['top_level_variations'].items():\n",
    "    print(f\"  {schema}: {count} files\")\n",
    "\n",
    "print(f\"\\nInfo-level schema variations: {len(schema_profile['info_level_variations'])}\")\n",
    "if len(schema_profile['info_level_variations']) <= 5:\n",
    "    for schema, count in schema_profile['info_level_variations'].items():\n",
    "        print(f\"  {schema}: {count} files\")\n",
    "else:\n",
    "    print(f\"  Top 5 variations:\")\n",
    "    for schema, count in sorted(schema_profile['info_level_variations'].items(), \n",
    "                               key=lambda x: x[1], reverse=True)[:5]:\n",
    "        print(f\"  {schema}: {count} files\")\n",
    "\n",
    "print(f\"\\nMatch types found:\")\n",
    "for match_type, count in schema_profile['match_types'].items():\n",
    "    print(f\"  {match_type}: {count} files\")\n",
    "\n",
    "print(f\"\\nInnings-level schema variations: {len(schema_profile['innings_level_variations'])}\")\n",
    "print(f\"Over-level schema variations: {len(schema_profile['over_level_variations'])}\")\n",
    "print(f\"Delivery-level schema variations: {len(schema_profile['delivery_level_variations'])}\")\n",
    "\n",
    "# Optional: Save detailed results to file for later analysis\n",
    "import pickle\n",
    "with open('schema_analysis_results.pkl', 'wb') as f:\n",
    "    pickle.dump(schema_profile, f)\n",
    "\n",
    "# Create a more detailed analysis of the delivery structure since it's the most important\n",
    "if schema_profile['delivery_level_variations']:\n",
    "    print(\"\\nAnalyzing delivery structure variations in more detail...\")\n",
    "    \n",
    "    # Count the frequency of each field in deliveries\n",
    "    delivery_fields = Counter()\n",
    "    for schema, count in schema_profile['delivery_level_variations'].items():\n",
    "        for field in schema:\n",
    "            delivery_fields[field] += count\n",
    "            \n",
    "    print(\"\\nDelivery fields frequency:\")\n",
    "    for field, count in delivery_fields.most_common():\n",
    "        percentage = (count / schema_profile['total_files']) * 100\n",
    "        print(f\"  {field}: {count} files ({percentage:.1f}%)\")\n",
    "    \n",
    "    # Identify required vs optional fields\n",
    "    required_threshold = 0.95  # Fields present in 95% of files are considered required\n",
    "    required_fields = []\n",
    "    optional_fields = []\n",
    "    \n",
    "    for field, count in delivery_fields.items():\n",
    "        percentage = count / schema_profile['total_files']\n",
    "        if percentage >= required_threshold:\n",
    "            required_fields.append(field)\n",
    "        else:\n",
    "            optional_fields.append((field, percentage))\n",
    "    \n",
    "    print(f\"\\nRequired delivery fields (present in ≥95% of files):\")\n",
    "    for field in required_fields:\n",
    "        print(f\"  {field}\")\n",
    "        \n",
    "    print(f\"\\nOptional delivery fields (with presence percentage):\")\n",
    "    for field, percentage in sorted(optional_fields, key=lambda x: x[1], reverse=True):\n",
    "        print(f\"  {field}: {percentage*100:.1f}%\")"
   ]
  },
  {
   "cell_type": "code",
   "execution_count": 16,
   "id": "eadcd881-b508-4ecb-a152-e214d873c572",
   "metadata": {},
   "outputs": [
    {
     "name": "stdout",
     "output_type": "stream",
     "text": [
      "Total match files found: 18646\n",
      "Processing batch 1/19 (files 1-1000)\n"
     ]
    },
    {
     "name": "stderr",
     "output_type": "stream",
     "text": [
      "Batch 1:  33%|██████████████████████▌                                              | 327/1000 [00:00<00:01, 634.55it/s]"
     ]
    },
    {
     "name": "stdout",
     "output_type": "stream",
     "text": [
      "Error processing C:/Users/lohit/Desktop/Radboud University/Data Engineering (NWI-IMC073-2024)/Data & Codes/extracted_data_json\\1033707.json: sequence item 1: expected str instance, dict found\n",
      "Error processing C:/Users/lohit/Desktop/Radboud University/Data Engineering (NWI-IMC073-2024)/Data & Codes/extracted_data_json\\1041523.json: sequence item 0: expected str instance, dict found\n",
      "Error processing C:/Users/lohit/Desktop/Radboud University/Data Engineering (NWI-IMC073-2024)/Data & Codes/extracted_data_json\\1041525.json: sequence item 0: expected str instance, dict found\n",
      "Error processing C:/Users/lohit/Desktop/Radboud University/Data Engineering (NWI-IMC073-2024)/Data & Codes/extracted_data_json\\1043953.json: sequence item 0: expected str instance, dict found\n",
      "Error processing C:/Users/lohit/Desktop/Radboud University/Data Engineering (NWI-IMC073-2024)/Data & Codes/extracted_data_json\\1043961.json: sequence item 0: expected str instance, dict found\n",
      "Error processing C:/Users/lohit/Desktop/Radboud University/Data Engineering (NWI-IMC073-2024)/Data & Codes/extracted_data_json\\1044203.json: sequence item 1: expected str instance, dict found\n",
      "Error processing C:/Users/lohit/Desktop/Radboud University/Data Engineering (NWI-IMC073-2024)/Data & Codes/extracted_data_json\\1044209.json: sequence item 0: expected str instance, dict found\n",
      "Error processing C:/Users/lohit/Desktop/Radboud University/Data Engineering (NWI-IMC073-2024)/Data & Codes/extracted_data_json\\1050611.json: sequence item 1: expected str instance, dict found\n",
      "Error processing C:/Users/lohit/Desktop/Radboud University/Data Engineering (NWI-IMC073-2024)/Data & Codes/extracted_data_json\\1050625.json: sequence item 0: expected str instance, dict found\n",
      "Error processing C:/Users/lohit/Desktop/Radboud University/Data Engineering (NWI-IMC073-2024)/Data & Codes/extracted_data_json\\1059195.json: sequence item 1: expected str instance, dict found\n",
      "Error processing C:/Users/lohit/Desktop/Radboud University/Data Engineering (NWI-IMC073-2024)/Data & Codes/extracted_data_json\\1059196.json: sequence item 1: expected str instance, dict found\n"
     ]
    },
    {
     "name": "stderr",
     "output_type": "stream",
     "text": [
      "Batch 1:  52%|███████████████████████████████████▍                                | 521/1000 [00:00<00:00, 1040.07it/s]"
     ]
    },
    {
     "name": "stdout",
     "output_type": "stream",
     "text": [
      "Error processing C:/Users/lohit/Desktop/Radboud University/Data Engineering (NWI-IMC073-2024)/Data & Codes/extracted_data_json\\1062580.json: sequence item 1: expected str instance, dict found\n",
      "Error processing C:/Users/lohit/Desktop/Radboud University/Data Engineering (NWI-IMC073-2024)/Data & Codes/extracted_data_json\\1068432.json: sequence item 1: expected str instance, dict found\n",
      "Error processing C:/Users/lohit/Desktop/Radboud University/Data Engineering (NWI-IMC073-2024)/Data & Codes/extracted_data_json\\1068441.json: sequence item 1: expected str instance, dict found\n",
      "Error processing C:/Users/lohit/Desktop/Radboud University/Data Engineering (NWI-IMC073-2024)/Data & Codes/extracted_data_json\\1068481.json: sequence item 1: expected str instance, dict found\n"
     ]
    },
    {
     "name": "stderr",
     "output_type": "stream",
     "text": [
      "Batch 1:  97%|██████████████████████████████████████████████████████████████████▋  | 967/1000 [00:01<00:00, 801.49it/s]"
     ]
    },
    {
     "name": "stdout",
     "output_type": "stream",
     "text": [
      "Error processing C:/Users/lohit/Desktop/Radboud University/Data Engineering (NWI-IMC073-2024)/Data & Codes/extracted_data_json\\1073401.json: sequence item 0: expected str instance, dict found\n",
      "Error processing C:/Users/lohit/Desktop/Radboud University/Data Engineering (NWI-IMC073-2024)/Data & Codes/extracted_data_json\\1073402.json: sequence item 0: expected str instance, dict found\n",
      "Error processing C:/Users/lohit/Desktop/Radboud University/Data Engineering (NWI-IMC073-2024)/Data & Codes/extracted_data_json\\1073403.json: sequence item 0: expected str instance, dict found\n",
      "Error processing C:/Users/lohit/Desktop/Radboud University/Data Engineering (NWI-IMC073-2024)/Data & Codes/extracted_data_json\\1073404.json: sequence item 1: expected str instance, dict found\n",
      "Error processing C:/Users/lohit/Desktop/Radboud University/Data Engineering (NWI-IMC073-2024)/Data & Codes/extracted_data_json\\1073405.json: sequence item 0: expected str instance, dict found\n",
      "Error processing C:/Users/lohit/Desktop/Radboud University/Data Engineering (NWI-IMC073-2024)/Data & Codes/extracted_data_json\\1073406.json: sequence item 0: expected str instance, dict found\n",
      "Error processing C:/Users/lohit/Desktop/Radboud University/Data Engineering (NWI-IMC073-2024)/Data & Codes/extracted_data_json\\1073407.json: sequence item 0: expected str instance, dict found\n",
      "Error processing C:/Users/lohit/Desktop/Radboud University/Data Engineering (NWI-IMC073-2024)/Data & Codes/extracted_data_json\\1073408.json: sequence item 0: expected str instance, dict found\n",
      "Error processing C:/Users/lohit/Desktop/Radboud University/Data Engineering (NWI-IMC073-2024)/Data & Codes/extracted_data_json\\1073409.json: sequence item 0: expected str instance, dict found\n",
      "Error processing C:/Users/lohit/Desktop/Radboud University/Data Engineering (NWI-IMC073-2024)/Data & Codes/extracted_data_json\\1073410.json: sequence item 0: expected str instance, dict found\n",
      "Error processing C:/Users/lohit/Desktop/Radboud University/Data Engineering (NWI-IMC073-2024)/Data & Codes/extracted_data_json\\1073411.json: sequence item 0: expected str instance, dict found\n",
      "Error processing C:/Users/lohit/Desktop/Radboud University/Data Engineering (NWI-IMC073-2024)/Data & Codes/extracted_data_json\\1073412.json: sequence item 0: expected str instance, dict found\n",
      "Error processing C:/Users/lohit/Desktop/Radboud University/Data Engineering (NWI-IMC073-2024)/Data & Codes/extracted_data_json\\1073413.json: sequence item 0: expected str instance, dict found\n",
      "Error processing C:/Users/lohit/Desktop/Radboud University/Data Engineering (NWI-IMC073-2024)/Data & Codes/extracted_data_json\\1073414.json: sequence item 0: expected str instance, dict found\n",
      "Error processing C:/Users/lohit/Desktop/Radboud University/Data Engineering (NWI-IMC073-2024)/Data & Codes/extracted_data_json\\1073415.json: sequence item 0: expected str instance, dict found\n",
      "Error processing C:/Users/lohit/Desktop/Radboud University/Data Engineering (NWI-IMC073-2024)/Data & Codes/extracted_data_json\\1073416.json: sequence item 0: expected str instance, dict found\n",
      "Error processing C:/Users/lohit/Desktop/Radboud University/Data Engineering (NWI-IMC073-2024)/Data & Codes/extracted_data_json\\1073417.json: sequence item 0: expected str instance, dict found\n",
      "Error processing C:/Users/lohit/Desktop/Radboud University/Data Engineering (NWI-IMC073-2024)/Data & Codes/extracted_data_json\\1073418.json: sequence item 0: expected str instance, dict found\n",
      "Error processing C:/Users/lohit/Desktop/Radboud University/Data Engineering (NWI-IMC073-2024)/Data & Codes/extracted_data_json\\1073419.json: sequence item 0: expected str instance, dict found\n",
      "Error processing C:/Users/lohit/Desktop/Radboud University/Data Engineering (NWI-IMC073-2024)/Data & Codes/extracted_data_json\\1073420.json: sequence item 0: expected str instance, dict found\n",
      "Error processing C:/Users/lohit/Desktop/Radboud University/Data Engineering (NWI-IMC073-2024)/Data & Codes/extracted_data_json\\1073421.json: sequence item 0: expected str instance, dict found\n",
      "Error processing C:/Users/lohit/Desktop/Radboud University/Data Engineering (NWI-IMC073-2024)/Data & Codes/extracted_data_json\\1073422.json: sequence item 0: expected str instance, dict found\n",
      "Error processing C:/Users/lohit/Desktop/Radboud University/Data Engineering (NWI-IMC073-2024)/Data & Codes/extracted_data_json\\1073423.json: sequence item 0: expected str instance, dict found\n",
      "Error processing C:/Users/lohit/Desktop/Radboud University/Data Engineering (NWI-IMC073-2024)/Data & Codes/extracted_data_json\\1073424.json: sequence item 0: expected str instance, dict found\n",
      "Error processing C:/Users/lohit/Desktop/Radboud University/Data Engineering (NWI-IMC073-2024)/Data & Codes/extracted_data_json\\1073425.json: sequence item 0: expected str instance, dict found\n",
      "Error processing C:/Users/lohit/Desktop/Radboud University/Data Engineering (NWI-IMC073-2024)/Data & Codes/extracted_data_json\\1073426.json: sequence item 0: expected str instance, dict found\n",
      "Error processing C:/Users/lohit/Desktop/Radboud University/Data Engineering (NWI-IMC073-2024)/Data & Codes/extracted_data_json\\1073427.json: sequence item 0: expected str instance, dict found\n",
      "Error processing C:/Users/lohit/Desktop/Radboud University/Data Engineering (NWI-IMC073-2024)/Data & Codes/extracted_data_json\\1073428.json: sequence item 0: expected str instance, dict found\n",
      "Error processing C:/Users/lohit/Desktop/Radboud University/Data Engineering (NWI-IMC073-2024)/Data & Codes/extracted_data_json\\1073429.json: sequence item 1: expected str instance, dict found\n",
      "Error processing C:/Users/lohit/Desktop/Radboud University/Data Engineering (NWI-IMC073-2024)/Data & Codes/extracted_data_json\\1073430.json: sequence item 0: expected str instance, dict found\n",
      "Error processing C:/Users/lohit/Desktop/Radboud University/Data Engineering (NWI-IMC073-2024)/Data & Codes/extracted_data_json\\1085947.json: sequence item 0: expected str instance, dict found\n",
      "Error processing C:/Users/lohit/Desktop/Radboud University/Data Engineering (NWI-IMC073-2024)/Data & Codes/extracted_data_json\\1085948.json: sequence item 0: expected str instance, dict found\n",
      "Error processing C:/Users/lohit/Desktop/Radboud University/Data Engineering (NWI-IMC073-2024)/Data & Codes/extracted_data_json\\1085949.json: sequence item 0: expected str instance, dict found\n",
      "Error processing C:/Users/lohit/Desktop/Radboud University/Data Engineering (NWI-IMC073-2024)/Data & Codes/extracted_data_json\\1085951.json: sequence item 0: expected str instance, dict found\n",
      "Error processing C:/Users/lohit/Desktop/Radboud University/Data Engineering (NWI-IMC073-2024)/Data & Codes/extracted_data_json\\1085952.json: sequence item 0: expected str instance, dict found\n",
      "Error processing C:/Users/lohit/Desktop/Radboud University/Data Engineering (NWI-IMC073-2024)/Data & Codes/extracted_data_json\\1085953.json: sequence item 0: expected str instance, dict found\n",
      "Error processing C:/Users/lohit/Desktop/Radboud University/Data Engineering (NWI-IMC073-2024)/Data & Codes/extracted_data_json\\1085954.json: sequence item 0: expected str instance, dict found\n",
      "Error processing C:/Users/lohit/Desktop/Radboud University/Data Engineering (NWI-IMC073-2024)/Data & Codes/extracted_data_json\\1085955.json: sequence item 0: expected str instance, dict found\n",
      "Error processing C:/Users/lohit/Desktop/Radboud University/Data Engineering (NWI-IMC073-2024)/Data & Codes/extracted_data_json\\1085956.json: sequence item 0: expected str instance, dict found\n",
      "Error processing C:/Users/lohit/Desktop/Radboud University/Data Engineering (NWI-IMC073-2024)/Data & Codes/extracted_data_json\\1085957.json: sequence item 0: expected str instance, dict found\n",
      "Error processing C:/Users/lohit/Desktop/Radboud University/Data Engineering (NWI-IMC073-2024)/Data & Codes/extracted_data_json\\1085958.json: sequence item 0: expected str instance, dict found\n",
      "Error processing C:/Users/lohit/Desktop/Radboud University/Data Engineering (NWI-IMC073-2024)/Data & Codes/extracted_data_json\\1085960.json: sequence item 0: expected str instance, dict found\n",
      "Error processing C:/Users/lohit/Desktop/Radboud University/Data Engineering (NWI-IMC073-2024)/Data & Codes/extracted_data_json\\1085961.json: sequence item 0: expected str instance, dict found\n",
      "Error processing C:/Users/lohit/Desktop/Radboud University/Data Engineering (NWI-IMC073-2024)/Data & Codes/extracted_data_json\\1085962.json: sequence item 0: expected str instance, dict found\n",
      "Error processing C:/Users/lohit/Desktop/Radboud University/Data Engineering (NWI-IMC073-2024)/Data & Codes/extracted_data_json\\1085964.json: sequence item 0: expected str instance, dict found\n",
      "Error processing C:/Users/lohit/Desktop/Radboud University/Data Engineering (NWI-IMC073-2024)/Data & Codes/extracted_data_json\\1085965.json: sequence item 0: expected str instance, dict found\n",
      "Error processing C:/Users/lohit/Desktop/Radboud University/Data Engineering (NWI-IMC073-2024)/Data & Codes/extracted_data_json\\1085966.json: sequence item 0: expected str instance, dict found\n",
      "Error processing C:/Users/lohit/Desktop/Radboud University/Data Engineering (NWI-IMC073-2024)/Data & Codes/extracted_data_json\\1085968.json: sequence item 0: expected str instance, dict found\n",
      "Error processing C:/Users/lohit/Desktop/Radboud University/Data Engineering (NWI-IMC073-2024)/Data & Codes/extracted_data_json\\1085969.json: sequence item 0: expected str instance, dict found\n",
      "Error processing C:/Users/lohit/Desktop/Radboud University/Data Engineering (NWI-IMC073-2024)/Data & Codes/extracted_data_json\\1085970.json: sequence item 0: expected str instance, dict found\n",
      "Error processing C:/Users/lohit/Desktop/Radboud University/Data Engineering (NWI-IMC073-2024)/Data & Codes/extracted_data_json\\1085971.json: sequence item 0: expected str instance, dict found\n",
      "Error processing C:/Users/lohit/Desktop/Radboud University/Data Engineering (NWI-IMC073-2024)/Data & Codes/extracted_data_json\\1085972.json: sequence item 0: expected str instance, dict found\n",
      "Error processing C:/Users/lohit/Desktop/Radboud University/Data Engineering (NWI-IMC073-2024)/Data & Codes/extracted_data_json\\1085974.json: sequence item 0: expected str instance, dict found\n",
      "Error processing C:/Users/lohit/Desktop/Radboud University/Data Engineering (NWI-IMC073-2024)/Data & Codes/extracted_data_json\\1086063.json: sequence item 0: expected str instance, dict found\n",
      "Error processing C:/Users/lohit/Desktop/Radboud University/Data Engineering (NWI-IMC073-2024)/Data & Codes/extracted_data_json\\1086064.json: sequence item 0: expected str instance, dict found\n",
      "Error processing C:/Users/lohit/Desktop/Radboud University/Data Engineering (NWI-IMC073-2024)/Data & Codes/extracted_data_json\\1089520.json: sequence item 0: expected str instance, dict found\n",
      "Error processing C:/Users/lohit/Desktop/Radboud University/Data Engineering (NWI-IMC073-2024)/Data & Codes/extracted_data_json\\1089521.json: sequence item 0: expected str instance, dict found\n",
      "Error processing C:/Users/lohit/Desktop/Radboud University/Data Engineering (NWI-IMC073-2024)/Data & Codes/extracted_data_json\\1089522.json: sequence item 0: expected str instance, dict found\n",
      "Error processing C:/Users/lohit/Desktop/Radboud University/Data Engineering (NWI-IMC073-2024)/Data & Codes/extracted_data_json\\1089525.json: sequence item 0: expected str instance, dict found\n",
      "Error processing C:/Users/lohit/Desktop/Radboud University/Data Engineering (NWI-IMC073-2024)/Data & Codes/extracted_data_json\\1089526.json: sequence item 0: expected str instance, dict found\n",
      "Error processing C:/Users/lohit/Desktop/Radboud University/Data Engineering (NWI-IMC073-2024)/Data & Codes/extracted_data_json\\1089529.json: sequence item 0: expected str instance, dict found\n",
      "Error processing C:/Users/lohit/Desktop/Radboud University/Data Engineering (NWI-IMC073-2024)/Data & Codes/extracted_data_json\\1089530.json: sequence item 0: expected str instance, dict found\n",
      "Error processing C:/Users/lohit/Desktop/Radboud University/Data Engineering (NWI-IMC073-2024)/Data & Codes/extracted_data_json\\1089531.json: sequence item 0: expected str instance, dict found\n",
      "Error processing C:/Users/lohit/Desktop/Radboud University/Data Engineering (NWI-IMC073-2024)/Data & Codes/extracted_data_json\\1089533.json: sequence item 0: expected str instance, dict found\n"
     ]
    },
    {
     "name": "stderr",
     "output_type": "stream",
     "text": [
      "Batch 1: 100%|████████████████████████████████████████████████████████████████████| 1000/1000 [00:01<00:00, 760.84it/s]\n"
     ]
    },
    {
     "name": "stdout",
     "output_type": "stream",
     "text": [
      "Saved intermediate results up to file 1000\n",
      "Processing batch 2/19 (files 1001-2000)\n"
     ]
    },
    {
     "name": "stderr",
     "output_type": "stream",
     "text": [
      "Batch 2:  60%|████████████████████████████████████████▉                           | 602/1000 [00:00<00:00, 1201.16it/s]"
     ]
    },
    {
     "name": "stdout",
     "output_type": "stream",
     "text": [
      "Error processing C:/Users/lohit/Desktop/Radboud University/Data Engineering (NWI-IMC073-2024)/Data & Codes/extracted_data_json\\1122904.json: sequence item 0: expected str instance, dict found\n",
      "Error processing C:/Users/lohit/Desktop/Radboud University/Data Engineering (NWI-IMC073-2024)/Data & Codes/extracted_data_json\\1122905.json: sequence item 0: expected str instance, dict found\n",
      "Error processing C:/Users/lohit/Desktop/Radboud University/Data Engineering (NWI-IMC073-2024)/Data & Codes/extracted_data_json\\1122906.json: sequence item 0: expected str instance, dict found\n",
      "Error processing C:/Users/lohit/Desktop/Radboud University/Data Engineering (NWI-IMC073-2024)/Data & Codes/extracted_data_json\\1123204.json: sequence item 0: expected str instance, dict found\n",
      "Error processing C:/Users/lohit/Desktop/Radboud University/Data Engineering (NWI-IMC073-2024)/Data & Codes/extracted_data_json\\1126717.json: sequence item 1: expected str instance, dict found\n",
      "Error processing C:/Users/lohit/Desktop/Radboud University/Data Engineering (NWI-IMC073-2024)/Data & Codes/extracted_data_json\\1126718.json: sequence item 0: expected str instance, dict found\n",
      "Error processing C:/Users/lohit/Desktop/Radboud University/Data Engineering (NWI-IMC073-2024)/Data & Codes/extracted_data_json\\1126719.json: sequence item 0: expected str instance, dict found\n",
      "Error processing C:/Users/lohit/Desktop/Radboud University/Data Engineering (NWI-IMC073-2024)/Data & Codes/extracted_data_json\\1126727.json: sequence item 1: expected str instance, dict found\n",
      "Error processing C:/Users/lohit/Desktop/Radboud University/Data Engineering (NWI-IMC073-2024)/Data & Codes/extracted_data_json\\1126728.json: sequence item 0: expected str instance, dict found\n",
      "Error processing C:/Users/lohit/Desktop/Radboud University/Data Engineering (NWI-IMC073-2024)/Data & Codes/extracted_data_json\\1126729.json: sequence item 0: expected str instance, dict found\n"
     ]
    },
    {
     "name": "stderr",
     "output_type": "stream",
     "text": [
      "Batch 2: 100%|████████████████████████████████████████████████████████████████████| 1000/1000 [00:01<00:00, 854.30it/s]\n"
     ]
    },
    {
     "name": "stdout",
     "output_type": "stream",
     "text": [
      "Error processing C:/Users/lohit/Desktop/Radboud University/Data Engineering (NWI-IMC073-2024)/Data & Codes/extracted_data_json\\1131232.json: sequence item 0: expected str instance, dict found\n",
      "Error processing C:/Users/lohit/Desktop/Radboud University/Data Engineering (NWI-IMC073-2024)/Data & Codes/extracted_data_json\\1131233.json: sequence item 0: expected str instance, dict found\n",
      "Error processing C:/Users/lohit/Desktop/Radboud University/Data Engineering (NWI-IMC073-2024)/Data & Codes/extracted_data_json\\1131777.json: sequence item 0: expected str instance, dict found\n",
      "Error processing C:/Users/lohit/Desktop/Radboud University/Data Engineering (NWI-IMC073-2024)/Data & Codes/extracted_data_json\\1131778.json: sequence item 0: expected str instance, dict found\n",
      "Processing batch 3/19 (files 2001-3000)\n"
     ]
    },
    {
     "name": "stderr",
     "output_type": "stream",
     "text": [
      "Batch 3:  12%|████████                                                            | 119/1000 [00:00<00:00, 1189.98it/s]"
     ]
    },
    {
     "name": "stdout",
     "output_type": "stream",
     "text": [
      "Error processing C:/Users/lohit/Desktop/Radboud University/Data Engineering (NWI-IMC073-2024)/Data & Codes/extracted_data_json\\1138193.json: sequence item 1: expected str instance, dict found\n",
      "Error processing C:/Users/lohit/Desktop/Radboud University/Data Engineering (NWI-IMC073-2024)/Data & Codes/extracted_data_json\\1138200.json: sequence item 0: expected str instance, dict found\n",
      "Error processing C:/Users/lohit/Desktop/Radboud University/Data Engineering (NWI-IMC073-2024)/Data & Codes/extracted_data_json\\1138201.json: sequence item 0: expected str instance, dict found\n"
     ]
    },
    {
     "name": "stderr",
     "output_type": "stream",
     "text": [
      "Batch 3:  24%|████████████████▏                                                   | 238/1000 [00:00<00:00, 1126.24it/s]"
     ]
    },
    {
     "name": "stdout",
     "output_type": "stream",
     "text": [
      "Error processing C:/Users/lohit/Desktop/Radboud University/Data Engineering (NWI-IMC073-2024)/Data & Codes/extracted_data_json\\1144436.json: sequence item 1: expected str instance, dict found\n",
      "Error processing C:/Users/lohit/Desktop/Radboud University/Data Engineering (NWI-IMC073-2024)/Data & Codes/extracted_data_json\\1144437.json: sequence item 0: expected str instance, dict found\n",
      "Error processing C:/Users/lohit/Desktop/Radboud University/Data Engineering (NWI-IMC073-2024)/Data & Codes/extracted_data_json\\1144438.json: sequence item 0: expected str instance, dict found\n",
      "Error processing C:/Users/lohit/Desktop/Radboud University/Data Engineering (NWI-IMC073-2024)/Data & Codes/extracted_data_json\\1144439.json: sequence item 0: expected str instance, dict found\n",
      "Error processing C:/Users/lohit/Desktop/Radboud University/Data Engineering (NWI-IMC073-2024)/Data & Codes/extracted_data_json\\1144982.json: sequence item 0: expected str instance, dict found\n",
      "Error processing C:/Users/lohit/Desktop/Radboud University/Data Engineering (NWI-IMC073-2024)/Data & Codes/extracted_data_json\\1144983.json: sequence item 0: expected str instance, dict found\n",
      "Error processing C:/Users/lohit/Desktop/Radboud University/Data Engineering (NWI-IMC073-2024)/Data & Codes/extracted_data_json\\1144984.json: sequence item 0: expected str instance, dict found\n",
      "Error processing C:/Users/lohit/Desktop/Radboud University/Data Engineering (NWI-IMC073-2024)/Data & Codes/extracted_data_json\\1145892.json: sequence item 2: expected str instance, dict found\n"
     ]
    },
    {
     "name": "stderr",
     "output_type": "stream",
     "text": [
      "Batch 3:  78%|████████████████████████████████████████████████████▉               | 778/1000 [00:00<00:00, 1270.21it/s]"
     ]
    },
    {
     "name": "stdout",
     "output_type": "stream",
     "text": [
      "Error processing C:/Users/lohit/Desktop/Radboud University/Data Engineering (NWI-IMC073-2024)/Data & Codes/extracted_data_json\\1153855.json: sequence item 0: expected str instance, dict found\n",
      "Error processing C:/Users/lohit/Desktop/Radboud University/Data Engineering (NWI-IMC073-2024)/Data & Codes/extracted_data_json\\1153856.json: sequence item 1: expected str instance, dict found\n",
      "Error processing C:/Users/lohit/Desktop/Radboud University/Data Engineering (NWI-IMC073-2024)/Data & Codes/extracted_data_json\\1153857.json: sequence item 1: expected str instance, dict found\n",
      "Error processing C:/Users/lohit/Desktop/Radboud University/Data Engineering (NWI-IMC073-2024)/Data & Codes/extracted_data_json\\1155304.json: sequence item 0: expected str instance, dict found\n",
      "Error processing C:/Users/lohit/Desktop/Radboud University/Data Engineering (NWI-IMC073-2024)/Data & Codes/extracted_data_json\\1156212.json: sequence item 0: expected str instance, dict found\n",
      "Error processing C:/Users/lohit/Desktop/Radboud University/Data Engineering (NWI-IMC073-2024)/Data & Codes/extracted_data_json\\1156214.json: sequence item 0: expected str instance, dict found\n",
      "Error processing C:/Users/lohit/Desktop/Radboud University/Data Engineering (NWI-IMC073-2024)/Data & Codes/extracted_data_json\\1157207.json: sequence item 1: expected str instance, dict found\n",
      "Error processing C:/Users/lohit/Desktop/Radboud University/Data Engineering (NWI-IMC073-2024)/Data & Codes/extracted_data_json\\1157208.json: sequence item 1: expected str instance, dict found\n",
      "Error processing C:/Users/lohit/Desktop/Radboud University/Data Engineering (NWI-IMC073-2024)/Data & Codes/extracted_data_json\\1157706.json: sequence item 1: expected str instance, dict found\n",
      "Error processing C:/Users/lohit/Desktop/Radboud University/Data Engineering (NWI-IMC073-2024)/Data & Codes/extracted_data_json\\1157707.json: sequence item 1: expected str instance, dict found\n",
      "Error processing C:/Users/lohit/Desktop/Radboud University/Data Engineering (NWI-IMC073-2024)/Data & Codes/extracted_data_json\\1157708.json: sequence item 1: expected str instance, dict found\n"
     ]
    },
    {
     "name": "stderr",
     "output_type": "stream",
     "text": [
      "Batch 3: 100%|███████████████████████████████████████████████████████████████████| 1000/1000 [00:00<00:00, 1029.44it/s]\n"
     ]
    },
    {
     "name": "stdout",
     "output_type": "stream",
     "text": [
      "Error processing C:/Users/lohit/Desktop/Radboud University/Data Engineering (NWI-IMC073-2024)/Data & Codes/extracted_data_json\\1161228.json: sequence item 0: expected str instance, dict found\n",
      "Error processing C:/Users/lohit/Desktop/Radboud University/Data Engineering (NWI-IMC073-2024)/Data & Codes/extracted_data_json\\1161229.json: sequence item 0: expected str instance, dict found\n",
      "Error processing C:/Users/lohit/Desktop/Radboud University/Data Engineering (NWI-IMC073-2024)/Data & Codes/extracted_data_json\\1161230.json: sequence item 0: expected str instance, dict found\n",
      "Processing batch 4/19 (files 3001-4000)\n"
     ]
    },
    {
     "name": "stderr",
     "output_type": "stream",
     "text": [
      "Batch 4:  46%|███████████████████████████████                                     | 457/1000 [00:00<00:00, 1171.02it/s]"
     ]
    },
    {
     "name": "stdout",
     "output_type": "stream",
     "text": [
      "Error processing C:/Users/lohit/Desktop/Radboud University/Data Engineering (NWI-IMC073-2024)/Data & Codes/extracted_data_json\\1167075.json: sequence item 0: expected str instance, dict found\n",
      "Error processing C:/Users/lohit/Desktop/Radboud University/Data Engineering (NWI-IMC073-2024)/Data & Codes/extracted_data_json\\1167078.json: sequence item 0: expected str instance, dict found\n",
      "Error processing C:/Users/lohit/Desktop/Radboud University/Data Engineering (NWI-IMC073-2024)/Data & Codes/extracted_data_json\\1167080.json: sequence item 0: expected str instance, dict found\n",
      "Error processing C:/Users/lohit/Desktop/Radboud University/Data Engineering (NWI-IMC073-2024)/Data & Codes/extracted_data_json\\1167085.json: sequence item 0: expected str instance, dict found\n",
      "Error processing C:/Users/lohit/Desktop/Radboud University/Data Engineering (NWI-IMC073-2024)/Data & Codes/extracted_data_json\\1168016.json: sequence item 0: expected str instance, dict found\n",
      "Error processing C:/Users/lohit/Desktop/Radboud University/Data Engineering (NWI-IMC073-2024)/Data & Codes/extracted_data_json\\1168017.json: sequence item 0: expected str instance, dict found\n",
      "Error processing C:/Users/lohit/Desktop/Radboud University/Data Engineering (NWI-IMC073-2024)/Data & Codes/extracted_data_json\\1168018.json: sequence item 0: expected str instance, dict found\n",
      "Error processing C:/Users/lohit/Desktop/Radboud University/Data Engineering (NWI-IMC073-2024)/Data & Codes/extracted_data_json\\1168022.json: sequence item 0: expected str instance, dict found\n",
      "Error processing C:/Users/lohit/Desktop/Radboud University/Data Engineering (NWI-IMC073-2024)/Data & Codes/extracted_data_json\\1168023.json: sequence item 0: expected str instance, dict found\n",
      "Error processing C:/Users/lohit/Desktop/Radboud University/Data Engineering (NWI-IMC073-2024)/Data & Codes/extracted_data_json\\1168024.json: sequence item 0: expected str instance, dict found\n",
      "Error processing C:/Users/lohit/Desktop/Radboud University/Data Engineering (NWI-IMC073-2024)/Data & Codes/extracted_data_json\\1168164.json: sequence item 0: expected str instance, dict found\n",
      "Error processing C:/Users/lohit/Desktop/Radboud University/Data Engineering (NWI-IMC073-2024)/Data & Codes/extracted_data_json\\1172160.json: sequence item 0: expected str instance, dict found\n",
      "Error processing C:/Users/lohit/Desktop/Radboud University/Data Engineering (NWI-IMC073-2024)/Data & Codes/extracted_data_json\\1172161.json: sequence item 0: expected str instance, dict found\n",
      "Error processing C:/Users/lohit/Desktop/Radboud University/Data Engineering (NWI-IMC073-2024)/Data & Codes/extracted_data_json\\1172162.json: sequence item 0: expected str instance, dict found\n",
      "Error processing C:/Users/lohit/Desktop/Radboud University/Data Engineering (NWI-IMC073-2024)/Data & Codes/extracted_data_json\\1172210.json: sequence item 0: expected str instance, dict found\n",
      "Error processing C:/Users/lohit/Desktop/Radboud University/Data Engineering (NWI-IMC073-2024)/Data & Codes/extracted_data_json\\1172211.json: sequence item 0: expected str instance, dict found\n"
     ]
    },
    {
     "name": "stderr",
     "output_type": "stream",
     "text": [
      "Batch 4:  79%|█████████████████████████████████████████████████████▊              | 792/1000 [00:00<00:00, 1386.40it/s]"
     ]
    },
    {
     "name": "stdout",
     "output_type": "stream",
     "text": [
      "Error processing C:/Users/lohit/Desktop/Radboud University/Data Engineering (NWI-IMC073-2024)/Data & Codes/extracted_data_json\\1176432.json: sequence item 0: expected str instance, dict found\n",
      "Error processing C:/Users/lohit/Desktop/Radboud University/Data Engineering (NWI-IMC073-2024)/Data & Codes/extracted_data_json\\1176433.json: sequence item 0: expected str instance, dict found\n",
      "Error processing C:/Users/lohit/Desktop/Radboud University/Data Engineering (NWI-IMC073-2024)/Data & Codes/extracted_data_json\\1176434.json: sequence item 0: expected str instance, dict found\n",
      "Error processing C:/Users/lohit/Desktop/Radboud University/Data Engineering (NWI-IMC073-2024)/Data & Codes/extracted_data_json\\1177015.json: sequence item 0: expected str instance, dict found\n",
      "Error processing C:/Users/lohit/Desktop/Radboud University/Data Engineering (NWI-IMC073-2024)/Data & Codes/extracted_data_json\\1177016.json: sequence item 0: expected str instance, dict found\n",
      "Error processing C:/Users/lohit/Desktop/Radboud University/Data Engineering (NWI-IMC073-2024)/Data & Codes/extracted_data_json\\1177017.json: sequence item 0: expected str instance, dict found\n",
      "Error processing C:/Users/lohit/Desktop/Radboud University/Data Engineering (NWI-IMC073-2024)/Data & Codes/extracted_data_json\\1183513.json: sequence item 0: expected str instance, dict found\n",
      "Error processing C:/Users/lohit/Desktop/Radboud University/Data Engineering (NWI-IMC073-2024)/Data & Codes/extracted_data_json\\1183514.json: sequence item 0: expected str instance, dict found\n",
      "Error processing C:/Users/lohit/Desktop/Radboud University/Data Engineering (NWI-IMC073-2024)/Data & Codes/extracted_data_json\\1183515.json: sequence item 0: expected str instance, dict found\n",
      "Error processing C:/Users/lohit/Desktop/Radboud University/Data Engineering (NWI-IMC073-2024)/Data & Codes/extracted_data_json\\1187715.json: sequence item 1: expected str instance, dict found\n",
      "Error processing C:/Users/lohit/Desktop/Radboud University/Data Engineering (NWI-IMC073-2024)/Data & Codes/extracted_data_json\\1187716.json: sequence item 1: expected str instance, dict found\n"
     ]
    },
    {
     "name": "stderr",
     "output_type": "stream",
     "text": [
      "Batch 4: 100%|███████████████████████████████████████████████████████████████████| 1000/1000 [00:00<00:00, 1069.31it/s]\n"
     ]
    },
    {
     "name": "stdout",
     "output_type": "stream",
     "text": [
      "Processing batch 5/19 (files 4001-5000)\n"
     ]
    },
    {
     "name": "stderr",
     "output_type": "stream",
     "text": [
      "Batch 5:  29%|███████████████████▋                                                | 290/1000 [00:00<00:00, 1500.65it/s]"
     ]
    },
    {
     "name": "stdout",
     "output_type": "stream",
     "text": [
      "Error processing C:/Users/lohit/Desktop/Radboud University/Data Engineering (NWI-IMC073-2024)/Data & Codes/extracted_data_json\\1198472.json: sequence item 0: expected str instance, dict found\n",
      "Error processing C:/Users/lohit/Desktop/Radboud University/Data Engineering (NWI-IMC073-2024)/Data & Codes/extracted_data_json\\1198474.json: sequence item 0: expected str instance, dict found\n",
      "Error processing C:/Users/lohit/Desktop/Radboud University/Data Engineering (NWI-IMC073-2024)/Data & Codes/extracted_data_json\\1200180.json: sequence item 0: expected str instance, dict found\n",
      "Error processing C:/Users/lohit/Desktop/Radboud University/Data Engineering (NWI-IMC073-2024)/Data & Codes/extracted_data_json\\1200181.json: sequence item 0: expected str instance, dict found\n",
      "Error processing C:/Users/lohit/Desktop/Radboud University/Data Engineering (NWI-IMC073-2024)/Data & Codes/extracted_data_json\\1200182.json: sequence item 0: expected str instance, dict found\n",
      "Error processing C:/Users/lohit/Desktop/Radboud University/Data Engineering (NWI-IMC073-2024)/Data & Codes/extracted_data_json\\1202249.json: sequence item 0: expected str instance, dict found\n",
      "Error processing C:/Users/lohit/Desktop/Radboud University/Data Engineering (NWI-IMC073-2024)/Data & Codes/extracted_data_json\\1202250.json: sequence item 0: expected str instance, dict found\n",
      "Error processing C:/Users/lohit/Desktop/Radboud University/Data Engineering (NWI-IMC073-2024)/Data & Codes/extracted_data_json\\1202251.json: sequence item 0: expected str instance, dict found\n",
      "Error processing C:/Users/lohit/Desktop/Radboud University/Data Engineering (NWI-IMC073-2024)/Data & Codes/extracted_data_json\\1205719.json: sequence item 1: expected str instance, dict found\n"
     ]
    },
    {
     "name": "stderr",
     "output_type": "stream",
     "text": [
      "Batch 5:  50%|█████████████████████████████████▋                                  | 495/1000 [00:00<00:00, 1744.10it/s]"
     ]
    },
    {
     "name": "stdout",
     "output_type": "stream",
     "text": [
      "Error processing C:/Users/lohit/Desktop/Radboud University/Data Engineering (NWI-IMC073-2024)/Data & Codes/extracted_data_json\\1205824.json: sequence item 1: expected str instance, dict found\n"
     ]
    },
    {
     "name": "stderr",
     "output_type": "stream",
     "text": [
      "Batch 5:  67%|█████████████████████████████████████████████▌                      | 670/1000 [00:00<00:00, 1592.00it/s]"
     ]
    },
    {
     "name": "stdout",
     "output_type": "stream",
     "text": [
      "Error processing C:/Users/lohit/Desktop/Radboud University/Data Engineering (NWI-IMC073-2024)/Data & Codes/extracted_data_json\\1208344.json: sequence item 0: expected str instance, dict found\n",
      "Error processing C:/Users/lohit/Desktop/Radboud University/Data Engineering (NWI-IMC073-2024)/Data & Codes/extracted_data_json\\1208345.json: sequence item 0: expected str instance, dict found\n",
      "Error processing C:/Users/lohit/Desktop/Radboud University/Data Engineering (NWI-IMC073-2024)/Data & Codes/extracted_data_json\\1208346.json: sequence item 0: expected str instance, dict found\n",
      "Error processing C:/Users/lohit/Desktop/Radboud University/Data Engineering (NWI-IMC073-2024)/Data & Codes/extracted_data_json\\1223944.json: sequence item 0: expected str instance, dict found\n",
      "Error processing C:/Users/lohit/Desktop/Radboud University/Data Engineering (NWI-IMC073-2024)/Data & Codes/extracted_data_json\\1223945.json: sequence item 0: expected str instance, dict found\n",
      "Error processing C:/Users/lohit/Desktop/Radboud University/Data Engineering (NWI-IMC073-2024)/Data & Codes/extracted_data_json\\1223946.json: sequence item 0: expected str instance, dict found\n"
     ]
    },
    {
     "name": "stderr",
     "output_type": "stream",
     "text": [
      "Batch 5: 100%|███████████████████████████████████████████████████████████████████| 1000/1000 [00:00<00:00, 1269.28it/s]\n"
     ]
    },
    {
     "name": "stdout",
     "output_type": "stream",
     "text": [
      "Error processing C:/Users/lohit/Desktop/Radboud University/Data Engineering (NWI-IMC073-2024)/Data & Codes/extracted_data_json\\1229326.json: sequence item 1: expected str instance, dict found\n",
      "Error processing C:/Users/lohit/Desktop/Radboud University/Data Engineering (NWI-IMC073-2024)/Data & Codes/extracted_data_json\\1229329.json: sequence item 1: expected str instance, dict found\n",
      "Error processing C:/Users/lohit/Desktop/Radboud University/Data Engineering (NWI-IMC073-2024)/Data & Codes/extracted_data_json\\1229330.json: sequence item 1: expected str instance, dict found\n",
      "Error processing C:/Users/lohit/Desktop/Radboud University/Data Engineering (NWI-IMC073-2024)/Data & Codes/extracted_data_json\\1229331.json: sequence item 1: expected str instance, dict found\n",
      "Error processing C:/Users/lohit/Desktop/Radboud University/Data Engineering (NWI-IMC073-2024)/Data & Codes/extracted_data_json\\1229332.json: sequence item 1: expected str instance, dict found\n",
      "Error processing C:/Users/lohit/Desktop/Radboud University/Data Engineering (NWI-IMC073-2024)/Data & Codes/extracted_data_json\\1229333.json: sequence item 1: expected str instance, dict found\n",
      "Error processing C:/Users/lohit/Desktop/Radboud University/Data Engineering (NWI-IMC073-2024)/Data & Codes/extracted_data_json\\1229334.json: sequence item 1: expected str instance, dict found\n",
      "Error processing C:/Users/lohit/Desktop/Radboud University/Data Engineering (NWI-IMC073-2024)/Data & Codes/extracted_data_json\\1229335.json: sequence item 0: expected str instance, dict found\n",
      "Error processing C:/Users/lohit/Desktop/Radboud University/Data Engineering (NWI-IMC073-2024)/Data & Codes/extracted_data_json\\1229336.json: sequence item 1: expected str instance, dict found\n",
      "Error processing C:/Users/lohit/Desktop/Radboud University/Data Engineering (NWI-IMC073-2024)/Data & Codes/extracted_data_json\\1229337.json: sequence item 1: expected str instance, dict found\n",
      "Error processing C:/Users/lohit/Desktop/Radboud University/Data Engineering (NWI-IMC073-2024)/Data & Codes/extracted_data_json\\1229338.json: sequence item 1: expected str instance, dict found\n",
      "Error processing C:/Users/lohit/Desktop/Radboud University/Data Engineering (NWI-IMC073-2024)/Data & Codes/extracted_data_json\\1229339.json: sequence item 1: expected str instance, dict found\n",
      "Error processing C:/Users/lohit/Desktop/Radboud University/Data Engineering (NWI-IMC073-2024)/Data & Codes/extracted_data_json\\1229340.json: sequence item 1: expected str instance, dict found\n",
      "Error processing C:/Users/lohit/Desktop/Radboud University/Data Engineering (NWI-IMC073-2024)/Data & Codes/extracted_data_json\\1229341.json: sequence item 1: expected str instance, dict found\n",
      "Error processing C:/Users/lohit/Desktop/Radboud University/Data Engineering (NWI-IMC073-2024)/Data & Codes/extracted_data_json\\1229342.json: sequence item 1: expected str instance, dict found\n",
      "Error processing C:/Users/lohit/Desktop/Radboud University/Data Engineering (NWI-IMC073-2024)/Data & Codes/extracted_data_json\\1229343.json: sequence item 0: expected str instance, dict found\n",
      "Error processing C:/Users/lohit/Desktop/Radboud University/Data Engineering (NWI-IMC073-2024)/Data & Codes/extracted_data_json\\1229344.json: sequence item 1: expected str instance, dict found\n",
      "Error processing C:/Users/lohit/Desktop/Radboud University/Data Engineering (NWI-IMC073-2024)/Data & Codes/extracted_data_json\\1229345.json: sequence item 1: expected str instance, dict found\n",
      "Error processing C:/Users/lohit/Desktop/Radboud University/Data Engineering (NWI-IMC073-2024)/Data & Codes/extracted_data_json\\1229346.json: sequence item 1: expected str instance, dict found\n",
      "Error processing C:/Users/lohit/Desktop/Radboud University/Data Engineering (NWI-IMC073-2024)/Data & Codes/extracted_data_json\\1229347.json: sequence item 1: expected str instance, dict found\n",
      "Error processing C:/Users/lohit/Desktop/Radboud University/Data Engineering (NWI-IMC073-2024)/Data & Codes/extracted_data_json\\1229348.json: sequence item 1: expected str instance, dict found\n",
      "Error processing C:/Users/lohit/Desktop/Radboud University/Data Engineering (NWI-IMC073-2024)/Data & Codes/extracted_data_json\\1229349.json: sequence item 1: expected str instance, dict found\n",
      "Error processing C:/Users/lohit/Desktop/Radboud University/Data Engineering (NWI-IMC073-2024)/Data & Codes/extracted_data_json\\1229350.json: sequence item 0: expected str instance, dict found\n",
      "Processing batch 6/19 (files 5001-6000)\n"
     ]
    },
    {
     "name": "stderr",
     "output_type": "stream",
     "text": [
      "Batch 6:  42%|█████████████████████████████                                         | 416/1000 [00:04<00:06, 95.57it/s]"
     ]
    },
    {
     "name": "stdout",
     "output_type": "stream",
     "text": [
      "Error processing C:/Users/lohit/Desktop/Radboud University/Data Engineering (NWI-IMC073-2024)/Data & Codes/extracted_data_json\\1244843.json: sequence item 0: expected str instance, dict found\n",
      "Error processing C:/Users/lohit/Desktop/Radboud University/Data Engineering (NWI-IMC073-2024)/Data & Codes/extracted_data_json\\1244844.json: sequence item 1: expected str instance, dict found\n",
      "Error processing C:/Users/lohit/Desktop/Radboud University/Data Engineering (NWI-IMC073-2024)/Data & Codes/extracted_data_json\\1244845.json: sequence item 0: expected str instance, dict found\n"
     ]
    },
    {
     "name": "stderr",
     "output_type": "stream",
     "text": [
      "Batch 6:  46%|████████████████████████████████▎                                     | 461/1000 [00:05<00:05, 94.35it/s]"
     ]
    },
    {
     "name": "stdout",
     "output_type": "stream",
     "text": [
      "Error processing C:/Users/lohit/Desktop/Radboud University/Data Engineering (NWI-IMC073-2024)/Data & Codes/extracted_data_json\\1249233.json: sequence item 0: expected str instance, dict found\n",
      "Error processing C:/Users/lohit/Desktop/Radboud University/Data Engineering (NWI-IMC073-2024)/Data & Codes/extracted_data_json\\1249234.json: sequence item 0: expected str instance, dict found\n",
      "Error processing C:/Users/lohit/Desktop/Radboud University/Data Engineering (NWI-IMC073-2024)/Data & Codes/extracted_data_json\\1249241.json: sequence item 0: expected str instance, dict found\n",
      "Error processing C:/Users/lohit/Desktop/Radboud University/Data Engineering (NWI-IMC073-2024)/Data & Codes/extracted_data_json\\1249242.json: sequence item 0: expected str instance, dict found\n",
      "Error processing C:/Users/lohit/Desktop/Radboud University/Data Engineering (NWI-IMC073-2024)/Data & Codes/extracted_data_json\\1249243.json: sequence item 0: expected str instance, dict found\n",
      "Error processing C:/Users/lohit/Desktop/Radboud University/Data Engineering (NWI-IMC073-2024)/Data & Codes/extracted_data_json\\1249285.json: sequence item 0: expected str instance, dict found\n"
     ]
    },
    {
     "name": "stderr",
     "output_type": "stream",
     "text": [
      "Batch 6:  69%|████████████████████████████████████████████████▍                     | 692/1000 [00:07<00:03, 94.66it/s]"
     ]
    },
    {
     "name": "stdout",
     "output_type": "stream",
     "text": [
      "Error processing C:/Users/lohit/Desktop/Radboud University/Data Engineering (NWI-IMC073-2024)/Data & Codes/extracted_data_json\\1252264.json: sequence item 0: expected str instance, dict found\n",
      "Error processing C:/Users/lohit/Desktop/Radboud University/Data Engineering (NWI-IMC073-2024)/Data & Codes/extracted_data_json\\1252265.json: sequence item 0: expected str instance, dict found\n",
      "Error processing C:/Users/lohit/Desktop/Radboud University/Data Engineering (NWI-IMC073-2024)/Data & Codes/extracted_data_json\\1252266.json: sequence item 0: expected str instance, dict found\n",
      "Error processing C:/Users/lohit/Desktop/Radboud University/Data Engineering (NWI-IMC073-2024)/Data & Codes/extracted_data_json\\1252267.json: sequence item 0: expected str instance, dict found\n",
      "Error processing C:/Users/lohit/Desktop/Radboud University/Data Engineering (NWI-IMC073-2024)/Data & Codes/extracted_data_json\\1252268.json: sequence item 0: expected str instance, dict found\n",
      "Error processing C:/Users/lohit/Desktop/Radboud University/Data Engineering (NWI-IMC073-2024)/Data & Codes/extracted_data_json\\1252269.json: sequence item 0: expected str instance, dict found\n",
      "Error processing C:/Users/lohit/Desktop/Radboud University/Data Engineering (NWI-IMC073-2024)/Data & Codes/extracted_data_json\\1252270.json: sequence item 0: expected str instance, dict found\n",
      "Error processing C:/Users/lohit/Desktop/Radboud University/Data Engineering (NWI-IMC073-2024)/Data & Codes/extracted_data_json\\1252271.json: sequence item 0: expected str instance, dict found\n",
      "Error processing C:/Users/lohit/Desktop/Radboud University/Data Engineering (NWI-IMC073-2024)/Data & Codes/extracted_data_json\\1252272.json: sequence item 0: expected str instance, dict found\n",
      "Error processing C:/Users/lohit/Desktop/Radboud University/Data Engineering (NWI-IMC073-2024)/Data & Codes/extracted_data_json\\1252273.json: sequence item 0: expected str instance, dict found\n",
      "Error processing C:/Users/lohit/Desktop/Radboud University/Data Engineering (NWI-IMC073-2024)/Data & Codes/extracted_data_json\\1252274.json: sequence item 0: expected str instance, dict found\n",
      "Error processing C:/Users/lohit/Desktop/Radboud University/Data Engineering (NWI-IMC073-2024)/Data & Codes/extracted_data_json\\1252275.json: sequence item 0: expected str instance, dict found\n",
      "Error processing C:/Users/lohit/Desktop/Radboud University/Data Engineering (NWI-IMC073-2024)/Data & Codes/extracted_data_json\\1252276.json: sequence item 0: expected str instance, dict found\n",
      "Error processing C:/Users/lohit/Desktop/Radboud University/Data Engineering (NWI-IMC073-2024)/Data & Codes/extracted_data_json\\1252277.json: sequence item 0: expected str instance, dict found\n",
      "Error processing C:/Users/lohit/Desktop/Radboud University/Data Engineering (NWI-IMC073-2024)/Data & Codes/extracted_data_json\\1252278.json: sequence item 0: expected str instance, dict found\n",
      "Error processing C:/Users/lohit/Desktop/Radboud University/Data Engineering (NWI-IMC073-2024)/Data & Codes/extracted_data_json\\1252279.json: sequence item 0: expected str instance, dict found\n",
      "Error processing C:/Users/lohit/Desktop/Radboud University/Data Engineering (NWI-IMC073-2024)/Data & Codes/extracted_data_json\\1252280.json: sequence item 0: expected str instance, dict found\n",
      "Error processing C:/Users/lohit/Desktop/Radboud University/Data Engineering (NWI-IMC073-2024)/Data & Codes/extracted_data_json\\1252281.json: sequence item 0: expected str instance, dict found\n",
      "Error processing C:/Users/lohit/Desktop/Radboud University/Data Engineering (NWI-IMC073-2024)/Data & Codes/extracted_data_json\\1252282.json: sequence item 0: expected str instance, dict found\n",
      "Error processing C:/Users/lohit/Desktop/Radboud University/Data Engineering (NWI-IMC073-2024)/Data & Codes/extracted_data_json\\1252283.json: sequence item 0: expected str instance, dict found\n",
      "Error processing C:/Users/lohit/Desktop/Radboud University/Data Engineering (NWI-IMC073-2024)/Data & Codes/extracted_data_json\\1252284.json: sequence item 0: expected str instance, dict found\n"
     ]
    },
    {
     "name": "stderr",
     "output_type": "stream",
     "text": [
      "Batch 6:  71%|█████████████████████████████████████████████████▎                   | 714/1000 [00:07<00:02, 100.18it/s]"
     ]
    },
    {
     "name": "stdout",
     "output_type": "stream",
     "text": [
      "Error processing C:/Users/lohit/Desktop/Radboud University/Data Engineering (NWI-IMC073-2024)/Data & Codes/extracted_data_json\\1252285.json: sequence item 0: expected str instance, dict found\n",
      "Error processing C:/Users/lohit/Desktop/Radboud University/Data Engineering (NWI-IMC073-2024)/Data & Codes/extracted_data_json\\1252286.json: sequence item 0: expected str instance, dict found\n",
      "Error processing C:/Users/lohit/Desktop/Radboud University/Data Engineering (NWI-IMC073-2024)/Data & Codes/extracted_data_json\\1252287.json: sequence item 0: expected str instance, dict found\n",
      "Error processing C:/Users/lohit/Desktop/Radboud University/Data Engineering (NWI-IMC073-2024)/Data & Codes/extracted_data_json\\1252288.json: sequence item 0: expected str instance, dict found\n",
      "Error processing C:/Users/lohit/Desktop/Radboud University/Data Engineering (NWI-IMC073-2024)/Data & Codes/extracted_data_json\\1252289.json: sequence item 0: expected str instance, dict found\n",
      "Error processing C:/Users/lohit/Desktop/Radboud University/Data Engineering (NWI-IMC073-2024)/Data & Codes/extracted_data_json\\1252290.json: sequence item 0: expected str instance, dict found\n",
      "Error processing C:/Users/lohit/Desktop/Radboud University/Data Engineering (NWI-IMC073-2024)/Data & Codes/extracted_data_json\\1252291.json: sequence item 0: expected str instance, dict found\n",
      "Error processing C:/Users/lohit/Desktop/Radboud University/Data Engineering (NWI-IMC073-2024)/Data & Codes/extracted_data_json\\1252292.json: sequence item 0: expected str instance, dict found\n",
      "Error processing C:/Users/lohit/Desktop/Radboud University/Data Engineering (NWI-IMC073-2024)/Data & Codes/extracted_data_json\\1252293.json: sequence item 0: expected str instance, dict found\n"
     ]
    },
    {
     "name": "stderr",
     "output_type": "stream",
     "text": [
      "Batch 6:  82%|████████████████████████████████████████████████████████▏            | 815/1000 [00:08<00:01, 133.03it/s]"
     ]
    },
    {
     "name": "stdout",
     "output_type": "stream",
     "text": [
      "Error processing C:/Users/lohit/Desktop/Radboud University/Data Engineering (NWI-IMC073-2024)/Data & Codes/extracted_data_json\\1253267.json: sequence item 0: expected str instance, dict found\n",
      "Error processing C:/Users/lohit/Desktop/Radboud University/Data Engineering (NWI-IMC073-2024)/Data & Codes/extracted_data_json\\1253268.json: sequence item 0: expected str instance, dict found\n",
      "Error processing C:/Users/lohit/Desktop/Radboud University/Data Engineering (NWI-IMC073-2024)/Data & Codes/extracted_data_json\\1253270.json: sequence item 0: expected str instance, dict found\n",
      "Error processing C:/Users/lohit/Desktop/Radboud University/Data Engineering (NWI-IMC073-2024)/Data & Codes/extracted_data_json\\1253271.json: sequence item 0: expected str instance, dict found\n"
     ]
    },
    {
     "name": "stderr",
     "output_type": "stream",
     "text": [
      "Batch 6: 100%|█████████████████████████████████████████████████████████████████████| 1000/1000 [00:10<00:00, 99.56it/s]\n"
     ]
    },
    {
     "name": "stdout",
     "output_type": "stream",
     "text": [
      "Saved intermediate results up to file 6000\n",
      "Processing batch 7/19 (files 6001-7000)\n"
     ]
    },
    {
     "name": "stderr",
     "output_type": "stream",
     "text": [
      "Batch 7: 100%|█████████████████████████████████████████████████████████████████████| 1000/1000 [00:10<00:00, 97.37it/s]\n"
     ]
    },
    {
     "name": "stdout",
     "output_type": "stream",
     "text": [
      "Processing batch 8/19 (files 7001-8000)\n"
     ]
    },
    {
     "name": "stderr",
     "output_type": "stream",
     "text": [
      "Batch 8:  96%|██████████████████████████████████████████████████████████████████▎  | 961/1000 [00:09<00:00, 100.71it/s]"
     ]
    },
    {
     "name": "stdout",
     "output_type": "stream",
     "text": [
      "Error processing C:/Users/lohit/Desktop/Radboud University/Data Engineering (NWI-IMC073-2024)/Data & Codes/extracted_data_json\\1321304.json: sequence item 0: expected str instance, dict found\n"
     ]
    },
    {
     "name": "stderr",
     "output_type": "stream",
     "text": [
      "Batch 8: 100%|████████████████████████████████████████████████████████████████████| 1000/1000 [00:09<00:00, 105.23it/s]\n"
     ]
    },
    {
     "name": "stdout",
     "output_type": "stream",
     "text": [
      "Processing batch 9/19 (files 8001-9000)\n"
     ]
    },
    {
     "name": "stderr",
     "output_type": "stream",
     "text": [
      "Batch 9:  73%|██████████████████████████████████████████████████▉                   | 727/1000 [00:07<00:02, 98.10it/s]"
     ]
    },
    {
     "name": "stdout",
     "output_type": "stream",
     "text": [
      "Error processing C:/Users/lohit/Desktop/Radboud University/Data Engineering (NWI-IMC073-2024)/Data & Codes/extracted_data_json\\1343837.json: sequence item 0: expected str instance, dict found\n",
      "Error processing C:/Users/lohit/Desktop/Radboud University/Data Engineering (NWI-IMC073-2024)/Data & Codes/extracted_data_json\\1343839.json: sequence item 0: expected str instance, dict found\n",
      "Error processing C:/Users/lohit/Desktop/Radboud University/Data Engineering (NWI-IMC073-2024)/Data & Codes/extracted_data_json\\1343840.json: sequence item 0: expected str instance, dict found\n",
      "Error processing C:/Users/lohit/Desktop/Radboud University/Data Engineering (NWI-IMC073-2024)/Data & Codes/extracted_data_json\\1343842.json: sequence item 1: expected str instance, dict found\n"
     ]
    },
    {
     "name": "stderr",
     "output_type": "stream",
     "text": [
      "Batch 9: 100%|█████████████████████████████████████████████████████████████████████| 1000/1000 [00:10<00:00, 94.61it/s]\n"
     ]
    },
    {
     "name": "stdout",
     "output_type": "stream",
     "text": [
      "Processing batch 10/19 (files 9001-10000)\n"
     ]
    },
    {
     "name": "stderr",
     "output_type": "stream",
     "text": [
      "Batch 10: 100%|███████████████████████████████████████████████████████████████████| 1000/1000 [00:09<00:00, 103.48it/s]\n"
     ]
    },
    {
     "name": "stdout",
     "output_type": "stream",
     "text": [
      "Processing batch 11/19 (files 10001-11000)\n"
     ]
    },
    {
     "name": "stderr",
     "output_type": "stream",
     "text": [
      "Batch 11: 100%|████████████████████████████████████████████████████████████████████| 1000/1000 [00:10<00:00, 96.93it/s]\n"
     ]
    },
    {
     "name": "stdout",
     "output_type": "stream",
     "text": [
      "Saved intermediate results up to file 11000\n",
      "Processing batch 12/19 (files 11001-12000)\n"
     ]
    },
    {
     "name": "stderr",
     "output_type": "stream",
     "text": [
      "Batch 12:  12%|████████▏                                                           | 121/1000 [00:01<00:07, 118.56it/s]"
     ]
    },
    {
     "name": "stdout",
     "output_type": "stream",
     "text": [
      "Error processing C:/Users/lohit/Desktop/Radboud University/Data Engineering (NWI-IMC073-2024)/Data & Codes/extracted_data_json\\1411265.json: sequence item 0: expected str instance, dict found\n"
     ]
    },
    {
     "name": "stderr",
     "output_type": "stream",
     "text": [
      "Batch 12: 100%|███████████████████████████████████████████████████████████████████| 1000/1000 [00:08<00:00, 111.97it/s]\n"
     ]
    },
    {
     "name": "stdout",
     "output_type": "stream",
     "text": [
      "Processing batch 13/19 (files 12001-13000)\n"
     ]
    },
    {
     "name": "stderr",
     "output_type": "stream",
     "text": [
      "Batch 13:  28%|███████████████████▍                                                | 285/1000 [00:02<00:06, 108.42it/s]"
     ]
    },
    {
     "name": "stdout",
     "output_type": "stream",
     "text": [
      "Error processing C:/Users/lohit/Desktop/Radboud University/Data Engineering (NWI-IMC073-2024)/Data & Codes/extracted_data_json\\1442656.json: sequence item 0: expected str instance, dict found\n"
     ]
    },
    {
     "name": "stderr",
     "output_type": "stream",
     "text": [
      "Batch 13:  31%|████████████████████▉                                               | 307/1000 [00:02<00:06, 105.35it/s]"
     ]
    },
    {
     "name": "stdout",
     "output_type": "stream",
     "text": [
      "Error processing C:/Users/lohit/Desktop/Radboud University/Data Engineering (NWI-IMC073-2024)/Data & Codes/extracted_data_json\\1442683.json: sequence item 0: expected str instance, dict found\n"
     ]
    },
    {
     "name": "stderr",
     "output_type": "stream",
     "text": [
      "Batch 13: 100%|████████████████████████████████████████████████████████████████████| 1000/1000 [00:10<00:00, 99.90it/s]\n"
     ]
    },
    {
     "name": "stdout",
     "output_type": "stream",
     "text": [
      "Processing batch 14/19 (files 13001-14000)\n"
     ]
    },
    {
     "name": "stderr",
     "output_type": "stream",
     "text": [
      "Batch 14:  42%|████████████████████████████▉                                        | 420/1000 [00:04<00:05, 99.24it/s]"
     ]
    },
    {
     "name": "stdout",
     "output_type": "stream",
     "text": [
      "Error processing C:/Users/lohit/Desktop/Radboud University/Data Engineering (NWI-IMC073-2024)/Data & Codes/extracted_data_json\\216271.json: sequence item 0: expected str instance, dict found\n",
      "Error processing C:/Users/lohit/Desktop/Radboud University/Data Engineering (NWI-IMC073-2024)/Data & Codes/extracted_data_json\\216669.json: sequence item 0: expected str instance, dict found\n",
      "Error processing C:/Users/lohit/Desktop/Radboud University/Data Engineering (NWI-IMC073-2024)/Data & Codes/extracted_data_json\\217481.json: sequence item 0: expected str instance, dict found\n",
      "Error processing C:/Users/lohit/Desktop/Radboud University/Data Engineering (NWI-IMC073-2024)/Data & Codes/extracted_data_json\\217647.json: sequence item 0: expected str instance, dict found\n",
      "Error processing C:/Users/lohit/Desktop/Radboud University/Data Engineering (NWI-IMC073-2024)/Data & Codes/extracted_data_json\\217648.json: sequence item 0: expected str instance, dict found\n",
      "Error processing C:/Users/lohit/Desktop/Radboud University/Data Engineering (NWI-IMC073-2024)/Data & Codes/extracted_data_json\\217979.json: sequence item 0: expected str instance, dict found\n",
      "Error processing C:/Users/lohit/Desktop/Radboud University/Data Engineering (NWI-IMC073-2024)/Data & Codes/extracted_data_json\\221083.json: sequence item 0: expected str instance, dict found\n",
      "Error processing C:/Users/lohit/Desktop/Radboud University/Data Engineering (NWI-IMC073-2024)/Data & Codes/extracted_data_json\\223018.json: sequence item 0: expected str instance, dict found\n",
      "Error processing C:/Users/lohit/Desktop/Radboud University/Data Engineering (NWI-IMC073-2024)/Data & Codes/extracted_data_json\\223334.json: sequence item 0: expected str instance, dict found\n"
     ]
    },
    {
     "name": "stderr",
     "output_type": "stream",
     "text": [
      "Batch 14:  44%|██████████████████████████████▍                                      | 442/1000 [00:04<00:05, 97.54it/s]"
     ]
    },
    {
     "name": "stdout",
     "output_type": "stream",
     "text": [
      "Error processing C:/Users/lohit/Desktop/Radboud University/Data Engineering (NWI-IMC073-2024)/Data & Codes/extracted_data_json\\223335.json: sequence item 0: expected str instance, dict found\n",
      "Error processing C:/Users/lohit/Desktop/Radboud University/Data Engineering (NWI-IMC073-2024)/Data & Codes/extracted_data_json\\224044.json: sequence item 0: expected str instance, dict found\n",
      "Error processing C:/Users/lohit/Desktop/Radboud University/Data Engineering (NWI-IMC073-2024)/Data & Codes/extracted_data_json\\224227.json: sequence item 0: expected str instance, dict found\n",
      "Error processing C:/Users/lohit/Desktop/Radboud University/Data Engineering (NWI-IMC073-2024)/Data & Codes/extracted_data_json\\225171.json: sequence item 0: expected str instance, dict found\n",
      "Error processing C:/Users/lohit/Desktop/Radboud University/Data Engineering (NWI-IMC073-2024)/Data & Codes/extracted_data_json\\225254.json: sequence item 0: expected str instance, dict found\n"
     ]
    },
    {
     "name": "stderr",
     "output_type": "stream",
     "text": [
      "Batch 14:  47%|████████████████████████████████▍                                    | 471/1000 [00:04<00:06, 84.24it/s]"
     ]
    },
    {
     "name": "stdout",
     "output_type": "stream",
     "text": [
      "Error processing C:/Users/lohit/Desktop/Radboud University/Data Engineering (NWI-IMC073-2024)/Data & Codes/extracted_data_json\\225959.json: sequence item 0: expected str instance, dict found\n",
      "Error processing C:/Users/lohit/Desktop/Radboud University/Data Engineering (NWI-IMC073-2024)/Data & Codes/extracted_data_json\\226352.json: sequence item 0: expected str instance, dict found\n",
      "Error processing C:/Users/lohit/Desktop/Radboud University/Data Engineering (NWI-IMC073-2024)/Data & Codes/extracted_data_json\\226354.json: sequence item 0: expected str instance, dict found\n",
      "Error processing C:/Users/lohit/Desktop/Radboud University/Data Engineering (NWI-IMC073-2024)/Data & Codes/extracted_data_json\\226356.json: sequence item 0: expected str instance, dict found\n",
      "Error processing C:/Users/lohit/Desktop/Radboud University/Data Engineering (NWI-IMC073-2024)/Data & Codes/extracted_data_json\\226359.json: sequence item 0: expected str instance, dict found\n",
      "Error processing C:/Users/lohit/Desktop/Radboud University/Data Engineering (NWI-IMC073-2024)/Data & Codes/extracted_data_json\\226364.json: sequence item 0: expected str instance, dict found\n",
      "Error processing C:/Users/lohit/Desktop/Radboud University/Data Engineering (NWI-IMC073-2024)/Data & Codes/extracted_data_json\\226378.json: sequence item 0: expected str instance, dict found\n",
      "Error processing C:/Users/lohit/Desktop/Radboud University/Data Engineering (NWI-IMC073-2024)/Data & Codes/extracted_data_json\\226382.json: sequence item 0: expected str instance, dict found\n"
     ]
    },
    {
     "name": "stderr",
     "output_type": "stream",
     "text": [
      "Batch 14:  49%|█████████████████████████████████▉                                   | 491/1000 [00:04<00:05, 90.73it/s]"
     ]
    },
    {
     "name": "stdout",
     "output_type": "stream",
     "text": [
      "Error processing C:/Users/lohit/Desktop/Radboud University/Data Engineering (NWI-IMC073-2024)/Data & Codes/extracted_data_json\\226390.json: sequence item 0: expected str instance, dict found\n",
      "Error processing C:/Users/lohit/Desktop/Radboud University/Data Engineering (NWI-IMC073-2024)/Data & Codes/extracted_data_json\\226392.json: sequence item 0: expected str instance, dict found\n",
      "Error processing C:/Users/lohit/Desktop/Radboud University/Data Engineering (NWI-IMC073-2024)/Data & Codes/extracted_data_json\\236358.json: sequence item 0: expected str instance, dict found\n",
      "Error processing C:/Users/lohit/Desktop/Radboud University/Data Engineering (NWI-IMC073-2024)/Data & Codes/extracted_data_json\\236963.json: sequence item 0: expected str instance, dict found\n",
      "Error processing C:/Users/lohit/Desktop/Radboud University/Data Engineering (NWI-IMC073-2024)/Data & Codes/extracted_data_json\\237222.json: sequence item 0: expected str instance, dict found\n",
      "Error processing C:/Users/lohit/Desktop/Radboud University/Data Engineering (NWI-IMC073-2024)/Data & Codes/extracted_data_json\\237568.json: sequence item 0: expected str instance, dict found\n",
      "Error processing C:/Users/lohit/Desktop/Radboud University/Data Engineering (NWI-IMC073-2024)/Data & Codes/extracted_data_json\\237571.json: sequence item 0: expected str instance, dict found\n",
      "Error processing C:/Users/lohit/Desktop/Radboud University/Data Engineering (NWI-IMC073-2024)/Data & Codes/extracted_data_json\\237574.json: sequence item 0: expected str instance, dict found\n"
     ]
    },
    {
     "name": "stderr",
     "output_type": "stream",
     "text": [
      "Batch 14:  51%|███████████████████████████████████▎                                 | 511/1000 [00:05<00:05, 85.21it/s]"
     ]
    },
    {
     "name": "stdout",
     "output_type": "stream",
     "text": [
      "Error processing C:/Users/lohit/Desktop/Radboud University/Data Engineering (NWI-IMC073-2024)/Data & Codes/extracted_data_json\\238173.json: sequence item 0: expected str instance, dict found\n",
      "Error processing C:/Users/lohit/Desktop/Radboud University/Data Engineering (NWI-IMC073-2024)/Data & Codes/extracted_data_json\\238174.json: sequence item 0: expected str instance, dict found\n",
      "Error processing C:/Users/lohit/Desktop/Radboud University/Data Engineering (NWI-IMC073-2024)/Data & Codes/extracted_data_json\\238175.json: sequence item 0: expected str instance, dict found\n",
      "Error processing C:/Users/lohit/Desktop/Radboud University/Data Engineering (NWI-IMC073-2024)/Data & Codes/extracted_data_json\\238177.json: sequence item 0: expected str instance, dict found\n",
      "Error processing C:/Users/lohit/Desktop/Radboud University/Data Engineering (NWI-IMC073-2024)/Data & Codes/extracted_data_json\\238179.json: sequence item 0: expected str instance, dict found\n",
      "Error processing C:/Users/lohit/Desktop/Radboud University/Data Engineering (NWI-IMC073-2024)/Data & Codes/extracted_data_json\\238188.json: sequence item 0: expected str instance, dict found\n",
      "Error processing C:/Users/lohit/Desktop/Radboud University/Data Engineering (NWI-IMC073-2024)/Data & Codes/extracted_data_json\\238190.json: sequence item 0: expected str instance, dict found\n",
      "Error processing C:/Users/lohit/Desktop/Radboud University/Data Engineering (NWI-IMC073-2024)/Data & Codes/extracted_data_json\\238193.json: sequence item 0: expected str instance, dict found\n",
      "Error processing C:/Users/lohit/Desktop/Radboud University/Data Engineering (NWI-IMC073-2024)/Data & Codes/extracted_data_json\\238194.json: sequence item 0: expected str instance, dict found\n",
      "Error processing C:/Users/lohit/Desktop/Radboud University/Data Engineering (NWI-IMC073-2024)/Data & Codes/extracted_data_json\\238196.json: sequence item 0: expected str instance, dict found\n",
      "Error processing C:/Users/lohit/Desktop/Radboud University/Data Engineering (NWI-IMC073-2024)/Data & Codes/extracted_data_json\\238198.json: sequence item 0: expected str instance, dict found\n"
     ]
    },
    {
     "name": "stderr",
     "output_type": "stream",
     "text": [
      "Batch 14:  52%|████████████████████████████████████                                 | 522/1000 [00:05<00:05, 91.66it/s]"
     ]
    },
    {
     "name": "stdout",
     "output_type": "stream",
     "text": [
      "Error processing C:/Users/lohit/Desktop/Radboud University/Data Engineering (NWI-IMC073-2024)/Data & Codes/extracted_data_json\\238199.json: sequence item 0: expected str instance, dict found\n",
      "Error processing C:/Users/lohit/Desktop/Radboud University/Data Engineering (NWI-IMC073-2024)/Data & Codes/extracted_data_json\\238200.json: sequence item 0: expected str instance, dict found\n"
     ]
    },
    {
     "name": "stderr",
     "output_type": "stream",
     "text": [
      "Batch 14:  55%|█████████████████████████████████████▉                               | 550/1000 [00:05<00:05, 76.94it/s]"
     ]
    },
    {
     "name": "stdout",
     "output_type": "stream",
     "text": [
      "Error processing C:/Users/lohit/Desktop/Radboud University/Data Engineering (NWI-IMC073-2024)/Data & Codes/extracted_data_json\\239911.json: sequence item 0: expected str instance, dict found\n",
      "Error processing C:/Users/lohit/Desktop/Radboud University/Data Engineering (NWI-IMC073-2024)/Data & Codes/extracted_data_json\\239913.json: sequence item 0: expected str instance, dict found\n",
      "Error processing C:/Users/lohit/Desktop/Radboud University/Data Engineering (NWI-IMC073-2024)/Data & Codes/extracted_data_json\\239917.json: sequence item 0: expected str instance, dict found\n"
     ]
    },
    {
     "name": "stderr",
     "output_type": "stream",
     "text": [
      "Batch 14:  57%|███████████████████████████████████████▎                             | 569/1000 [00:05<00:05, 82.55it/s]"
     ]
    },
    {
     "name": "stdout",
     "output_type": "stream",
     "text": [
      "Error processing C:/Users/lohit/Desktop/Radboud University/Data Engineering (NWI-IMC073-2024)/Data & Codes/extracted_data_json\\247466.json: sequence item 0: expected str instance, dict found\n",
      "Error processing C:/Users/lohit/Desktop/Radboud University/Data Engineering (NWI-IMC073-2024)/Data & Codes/extracted_data_json\\247468.json: sequence item 0: expected str instance, dict found\n",
      "Error processing C:/Users/lohit/Desktop/Radboud University/Data Engineering (NWI-IMC073-2024)/Data & Codes/extracted_data_json\\247470.json: sequence item 0: expected str instance, dict found\n",
      "Error processing C:/Users/lohit/Desktop/Radboud University/Data Engineering (NWI-IMC073-2024)/Data & Codes/extracted_data_json\\247474.json: sequence item 0: expected str instance, dict found\n",
      "Error processing C:/Users/lohit/Desktop/Radboud University/Data Engineering (NWI-IMC073-2024)/Data & Codes/extracted_data_json\\247483.json: sequence item 0: expected str instance, dict found\n"
     ]
    },
    {
     "name": "stderr",
     "output_type": "stream",
     "text": [
      "Batch 14:  60%|█████████████████████████████████████████▎                           | 599/1000 [00:06<00:04, 87.80it/s]"
     ]
    },
    {
     "name": "stdout",
     "output_type": "stream",
     "text": [
      "Error processing C:/Users/lohit/Desktop/Radboud University/Data Engineering (NWI-IMC073-2024)/Data & Codes/extracted_data_json\\247494.json: sequence item 0: expected str instance, dict found\n",
      "Error processing C:/Users/lohit/Desktop/Radboud University/Data Engineering (NWI-IMC073-2024)/Data & Codes/extracted_data_json\\247496.json: sequence item 0: expected str instance, dict found\n",
      "Error processing C:/Users/lohit/Desktop/Radboud University/Data Engineering (NWI-IMC073-2024)/Data & Codes/extracted_data_json\\247500.json: sequence item 0: expected str instance, dict found\n",
      "Error processing C:/Users/lohit/Desktop/Radboud University/Data Engineering (NWI-IMC073-2024)/Data & Codes/extracted_data_json\\247503.json: sequence item 0: expected str instance, dict found\n",
      "Error processing C:/Users/lohit/Desktop/Radboud University/Data Engineering (NWI-IMC073-2024)/Data & Codes/extracted_data_json\\247506.json: sequence item 0: expected str instance, dict found\n"
     ]
    },
    {
     "name": "stderr",
     "output_type": "stream",
     "text": [
      "Batch 14:  61%|█████████████████████████████████████████▉                           | 608/1000 [00:06<00:04, 86.19it/s]"
     ]
    },
    {
     "name": "stdout",
     "output_type": "stream",
     "text": [
      "Error processing C:/Users/lohit/Desktop/Radboud University/Data Engineering (NWI-IMC073-2024)/Data & Codes/extracted_data_json\\249212.json: sequence item 0: expected str instance, dict found\n",
      "Error processing C:/Users/lohit/Desktop/Radboud University/Data Engineering (NWI-IMC073-2024)/Data & Codes/extracted_data_json\\249214.json: sequence item 0: expected str instance, dict found\n"
     ]
    },
    {
     "name": "stderr",
     "output_type": "stream",
     "text": [
      "Batch 14:  64%|███████████████████████████████████████████▉                         | 637/1000 [00:06<00:04, 87.53it/s]"
     ]
    },
    {
     "name": "stdout",
     "output_type": "stream",
     "text": [
      "Error processing C:/Users/lohit/Desktop/Radboud University/Data Engineering (NWI-IMC073-2024)/Data & Codes/extracted_data_json\\249232.json: sequence item 0: expected str instance, dict found\n",
      "Error processing C:/Users/lohit/Desktop/Radboud University/Data Engineering (NWI-IMC073-2024)/Data & Codes/extracted_data_json\\249234.json: sequence item 0: expected str instance, dict found\n",
      "Error processing C:/Users/lohit/Desktop/Radboud University/Data Engineering (NWI-IMC073-2024)/Data & Codes/extracted_data_json\\249740.json: sequence item 0: expected str instance, dict found\n",
      "Error processing C:/Users/lohit/Desktop/Radboud University/Data Engineering (NWI-IMC073-2024)/Data & Codes/extracted_data_json\\249742.json: sequence item 0: expected str instance, dict found\n",
      "Error processing C:/Users/lohit/Desktop/Radboud University/Data Engineering (NWI-IMC073-2024)/Data & Codes/extracted_data_json\\249744.json: sequence item 0: expected str instance, dict found\n",
      "Error processing C:/Users/lohit/Desktop/Radboud University/Data Engineering (NWI-IMC073-2024)/Data & Codes/extracted_data_json\\249745.json: sequence item 0: expected str instance, dict found\n"
     ]
    },
    {
     "name": "stderr",
     "output_type": "stream",
     "text": [
      "Batch 14:  66%|█████████████████████████████████████████████▍                       | 658/1000 [00:06<00:03, 88.81it/s]"
     ]
    },
    {
     "name": "stdout",
     "output_type": "stream",
     "text": [
      "Error processing C:/Users/lohit/Desktop/Radboud University/Data Engineering (NWI-IMC073-2024)/Data & Codes/extracted_data_json\\249749.json: sequence item 0: expected str instance, dict found\n",
      "Error processing C:/Users/lohit/Desktop/Radboud University/Data Engineering (NWI-IMC073-2024)/Data & Codes/extracted_data_json\\249750.json: sequence item 0: expected str instance, dict found\n",
      "Error processing C:/Users/lohit/Desktop/Radboud University/Data Engineering (NWI-IMC073-2024)/Data & Codes/extracted_data_json\\249758.json: sequence item 0: expected str instance, dict found\n",
      "Error processing C:/Users/lohit/Desktop/Radboud University/Data Engineering (NWI-IMC073-2024)/Data & Codes/extracted_data_json\\249759.json: sequence item 0: expected str instance, dict found\n",
      "Error processing C:/Users/lohit/Desktop/Radboud University/Data Engineering (NWI-IMC073-2024)/Data & Codes/extracted_data_json\\250671.json: sequence item 0: expected str instance, dict found\n"
     ]
    },
    {
     "name": "stderr",
     "output_type": "stream",
     "text": [
      "Batch 14:  68%|██████████████████████████████████████████████▋                      | 677/1000 [00:07<00:03, 89.57it/s]"
     ]
    },
    {
     "name": "stdout",
     "output_type": "stream",
     "text": [
      "Error processing C:/Users/lohit/Desktop/Radboud University/Data Engineering (NWI-IMC073-2024)/Data & Codes/extracted_data_json\\250672.json: sequence item 0: expected str instance, dict found\n",
      "Error processing C:/Users/lohit/Desktop/Radboud University/Data Engineering (NWI-IMC073-2024)/Data & Codes/extracted_data_json\\251491.json: sequence item 0: expected str instance, dict found\n",
      "Error processing C:/Users/lohit/Desktop/Radboud University/Data Engineering (NWI-IMC073-2024)/Data & Codes/extracted_data_json\\255961.json: sequence item 0: expected str instance, dict found\n"
     ]
    },
    {
     "name": "stderr",
     "output_type": "stream",
     "text": [
      "Batch 14:  72%|█████████████████████████████████████████████████▍                   | 716/1000 [00:07<00:03, 85.39it/s]"
     ]
    },
    {
     "name": "stdout",
     "output_type": "stream",
     "text": [
      "Error processing C:/Users/lohit/Desktop/Radboud University/Data Engineering (NWI-IMC073-2024)/Data & Codes/extracted_data_json\\258475.json: sequence item 0: expected str instance, dict found\n",
      "Error processing C:/Users/lohit/Desktop/Radboud University/Data Engineering (NWI-IMC073-2024)/Data & Codes/extracted_data_json\\258477.json: sequence item 0: expected str instance, dict found\n",
      "Error processing C:/Users/lohit/Desktop/Radboud University/Data Engineering (NWI-IMC073-2024)/Data & Codes/extracted_data_json\\259389.json: sequence item 0: expected str instance, dict found\n",
      "Error processing C:/Users/lohit/Desktop/Radboud University/Data Engineering (NWI-IMC073-2024)/Data & Codes/extracted_data_json\\259390.json: sequence item 0: expected str instance, dict found\n",
      "Error processing C:/Users/lohit/Desktop/Radboud University/Data Engineering (NWI-IMC073-2024)/Data & Codes/extracted_data_json\\259793.json: sequence item 0: expected str instance, dict found\n",
      "Error processing C:/Users/lohit/Desktop/Radboud University/Data Engineering (NWI-IMC073-2024)/Data & Codes/extracted_data_json\\264070.json: sequence item 0: expected str instance, dict found\n",
      "Error processing C:/Users/lohit/Desktop/Radboud University/Data Engineering (NWI-IMC073-2024)/Data & Codes/extracted_data_json\\267387.json: sequence item 0: expected str instance, dict found\n",
      "Error processing C:/Users/lohit/Desktop/Radboud University/Data Engineering (NWI-IMC073-2024)/Data & Codes/extracted_data_json\\267389.json: sequence item 0: expected str instance, dict found\n",
      "Error processing C:/Users/lohit/Desktop/Radboud University/Data Engineering (NWI-IMC073-2024)/Data & Codes/extracted_data_json\\267391.json: sequence item 0: expected str instance, dict found\n"
     ]
    },
    {
     "name": "stderr",
     "output_type": "stream",
     "text": [
      "Batch 14:  74%|██████████████████████████████████████████████████▉                  | 739/1000 [00:07<00:02, 96.09it/s]"
     ]
    },
    {
     "name": "stdout",
     "output_type": "stream",
     "text": [
      "Error processing C:/Users/lohit/Desktop/Radboud University/Data Engineering (NWI-IMC073-2024)/Data & Codes/extracted_data_json\\275789.json: sequence item 0: expected str instance, dict found\n",
      "Error processing C:/Users/lohit/Desktop/Radboud University/Data Engineering (NWI-IMC073-2024)/Data & Codes/extracted_data_json\\276226.json: sequence item 0: expected str instance, dict found\n"
     ]
    },
    {
     "name": "stderr",
     "output_type": "stream",
     "text": [
      "Batch 14:  79%|██████████████████████████████████████████████████████▌              | 790/1000 [00:08<00:02, 84.65it/s]"
     ]
    },
    {
     "name": "stdout",
     "output_type": "stream",
     "text": [
      "Error processing C:/Users/lohit/Desktop/Radboud University/Data Engineering (NWI-IMC073-2024)/Data & Codes/extracted_data_json\\291359.json: sequence item 0: expected str instance, dict found\n",
      "Error processing C:/Users/lohit/Desktop/Radboud University/Data Engineering (NWI-IMC073-2024)/Data & Codes/extracted_data_json\\291369.json: sequence item 0: expected str instance, dict found\n",
      "Error processing C:/Users/lohit/Desktop/Radboud University/Data Engineering (NWI-IMC073-2024)/Data & Codes/extracted_data_json\\293071.json: sequence item 0: expected str instance, dict found\n"
     ]
    },
    {
     "name": "stderr",
     "output_type": "stream",
     "text": [
      "Batch 14:  82%|████████████████████████████████████████████████████████▍            | 818/1000 [00:08<00:02, 79.69it/s]"
     ]
    },
    {
     "name": "stdout",
     "output_type": "stream",
     "text": [
      "Error processing C:/Users/lohit/Desktop/Radboud University/Data Engineering (NWI-IMC073-2024)/Data & Codes/extracted_data_json\\293482.json: sequence item 0: expected str instance, dict found\n",
      "Error processing C:/Users/lohit/Desktop/Radboud University/Data Engineering (NWI-IMC073-2024)/Data & Codes/extracted_data_json\\295785.json: sequence item 0: expected str instance, dict found\n",
      "Error processing C:/Users/lohit/Desktop/Radboud University/Data Engineering (NWI-IMC073-2024)/Data & Codes/extracted_data_json\\295788.json: sequence item 0: expected str instance, dict found\n",
      "Error processing C:/Users/lohit/Desktop/Radboud University/Data Engineering (NWI-IMC073-2024)/Data & Codes/extracted_data_json\\296687.json: sequence item 1: expected str instance, dict found\n"
     ]
    },
    {
     "name": "stderr",
     "output_type": "stream",
     "text": [
      "Batch 14:  84%|██████████████████████████████████████████████████████████▏          | 843/1000 [00:09<00:02, 77.44it/s]"
     ]
    },
    {
     "name": "stdout",
     "output_type": "stream",
     "text": [
      "Error processing C:/Users/lohit/Desktop/Radboud University/Data Engineering (NWI-IMC073-2024)/Data & Codes/extracted_data_json\\297797.json: sequence item 0: expected str instance, dict found\n",
      "Error processing C:/Users/lohit/Desktop/Radboud University/Data Engineering (NWI-IMC073-2024)/Data & Codes/extracted_data_json\\298797.json: sequence item 0: expected str instance, dict found\n"
     ]
    },
    {
     "name": "stderr",
     "output_type": "stream",
     "text": [
      "Batch 14:  87%|████████████████████████████████████████████████████████████         | 870/1000 [00:09<00:01, 78.60it/s]"
     ]
    },
    {
     "name": "stdout",
     "output_type": "stream",
     "text": [
      "Error processing C:/Users/lohit/Desktop/Radboud University/Data Engineering (NWI-IMC073-2024)/Data & Codes/extracted_data_json\\298809.json: sequence item 0: expected str instance, dict found\n",
      "Error processing C:/Users/lohit/Desktop/Radboud University/Data Engineering (NWI-IMC073-2024)/Data & Codes/extracted_data_json\\299009.json: sequence item 0: expected str instance, dict found\n"
     ]
    },
    {
     "name": "stderr",
     "output_type": "stream",
     "text": [
      "Batch 14:  90%|██████████████████████████████████████████████████████████████       | 899/1000 [00:09<00:01, 79.11it/s]"
     ]
    },
    {
     "name": "stdout",
     "output_type": "stream",
     "text": [
      "Error processing C:/Users/lohit/Desktop/Radboud University/Data Engineering (NWI-IMC073-2024)/Data & Codes/extracted_data_json\\312295.json: sequence item 0: expected str instance, dict found\n",
      "Error processing C:/Users/lohit/Desktop/Radboud University/Data Engineering (NWI-IMC073-2024)/Data & Codes/extracted_data_json\\312296.json: sequence item 0: expected str instance, dict found\n",
      "Error processing C:/Users/lohit/Desktop/Radboud University/Data Engineering (NWI-IMC073-2024)/Data & Codes/extracted_data_json\\313992.json: sequence item 1: expected str instance, dict found\n",
      "Error processing C:/Users/lohit/Desktop/Radboud University/Data Engineering (NWI-IMC073-2024)/Data & Codes/extracted_data_json\\313994.json: sequence item 1: expected str instance, dict found\n"
     ]
    },
    {
     "name": "stderr",
     "output_type": "stream",
     "text": [
      "Batch 14:  93%|████████████████████████████████████████████████████████████████▍    | 933/1000 [00:10<00:00, 80.37it/s]"
     ]
    },
    {
     "name": "stdout",
     "output_type": "stream",
     "text": [
      "Error processing C:/Users/lohit/Desktop/Radboud University/Data Engineering (NWI-IMC073-2024)/Data & Codes/extracted_data_json\\323951.json: sequence item 0: expected str instance, dict found\n",
      "Error processing C:/Users/lohit/Desktop/Radboud University/Data Engineering (NWI-IMC073-2024)/Data & Codes/extracted_data_json\\325569.json: sequence item 0: expected str instance, dict found\n",
      "Error processing C:/Users/lohit/Desktop/Radboud University/Data Engineering (NWI-IMC073-2024)/Data & Codes/extracted_data_json\\325572.json: sequence item 0: expected str instance, dict found\n",
      "Error processing C:/Users/lohit/Desktop/Radboud University/Data Engineering (NWI-IMC073-2024)/Data & Codes/extracted_data_json\\325579.json: sequence item 1: expected str instance, dict found\n",
      "Error processing C:/Users/lohit/Desktop/Radboud University/Data Engineering (NWI-IMC073-2024)/Data & Codes/extracted_data_json\\325580.json: sequence item 1: expected str instance, dict found\n",
      "Error processing C:/Users/lohit/Desktop/Radboud University/Data Engineering (NWI-IMC073-2024)/Data & Codes/extracted_data_json\\325804.json: sequence item 0: expected str instance, dict found\n"
     ]
    },
    {
     "name": "stderr",
     "output_type": "stream",
     "text": [
      "Batch 14: 100%|████████████████████████████████████████████████████████████████████| 1000/1000 [00:10<00:00, 91.72it/s]\n"
     ]
    },
    {
     "name": "stdout",
     "output_type": "stream",
     "text": [
      "Processing batch 15/19 (files 14001-15000)\n"
     ]
    },
    {
     "name": "stderr",
     "output_type": "stream",
     "text": [
      "Batch 15:   1%|▋                                                                      | 9/1000 [00:00<00:11, 88.53it/s]"
     ]
    },
    {
     "name": "stdout",
     "output_type": "stream",
     "text": [
      "Error processing C:/Users/lohit/Desktop/Radboud University/Data Engineering (NWI-IMC073-2024)/Data & Codes/extracted_data_json\\341302.json: sequence item 0: expected str instance, dict found\n",
      "Error processing C:/Users/lohit/Desktop/Radboud University/Data Engineering (NWI-IMC073-2024)/Data & Codes/extracted_data_json\\341306.json: sequence item 0: expected str instance, dict found\n",
      "Error processing C:/Users/lohit/Desktop/Radboud University/Data Engineering (NWI-IMC073-2024)/Data & Codes/extracted_data_json\\343760.json: sequence item 0: expected str instance, dict found\n",
      "Error processing C:/Users/lohit/Desktop/Radboud University/Data Engineering (NWI-IMC073-2024)/Data & Codes/extracted_data_json\\343761.json: sequence item 0: expected str instance, dict found\n",
      "Error processing C:/Users/lohit/Desktop/Radboud University/Data Engineering (NWI-IMC073-2024)/Data & Codes/extracted_data_json\\343762.json: sequence item 0: expected str instance, dict found\n"
     ]
    },
    {
     "name": "stderr",
     "output_type": "stream",
     "text": [
      "Batch 15:   2%|█▎                                                                    | 18/1000 [00:00<00:11, 89.05it/s]"
     ]
    },
    {
     "name": "stdout",
     "output_type": "stream",
     "text": [
      "Error processing C:/Users/lohit/Desktop/Radboud University/Data Engineering (NWI-IMC073-2024)/Data & Codes/extracted_data_json\\343763.json: sequence item 0: expected str instance, dict found\n",
      "Error processing C:/Users/lohit/Desktop/Radboud University/Data Engineering (NWI-IMC073-2024)/Data & Codes/extracted_data_json\\345468.json: sequence item 0: expected str instance, dict found\n",
      "Error processing C:/Users/lohit/Desktop/Radboud University/Data Engineering (NWI-IMC073-2024)/Data & Codes/extracted_data_json\\345470.json: sequence item 0: expected str instance, dict found\n"
     ]
    },
    {
     "name": "stderr",
     "output_type": "stream",
     "text": [
      "Batch 15:  14%|██████████                                                           | 145/1000 [00:01<00:08, 99.03it/s]"
     ]
    },
    {
     "name": "stdout",
     "output_type": "stream",
     "text": [
      "Error processing C:/Users/lohit/Desktop/Radboud University/Data Engineering (NWI-IMC073-2024)/Data & Codes/extracted_data_json\\366623.json: sequence item 0: expected str instance, dict found\n",
      "Error processing C:/Users/lohit/Desktop/Radboud University/Data Engineering (NWI-IMC073-2024)/Data & Codes/extracted_data_json\\377314.json: sequence item 0: expected str instance, dict found\n"
     ]
    },
    {
     "name": "stderr",
     "output_type": "stream",
     "text": [
      "Batch 15:  17%|███████████▍                                                         | 166/1000 [00:01<00:09, 88.06it/s]"
     ]
    },
    {
     "name": "stdout",
     "output_type": "stream",
     "text": [
      "Error processing C:/Users/lohit/Desktop/Radboud University/Data Engineering (NWI-IMC073-2024)/Data & Codes/extracted_data_json\\378755.json: sequence item 0: expected str instance, dict found\n",
      "Error processing C:/Users/lohit/Desktop/Radboud University/Data Engineering (NWI-IMC073-2024)/Data & Codes/extracted_data_json\\378759.json: sequence item 0: expected str instance, dict found\n",
      "Error processing C:/Users/lohit/Desktop/Radboud University/Data Engineering (NWI-IMC073-2024)/Data & Codes/extracted_data_json\\383275.json: sequence item 0: expected str instance, dict found\n",
      "Error processing C:/Users/lohit/Desktop/Radboud University/Data Engineering (NWI-IMC073-2024)/Data & Codes/extracted_data_json\\385025.json: sequence item 1: expected str instance, dict found\n"
     ]
    },
    {
     "name": "stderr",
     "output_type": "stream",
     "text": [
      "Batch 15:  18%|████████████▋                                                        | 184/1000 [00:02<00:10, 75.01it/s]"
     ]
    },
    {
     "name": "stdout",
     "output_type": "stream",
     "text": [
      "Error processing C:/Users/lohit/Desktop/Radboud University/Data Engineering (NWI-IMC073-2024)/Data & Codes/extracted_data_json\\387568.json: sequence item 0: expected str instance, dict found\n",
      "Error processing C:/Users/lohit/Desktop/Radboud University/Data Engineering (NWI-IMC073-2024)/Data & Codes/extracted_data_json\\390227.json: sequence item 0: expected str instance, dict found\n"
     ]
    },
    {
     "name": "stderr",
     "output_type": "stream",
     "text": [
      "Batch 15:  49%|█████████████████████████████████▌                                   | 486/1000 [00:05<00:05, 87.25it/s]"
     ]
    },
    {
     "name": "stdout",
     "output_type": "stream",
     "text": [
      "Error processing C:/Users/lohit/Desktop/Radboud University/Data Engineering (NWI-IMC073-2024)/Data & Codes/extracted_data_json\\430508.json: sequence item 0: expected str instance, dict found\n"
     ]
    },
    {
     "name": "stderr",
     "output_type": "stream",
     "text": [
      "Batch 15:  62%|██████████████████████████████████████████▊                          | 621/1000 [00:06<00:03, 94.82it/s]"
     ]
    },
    {
     "name": "stdout",
     "output_type": "stream",
     "text": [
      "Error processing C:/Users/lohit/Desktop/Radboud University/Data Engineering (NWI-IMC073-2024)/Data & Codes/extracted_data_json\\460039.json: sequence item 0: expected str instance, dict found\n",
      "Error processing C:/Users/lohit/Desktop/Radboud University/Data Engineering (NWI-IMC073-2024)/Data & Codes/extracted_data_json\\460042.json: sequence item 0: expected str instance, dict found\n",
      "Error processing C:/Users/lohit/Desktop/Radboud University/Data Engineering (NWI-IMC073-2024)/Data & Codes/extracted_data_json\\460045.json: sequence item 0: expected str instance, dict found\n",
      "Error processing C:/Users/lohit/Desktop/Radboud University/Data Engineering (NWI-IMC073-2024)/Data & Codes/extracted_data_json\\460048.json: sequence item 0: expected str instance, dict found\n"
     ]
    },
    {
     "name": "stderr",
     "output_type": "stream",
     "text": [
      "Batch 15:  66%|█████████████████████████████████████████████▌                       | 660/1000 [00:07<00:04, 80.06it/s]"
     ]
    },
    {
     "name": "stdout",
     "output_type": "stream",
     "text": [
      "Error processing C:/Users/lohit/Desktop/Radboud University/Data Engineering (NWI-IMC073-2024)/Data & Codes/extracted_data_json\\464720.json: sequence item 1: expected str instance, dict found\n",
      "Error processing C:/Users/lohit/Desktop/Radboud University/Data Engineering (NWI-IMC073-2024)/Data & Codes/extracted_data_json\\464723.json: sequence item 0: expected str instance, dict found\n",
      "Error processing C:/Users/lohit/Desktop/Radboud University/Data Engineering (NWI-IMC073-2024)/Data & Codes/extracted_data_json\\467078.json: sequence item 0: expected str instance, dict found\n",
      "Error processing C:/Users/lohit/Desktop/Radboud University/Data Engineering (NWI-IMC073-2024)/Data & Codes/extracted_data_json\\467080.json: sequence item 0: expected str instance, dict found\n",
      "Error processing C:/Users/lohit/Desktop/Radboud University/Data Engineering (NWI-IMC073-2024)/Data & Codes/extracted_data_json\\467084.json: sequence item 0: expected str instance, dict found\n",
      "Error processing C:/Users/lohit/Desktop/Radboud University/Data Engineering (NWI-IMC073-2024)/Data & Codes/extracted_data_json\\467089.json: sequence item 0: expected str instance, dict found\n",
      "Error processing C:/Users/lohit/Desktop/Radboud University/Data Engineering (NWI-IMC073-2024)/Data & Codes/extracted_data_json\\467090.json: sequence item 0: expected str instance, dict found\n",
      "Error processing C:/Users/lohit/Desktop/Radboud University/Data Engineering (NWI-IMC073-2024)/Data & Codes/extracted_data_json\\467091.json: sequence item 0: expected str instance, dict found\n",
      "Error processing C:/Users/lohit/Desktop/Radboud University/Data Engineering (NWI-IMC073-2024)/Data & Codes/extracted_data_json\\467092.json: sequence item 0: expected str instance, dict found\n",
      "Error processing C:/Users/lohit/Desktop/Radboud University/Data Engineering (NWI-IMC073-2024)/Data & Codes/extracted_data_json\\467093.json: sequence item 0: expected str instance, dict found\n",
      "Error processing C:/Users/lohit/Desktop/Radboud University/Data Engineering (NWI-IMC073-2024)/Data & Codes/extracted_data_json\\467095.json: sequence item 0: expected str instance, dict found\n"
     ]
    },
    {
     "name": "stderr",
     "output_type": "stream",
     "text": [
      "Batch 15:  68%|██████████████████████████████████████████████▊                      | 679/1000 [00:07<00:03, 80.80it/s]"
     ]
    },
    {
     "name": "stdout",
     "output_type": "stream",
     "text": [
      "Error processing C:/Users/lohit/Desktop/Radboud University/Data Engineering (NWI-IMC073-2024)/Data & Codes/extracted_data_json\\473029.json: sequence item 0: expected str instance, dict found\n"
     ]
    },
    {
     "name": "stderr",
     "output_type": "stream",
     "text": [
      "Batch 15:  73%|██████████████████████████████████████████████████▏                  | 727/1000 [00:07<00:03, 86.39it/s]"
     ]
    },
    {
     "name": "stdout",
     "output_type": "stream",
     "text": [
      "Error processing C:/Users/lohit/Desktop/Radboud University/Data Engineering (NWI-IMC073-2024)/Data & Codes/extracted_data_json\\483126.json: sequence item 0: expected str instance, dict found\n"
     ]
    },
    {
     "name": "stderr",
     "output_type": "stream",
     "text": [
      "Batch 15:  83%|████████████████████████████████████████████████████████▏           | 827/1000 [00:08<00:01, 103.59it/s]"
     ]
    },
    {
     "name": "stdout",
     "output_type": "stream",
     "text": [
      "Error processing C:/Users/lohit/Desktop/Radboud University/Data Engineering (NWI-IMC073-2024)/Data & Codes/extracted_data_json\\504779.json: sequence item 1: expected str instance, dict found\n"
     ]
    },
    {
     "name": "stderr",
     "output_type": "stream",
     "text": [
      "Batch 15:  85%|██████████████████████████████████████████████████████████▌          | 848/1000 [00:09<00:01, 82.39it/s]"
     ]
    },
    {
     "name": "stdout",
     "output_type": "stream",
     "text": [
      "Error processing C:/Users/lohit/Desktop/Radboud University/Data Engineering (NWI-IMC073-2024)/Data & Codes/extracted_data_json\\518071.json: sequence item 0: expected str instance, dict found\n",
      "Error processing C:/Users/lohit/Desktop/Radboud University/Data Engineering (NWI-IMC073-2024)/Data & Codes/extracted_data_json\\518072.json: sequence item 0: expected str instance, dict found\n"
     ]
    },
    {
     "name": "stderr",
     "output_type": "stream",
     "text": [
      "Batch 15:  92%|███████████████████████████████████████████████████████████████▍     | 920/1000 [00:10<00:00, 94.31it/s]"
     ]
    },
    {
     "name": "stdout",
     "output_type": "stream",
     "text": [
      "Error processing C:/Users/lohit/Desktop/Radboud University/Data Engineering (NWI-IMC073-2024)/Data & Codes/extracted_data_json\\523805.json: sequence item 1: expected str instance, dict found\n",
      "Error processing C:/Users/lohit/Desktop/Radboud University/Data Engineering (NWI-IMC073-2024)/Data & Codes/extracted_data_json\\523806.json: sequence item 0: expected str instance, dict found\n"
     ]
    },
    {
     "name": "stderr",
     "output_type": "stream",
     "text": [
      "Batch 15:  95%|█████████████████████████████████████████████████████████████████▊   | 953/1000 [00:10<00:00, 90.90it/s]"
     ]
    },
    {
     "name": "stdout",
     "output_type": "stream",
     "text": [
      "Error processing C:/Users/lohit/Desktop/Radboud University/Data Engineering (NWI-IMC073-2024)/Data & Codes/extracted_data_json\\527680.json: sequence item 0: expected str instance, dict found\n"
     ]
    },
    {
     "name": "stderr",
     "output_type": "stream",
     "text": [
      "Batch 15: 100%|████████████████████████████████████████████████████████████████████| 1000/1000 [00:10<00:00, 91.94it/s]\n"
     ]
    },
    {
     "name": "stdout",
     "output_type": "stream",
     "text": [
      "Processing batch 16/19 (files 15001-16000)\n"
     ]
    },
    {
     "name": "stderr",
     "output_type": "stream",
     "text": [
      "Batch 16:  11%|███████▍                                                             | 107/1000 [00:01<00:10, 82.00it/s]"
     ]
    },
    {
     "name": "stdout",
     "output_type": "stream",
     "text": [
      "Error processing C:/Users/lohit/Desktop/Radboud University/Data Engineering (NWI-IMC073-2024)/Data & Codes/extracted_data_json\\542852.json: sequence item 0: expected str instance, dict found\n",
      "Error processing C:/Users/lohit/Desktop/Radboud University/Data Engineering (NWI-IMC073-2024)/Data & Codes/extracted_data_json\\542853.json: sequence item 0: expected str instance, dict found\n",
      "Error processing C:/Users/lohit/Desktop/Radboud University/Data Engineering (NWI-IMC073-2024)/Data & Codes/extracted_data_json\\542854.json: sequence item 0: expected str instance, dict found\n",
      "Error processing C:/Users/lohit/Desktop/Radboud University/Data Engineering (NWI-IMC073-2024)/Data & Codes/extracted_data_json\\542856.json: sequence item 0: expected str instance, dict found\n",
      "Error processing C:/Users/lohit/Desktop/Radboud University/Data Engineering (NWI-IMC073-2024)/Data & Codes/extracted_data_json\\543881.json: sequence item 0: expected str instance, dict found\n",
      "Error processing C:/Users/lohit/Desktop/Radboud University/Data Engineering (NWI-IMC073-2024)/Data & Codes/extracted_data_json\\543882.json: sequence item 0: expected str instance, dict found\n",
      "Error processing C:/Users/lohit/Desktop/Radboud University/Data Engineering (NWI-IMC073-2024)/Data & Codes/extracted_data_json\\543886.json: sequence item 1: expected str instance, dict found\n",
      "Error processing C:/Users/lohit/Desktop/Radboud University/Data Engineering (NWI-IMC073-2024)/Data & Codes/extracted_data_json\\543887.json: sequence item 1: expected str instance, dict found\n",
      "Error processing C:/Users/lohit/Desktop/Radboud University/Data Engineering (NWI-IMC073-2024)/Data & Codes/extracted_data_json\\543890.json: sequence item 1: expected str instance, dict found\n",
      "Error processing C:/Users/lohit/Desktop/Radboud University/Data Engineering (NWI-IMC073-2024)/Data & Codes/extracted_data_json\\543891.json: sequence item 1: expected str instance, dict found\n"
     ]
    },
    {
     "name": "stderr",
     "output_type": "stream",
     "text": [
      "Batch 16:  22%|███████████████▏                                                    | 223/1000 [00:02<00:07, 100.72it/s]"
     ]
    },
    {
     "name": "stdout",
     "output_type": "stream",
     "text": [
      "Error processing C:/Users/lohit/Desktop/Radboud University/Data Engineering (NWI-IMC073-2024)/Data & Codes/extracted_data_json\\555887.json: sequence item 1: expected str instance, dict found\n",
      "Error processing C:/Users/lohit/Desktop/Radboud University/Data Engineering (NWI-IMC073-2024)/Data & Codes/extracted_data_json\\555888.json: sequence item 1: expected str instance, dict found\n"
     ]
    },
    {
     "name": "stderr",
     "output_type": "stream",
     "text": [
      "Batch 16:  40%|███████████████████████████▍                                        | 403/1000 [00:04<00:05, 116.24it/s]"
     ]
    },
    {
     "name": "stdout",
     "output_type": "stream",
     "text": [
      "Error processing C:/Users/lohit/Desktop/Radboud University/Data Engineering (NWI-IMC073-2024)/Data & Codes/extracted_data_json\\576402.json: sequence item 0: expected str instance, dict found\n",
      "Error processing C:/Users/lohit/Desktop/Radboud University/Data Engineering (NWI-IMC073-2024)/Data & Codes/extracted_data_json\\576403.json: sequence item 0: expected str instance, dict found\n",
      "Error processing C:/Users/lohit/Desktop/Radboud University/Data Engineering (NWI-IMC073-2024)/Data & Codes/extracted_data_json\\576405.json: sequence item 0: expected str instance, dict found\n",
      "Error processing C:/Users/lohit/Desktop/Radboud University/Data Engineering (NWI-IMC073-2024)/Data & Codes/extracted_data_json\\576406.json: sequence item 0: expected str instance, dict found\n",
      "Error processing C:/Users/lohit/Desktop/Radboud University/Data Engineering (NWI-IMC073-2024)/Data & Codes/extracted_data_json\\576407.json: sequence item 0: expected str instance, dict found\n",
      "Error processing C:/Users/lohit/Desktop/Radboud University/Data Engineering (NWI-IMC073-2024)/Data & Codes/extracted_data_json\\576408.json: sequence item 0: expected str instance, dict found\n",
      "Error processing C:/Users/lohit/Desktop/Radboud University/Data Engineering (NWI-IMC073-2024)/Data & Codes/extracted_data_json\\576409.json: sequence item 0: expected str instance, dict found\n",
      "Error processing C:/Users/lohit/Desktop/Radboud University/Data Engineering (NWI-IMC073-2024)/Data & Codes/extracted_data_json\\576410.json: sequence item 0: expected str instance, dict found\n",
      "Error processing C:/Users/lohit/Desktop/Radboud University/Data Engineering (NWI-IMC073-2024)/Data & Codes/extracted_data_json\\576411.json: sequence item 0: expected str instance, dict found\n",
      "Error processing C:/Users/lohit/Desktop/Radboud University/Data Engineering (NWI-IMC073-2024)/Data & Codes/extracted_data_json\\576412.json: sequence item 0: expected str instance, dict found\n",
      "Error processing C:/Users/lohit/Desktop/Radboud University/Data Engineering (NWI-IMC073-2024)/Data & Codes/extracted_data_json\\576414.json: sequence item 0: expected str instance, dict found\n",
      "Error processing C:/Users/lohit/Desktop/Radboud University/Data Engineering (NWI-IMC073-2024)/Data & Codes/extracted_data_json\\576416.json: sequence item 0: expected str instance, dict found\n",
      "Error processing C:/Users/lohit/Desktop/Radboud University/Data Engineering (NWI-IMC073-2024)/Data & Codes/extracted_data_json\\576418.json: sequence item 0: expected str instance, dict found\n",
      "Error processing C:/Users/lohit/Desktop/Radboud University/Data Engineering (NWI-IMC073-2024)/Data & Codes/extracted_data_json\\579741.json: sequence item 0: expected str instance, dict found\n"
     ]
    },
    {
     "name": "stderr",
     "output_type": "stream",
     "text": [
      "Batch 16:  42%|████████████████████████████▏                                       | 415/1000 [00:04<00:05, 108.82it/s]"
     ]
    },
    {
     "name": "stdout",
     "output_type": "stream",
     "text": [
      "Error processing C:/Users/lohit/Desktop/Radboud University/Data Engineering (NWI-IMC073-2024)/Data & Codes/extracted_data_json\\579743.json: sequence item 0: expected str instance, dict found\n",
      "Error processing C:/Users/lohit/Desktop/Radboud University/Data Engineering (NWI-IMC073-2024)/Data & Codes/extracted_data_json\\579751.json: sequence item 0: expected str instance, dict found\n",
      "Error processing C:/Users/lohit/Desktop/Radboud University/Data Engineering (NWI-IMC073-2024)/Data & Codes/extracted_data_json\\579753.json: sequence item 0: expected str instance, dict found\n",
      "Error processing C:/Users/lohit/Desktop/Radboud University/Data Engineering (NWI-IMC073-2024)/Data & Codes/extracted_data_json\\579754.json: sequence item 0: expected str instance, dict found\n",
      "Error processing C:/Users/lohit/Desktop/Radboud University/Data Engineering (NWI-IMC073-2024)/Data & Codes/extracted_data_json\\579755.json: sequence item 0: expected str instance, dict found\n",
      "Error processing C:/Users/lohit/Desktop/Radboud University/Data Engineering (NWI-IMC073-2024)/Data & Codes/extracted_data_json\\584546.json: sequence item 0: expected str instance, dict found\n",
      "Error processing C:/Users/lohit/Desktop/Radboud University/Data Engineering (NWI-IMC073-2024)/Data & Codes/extracted_data_json\\584547.json: sequence item 0: expected str instance, dict found\n",
      "Error processing C:/Users/lohit/Desktop/Radboud University/Data Engineering (NWI-IMC073-2024)/Data & Codes/extracted_data_json\\584549.json: sequence item 0: expected str instance, dict found\n"
     ]
    },
    {
     "name": "stderr",
     "output_type": "stream",
     "text": [
      "Batch 16:  46%|███████████████████████████████▋                                     | 460/1000 [00:04<00:05, 93.41it/s]"
     ]
    },
    {
     "name": "stdout",
     "output_type": "stream",
     "text": [
      "Error processing C:/Users/lohit/Desktop/Radboud University/Data Engineering (NWI-IMC073-2024)/Data & Codes/extracted_data_json\\592263.json: sequence item 0: expected str instance, dict found\n",
      "Error processing C:/Users/lohit/Desktop/Radboud University/Data Engineering (NWI-IMC073-2024)/Data & Codes/extracted_data_json\\592264.json: sequence item 0: expected str instance, dict found\n",
      "Error processing C:/Users/lohit/Desktop/Radboud University/Data Engineering (NWI-IMC073-2024)/Data & Codes/extracted_data_json\\592266.json: sequence item 0: expected str instance, dict found\n",
      "Error processing C:/Users/lohit/Desktop/Radboud University/Data Engineering (NWI-IMC073-2024)/Data & Codes/extracted_data_json\\592274.json: sequence item 0: expected str instance, dict found\n",
      "Error processing C:/Users/lohit/Desktop/Radboud University/Data Engineering (NWI-IMC073-2024)/Data & Codes/extracted_data_json\\592275.json: sequence item 0: expected str instance, dict found\n",
      "Error processing C:/Users/lohit/Desktop/Radboud University/Data Engineering (NWI-IMC073-2024)/Data & Codes/extracted_data_json\\593723.json: sequence item 0: expected str instance, dict found\n",
      "Error processing C:/Users/lohit/Desktop/Radboud University/Data Engineering (NWI-IMC073-2024)/Data & Codes/extracted_data_json\\593724.json: sequence item 0: expected str instance, dict found\n",
      "Error processing C:/Users/lohit/Desktop/Radboud University/Data Engineering (NWI-IMC073-2024)/Data & Codes/extracted_data_json\\593725.json: sequence item 0: expected str instance, dict found\n"
     ]
    },
    {
     "name": "stderr",
     "output_type": "stream",
     "text": [
      "Batch 16:  49%|█████████████████████████████████▉                                   | 492/1000 [00:05<00:05, 99.21it/s]"
     ]
    },
    {
     "name": "stdout",
     "output_type": "stream",
     "text": [
      "Error processing C:/Users/lohit/Desktop/Radboud University/Data Engineering (NWI-IMC073-2024)/Data & Codes/extracted_data_json\\594914.json: sequence item 0: expected str instance, dict found\n"
     ]
    },
    {
     "name": "stderr",
     "output_type": "stream",
     "text": [
      "Batch 16:  63%|███████████████████████████████████████████▍                         | 630/1000 [00:06<00:03, 99.54it/s]"
     ]
    },
    {
     "name": "stdout",
     "output_type": "stream",
     "text": [
      "Error processing C:/Users/lohit/Desktop/Radboud University/Data Engineering (NWI-IMC073-2024)/Data & Codes/extracted_data_json\\603239.json: sequence item 1: expected str instance, dict found\n",
      "Error processing C:/Users/lohit/Desktop/Radboud University/Data Engineering (NWI-IMC073-2024)/Data & Codes/extracted_data_json\\603240.json: sequence item 1: expected str instance, dict found\n",
      "Error processing C:/Users/lohit/Desktop/Radboud University/Data Engineering (NWI-IMC073-2024)/Data & Codes/extracted_data_json\\603241.json: sequence item 1: expected str instance, dict found\n",
      "Error processing C:/Users/lohit/Desktop/Radboud University/Data Engineering (NWI-IMC073-2024)/Data & Codes/extracted_data_json\\627006.json: sequence item 0: expected str instance, dict found\n",
      "Error processing C:/Users/lohit/Desktop/Radboud University/Data Engineering (NWI-IMC073-2024)/Data & Codes/extracted_data_json\\627007.json: sequence item 0: expected str instance, dict found\n",
      "Error processing C:/Users/lohit/Desktop/Radboud University/Data Engineering (NWI-IMC073-2024)/Data & Codes/extracted_data_json\\628081.json: sequence item 0: expected str instance, dict found\n",
      "Error processing C:/Users/lohit/Desktop/Radboud University/Data Engineering (NWI-IMC073-2024)/Data & Codes/extracted_data_json\\628083.json: sequence item 1: expected str instance, dict found\n",
      "Error processing C:/Users/lohit/Desktop/Radboud University/Data Engineering (NWI-IMC073-2024)/Data & Codes/extracted_data_json\\628086.json: sequence item 0: expected str instance, dict found\n",
      "Error processing C:/Users/lohit/Desktop/Radboud University/Data Engineering (NWI-IMC073-2024)/Data & Codes/extracted_data_json\\628090.json: sequence item 0: expected str instance, dict found\n"
     ]
    },
    {
     "name": "stderr",
     "output_type": "stream",
     "text": [
      "Batch 16:  65%|████████████████████████████████████████████▉                        | 652/1000 [00:06<00:03, 98.71it/s]"
     ]
    },
    {
     "name": "stdout",
     "output_type": "stream",
     "text": [
      "Error processing C:/Users/lohit/Desktop/Radboud University/Data Engineering (NWI-IMC073-2024)/Data & Codes/extracted_data_json\\628092.json: sequence item 0: expected str instance, dict found\n",
      "Error processing C:/Users/lohit/Desktop/Radboud University/Data Engineering (NWI-IMC073-2024)/Data & Codes/extracted_data_json\\628093.json: sequence item 0: expected str instance, dict found\n",
      "Error processing C:/Users/lohit/Desktop/Radboud University/Data Engineering (NWI-IMC073-2024)/Data & Codes/extracted_data_json\\628095.json: sequence item 0: expected str instance, dict found\n",
      "Error processing C:/Users/lohit/Desktop/Radboud University/Data Engineering (NWI-IMC073-2024)/Data & Codes/extracted_data_json\\628096.json: sequence item 0: expected str instance, dict found\n"
     ]
    },
    {
     "name": "stderr",
     "output_type": "stream",
     "text": [
      "Batch 16:  77%|█████████████████████████████████████████████████████▏               | 771/1000 [00:08<00:02, 94.80it/s]"
     ]
    },
    {
     "name": "stdout",
     "output_type": "stream",
     "text": [
      "Error processing C:/Users/lohit/Desktop/Radboud University/Data Engineering (NWI-IMC073-2024)/Data & Codes/extracted_data_json\\644943.json: sequence item 1: expected str instance, dict found\n"
     ]
    },
    {
     "name": "stderr",
     "output_type": "stream",
     "text": [
      "Batch 16: 100%|████████████████████████████████████████████████████████████████████| 1000/1000 [00:10<00:00, 96.94it/s]\n"
     ]
    },
    {
     "name": "stdout",
     "output_type": "stream",
     "text": [
      "Saved intermediate results up to file 16000\n",
      "Processing batch 17/19 (files 16001-17000)\n"
     ]
    },
    {
     "name": "stderr",
     "output_type": "stream",
     "text": [
      "Batch 17:  15%|█████████▉                                                          | 147/1000 [00:01<00:07, 111.85it/s]"
     ]
    },
    {
     "name": "stdout",
     "output_type": "stream",
     "text": [
      "Error processing C:/Users/lohit/Desktop/Radboud University/Data Engineering (NWI-IMC073-2024)/Data & Codes/extracted_data_json\\660825.json: sequence item 0: expected str instance, dict found\n",
      "Error processing C:/Users/lohit/Desktop/Radboud University/Data Engineering (NWI-IMC073-2024)/Data & Codes/extracted_data_json\\660827.json: sequence item 0: expected str instance, dict found\n",
      "Error processing C:/Users/lohit/Desktop/Radboud University/Data Engineering (NWI-IMC073-2024)/Data & Codes/extracted_data_json\\661887.json: sequence item 0: expected str instance, dict found\n",
      "Error processing C:/Users/lohit/Desktop/Radboud University/Data Engineering (NWI-IMC073-2024)/Data & Codes/extracted_data_json\\661889.json: sequence item 0: expected str instance, dict found\n"
     ]
    },
    {
     "name": "stderr",
     "output_type": "stream",
     "text": [
      "Batch 17:  21%|██████████████▏                                                     | 209/1000 [00:02<00:07, 103.64it/s]"
     ]
    },
    {
     "name": "stdout",
     "output_type": "stream",
     "text": [
      "Error processing C:/Users/lohit/Desktop/Radboud University/Data Engineering (NWI-IMC073-2024)/Data & Codes/extracted_data_json\\664299.json: sequence item 0: expected str instance, dict found\n",
      "Error processing C:/Users/lohit/Desktop/Radboud University/Data Engineering (NWI-IMC073-2024)/Data & Codes/extracted_data_json\\664303.json: sequence item 0: expected str instance, dict found\n",
      "Error processing C:/Users/lohit/Desktop/Radboud University/Data Engineering (NWI-IMC073-2024)/Data & Codes/extracted_data_json\\666043.json: sequence item 0: expected str instance, dict found\n"
     ]
    },
    {
     "name": "stderr",
     "output_type": "stream",
     "text": [
      "Batch 17:  25%|█████████████████▎                                                   | 250/1000 [00:02<00:08, 93.01it/s]"
     ]
    },
    {
     "name": "stdout",
     "output_type": "stream",
     "text": [
      "Error processing C:/Users/lohit/Desktop/Radboud University/Data Engineering (NWI-IMC073-2024)/Data & Codes/extracted_data_json\\668511.json: sequence item 0: expected str instance, dict found\n"
     ]
    },
    {
     "name": "stderr",
     "output_type": "stream",
     "text": [
      "Batch 17:  58%|███████████████████████████████████████▌                            | 581/1000 [00:06<00:03, 109.88it/s]"
     ]
    },
    {
     "name": "stdout",
     "output_type": "stream",
     "text": [
      "Error processing C:/Users/lohit/Desktop/Radboud University/Data Engineering (NWI-IMC073-2024)/Data & Codes/extracted_data_json\\693275.json: sequence item 1: expected str instance, dict found\n",
      "Error processing C:/Users/lohit/Desktop/Radboud University/Data Engineering (NWI-IMC073-2024)/Data & Codes/extracted_data_json\\693277.json: sequence item 0: expected str instance, dict found\n",
      "Error processing C:/Users/lohit/Desktop/Radboud University/Data Engineering (NWI-IMC073-2024)/Data & Codes/extracted_data_json\\693279.json: sequence item 1: expected str instance, dict found\n",
      "Error processing C:/Users/lohit/Desktop/Radboud University/Data Engineering (NWI-IMC073-2024)/Data & Codes/extracted_data_json\\693281.json: sequence item 1: expected str instance, dict found\n",
      "Error processing C:/Users/lohit/Desktop/Radboud University/Data Engineering (NWI-IMC073-2024)/Data & Codes/extracted_data_json\\693283.json: sequence item 1: expected str instance, dict found\n",
      "Error processing C:/Users/lohit/Desktop/Radboud University/Data Engineering (NWI-IMC073-2024)/Data & Codes/extracted_data_json\\693285.json: sequence item 1: expected str instance, dict found\n",
      "Error processing C:/Users/lohit/Desktop/Radboud University/Data Engineering (NWI-IMC073-2024)/Data & Codes/extracted_data_json\\693287.json: sequence item 1: expected str instance, dict found\n",
      "Error processing C:/Users/lohit/Desktop/Radboud University/Data Engineering (NWI-IMC073-2024)/Data & Codes/extracted_data_json\\693289.json: sequence item 1: expected str instance, dict found\n",
      "Error processing C:/Users/lohit/Desktop/Radboud University/Data Engineering (NWI-IMC073-2024)/Data & Codes/extracted_data_json\\693291.json: sequence item 1: expected str instance, dict found\n",
      "Error processing C:/Users/lohit/Desktop/Radboud University/Data Engineering (NWI-IMC073-2024)/Data & Codes/extracted_data_json\\693293.json: sequence item 1: expected str instance, dict found\n",
      "Error processing C:/Users/lohit/Desktop/Radboud University/Data Engineering (NWI-IMC073-2024)/Data & Codes/extracted_data_json\\693295.json: sequence item 1: expected str instance, dict found\n",
      "Error processing C:/Users/lohit/Desktop/Radboud University/Data Engineering (NWI-IMC073-2024)/Data & Codes/extracted_data_json\\693297.json: sequence item 1: expected str instance, dict found\n",
      "Error processing C:/Users/lohit/Desktop/Radboud University/Data Engineering (NWI-IMC073-2024)/Data & Codes/extracted_data_json\\693299.json: sequence item 1: expected str instance, dict found\n",
      "Error processing C:/Users/lohit/Desktop/Radboud University/Data Engineering (NWI-IMC073-2024)/Data & Codes/extracted_data_json\\693301.json: sequence item 1: expected str instance, dict found\n",
      "Error processing C:/Users/lohit/Desktop/Radboud University/Data Engineering (NWI-IMC073-2024)/Data & Codes/extracted_data_json\\693303.json: sequence item 1: expected str instance, dict found\n",
      "Error processing C:/Users/lohit/Desktop/Radboud University/Data Engineering (NWI-IMC073-2024)/Data & Codes/extracted_data_json\\693305.json: sequence item 1: expected str instance, dict found\n",
      "Error processing C:/Users/lohit/Desktop/Radboud University/Data Engineering (NWI-IMC073-2024)/Data & Codes/extracted_data_json\\693307.json: sequence item 1: expected str instance, dict found\n",
      "Error processing C:/Users/lohit/Desktop/Radboud University/Data Engineering (NWI-IMC073-2024)/Data & Codes/extracted_data_json\\693309.json: sequence item 1: expected str instance, dict found\n",
      "Error processing C:/Users/lohit/Desktop/Radboud University/Data Engineering (NWI-IMC073-2024)/Data & Codes/extracted_data_json\\693311.json: sequence item 1: expected str instance, dict found\n",
      "Error processing C:/Users/lohit/Desktop/Radboud University/Data Engineering (NWI-IMC073-2024)/Data & Codes/extracted_data_json\\693313.json: sequence item 1: expected str instance, dict found\n"
     ]
    },
    {
     "name": "stderr",
     "output_type": "stream",
     "text": [
      "Batch 17:  60%|█████████████████████████████████████████                           | 604/1000 [00:06<00:03, 104.49it/s]"
     ]
    },
    {
     "name": "stdout",
     "output_type": "stream",
     "text": [
      "Error processing C:/Users/lohit/Desktop/Radboud University/Data Engineering (NWI-IMC073-2024)/Data & Codes/extracted_data_json\\693315.json: sequence item 1: expected str instance, dict found\n",
      "Error processing C:/Users/lohit/Desktop/Radboud University/Data Engineering (NWI-IMC073-2024)/Data & Codes/extracted_data_json\\693317.json: sequence item 1: expected str instance, dict found\n",
      "Error processing C:/Users/lohit/Desktop/Radboud University/Data Engineering (NWI-IMC073-2024)/Data & Codes/extracted_data_json\\693319.json: sequence item 1: expected str instance, dict found\n",
      "Error processing C:/Users/lohit/Desktop/Radboud University/Data Engineering (NWI-IMC073-2024)/Data & Codes/extracted_data_json\\693321.json: sequence item 1: expected str instance, dict found\n",
      "Error processing C:/Users/lohit/Desktop/Radboud University/Data Engineering (NWI-IMC073-2024)/Data & Codes/extracted_data_json\\693323.json: sequence item 1: expected str instance, dict found\n",
      "Error processing C:/Users/lohit/Desktop/Radboud University/Data Engineering (NWI-IMC073-2024)/Data & Codes/extracted_data_json\\693325.json: sequence item 0: expected str instance, dict found\n",
      "Error processing C:/Users/lohit/Desktop/Radboud University/Data Engineering (NWI-IMC073-2024)/Data & Codes/extracted_data_json\\693327.json: sequence item 1: expected str instance, dict found\n",
      "Error processing C:/Users/lohit/Desktop/Radboud University/Data Engineering (NWI-IMC073-2024)/Data & Codes/extracted_data_json\\693329.json: sequence item 1: expected str instance, dict found\n",
      "Error processing C:/Users/lohit/Desktop/Radboud University/Data Engineering (NWI-IMC073-2024)/Data & Codes/extracted_data_json\\693331.json: sequence item 1: expected str instance, dict found\n",
      "Error processing C:/Users/lohit/Desktop/Radboud University/Data Engineering (NWI-IMC073-2024)/Data & Codes/extracted_data_json\\693333.json: sequence item 1: expected str instance, dict found\n",
      "Error processing C:/Users/lohit/Desktop/Radboud University/Data Engineering (NWI-IMC073-2024)/Data & Codes/extracted_data_json\\693335.json: sequence item 0: expected str instance, dict found\n",
      "Error processing C:/Users/lohit/Desktop/Radboud University/Data Engineering (NWI-IMC073-2024)/Data & Codes/extracted_data_json\\693337.json: sequence item 1: expected str instance, dict found\n",
      "Error processing C:/Users/lohit/Desktop/Radboud University/Data Engineering (NWI-IMC073-2024)/Data & Codes/extracted_data_json\\693339.json: sequence item 1: expected str instance, dict found\n",
      "Error processing C:/Users/lohit/Desktop/Radboud University/Data Engineering (NWI-IMC073-2024)/Data & Codes/extracted_data_json\\693341.json: sequence item 1: expected str instance, dict found\n",
      "Error processing C:/Users/lohit/Desktop/Radboud University/Data Engineering (NWI-IMC073-2024)/Data & Codes/extracted_data_json\\693343.json: sequence item 1: expected str instance, dict found\n",
      "Error processing C:/Users/lohit/Desktop/Radboud University/Data Engineering (NWI-IMC073-2024)/Data & Codes/extracted_data_json\\693345.json: sequence item 1: expected str instance, dict found\n",
      "Error processing C:/Users/lohit/Desktop/Radboud University/Data Engineering (NWI-IMC073-2024)/Data & Codes/extracted_data_json\\693347.json: sequence item 1: expected str instance, dict found\n",
      "Error processing C:/Users/lohit/Desktop/Radboud University/Data Engineering (NWI-IMC073-2024)/Data & Codes/extracted_data_json\\693349.json: sequence item 1: expected str instance, dict found\n",
      "Error processing C:/Users/lohit/Desktop/Radboud University/Data Engineering (NWI-IMC073-2024)/Data & Codes/extracted_data_json\\693351.json: sequence item 1: expected str instance, dict found\n"
     ]
    },
    {
     "name": "stderr",
     "output_type": "stream",
     "text": [
      "Batch 17:  63%|██████████████████████████████████████████▊                         | 629/1000 [00:06<00:03, 112.37it/s]"
     ]
    },
    {
     "name": "stdout",
     "output_type": "stream",
     "text": [
      "Error processing C:/Users/lohit/Desktop/Radboud University/Data Engineering (NWI-IMC073-2024)/Data & Codes/extracted_data_json\\693353.json: sequence item 1: expected str instance, dict found\n",
      "Error processing C:/Users/lohit/Desktop/Radboud University/Data Engineering (NWI-IMC073-2024)/Data & Codes/extracted_data_json\\693355.json: sequence item 1: expected str instance, dict found\n",
      "Error processing C:/Users/lohit/Desktop/Radboud University/Data Engineering (NWI-IMC073-2024)/Data & Codes/extracted_data_json\\693357.json: sequence item 1: expected str instance, dict found\n",
      "Error processing C:/Users/lohit/Desktop/Radboud University/Data Engineering (NWI-IMC073-2024)/Data & Codes/extracted_data_json\\693361.json: sequence item 1: expected str instance, dict found\n",
      "Error processing C:/Users/lohit/Desktop/Radboud University/Data Engineering (NWI-IMC073-2024)/Data & Codes/extracted_data_json\\693367.json: sequence item 1: expected str instance, dict found\n",
      "Error processing C:/Users/lohit/Desktop/Radboud University/Data Engineering (NWI-IMC073-2024)/Data & Codes/extracted_data_json\\693371.json: sequence item 1: expected str instance, dict found\n",
      "Error processing C:/Users/lohit/Desktop/Radboud University/Data Engineering (NWI-IMC073-2024)/Data & Codes/extracted_data_json\\693373.json: sequence item 1: expected str instance, dict found\n",
      "Error processing C:/Users/lohit/Desktop/Radboud University/Data Engineering (NWI-IMC073-2024)/Data & Codes/extracted_data_json\\693375.json: sequence item 1: expected str instance, dict found\n",
      "Error processing C:/Users/lohit/Desktop/Radboud University/Data Engineering (NWI-IMC073-2024)/Data & Codes/extracted_data_json\\693377.json: sequence item 1: expected str instance, dict found\n",
      "Error processing C:/Users/lohit/Desktop/Radboud University/Data Engineering (NWI-IMC073-2024)/Data & Codes/extracted_data_json\\693379.json: sequence item 1: expected str instance, dict found\n",
      "Error processing C:/Users/lohit/Desktop/Radboud University/Data Engineering (NWI-IMC073-2024)/Data & Codes/extracted_data_json\\693381.json: sequence item 0: expected str instance, dict found\n",
      "Error processing C:/Users/lohit/Desktop/Radboud University/Data Engineering (NWI-IMC073-2024)/Data & Codes/extracted_data_json\\693385.json: sequence item 1: expected str instance, dict found\n",
      "Error processing C:/Users/lohit/Desktop/Radboud University/Data Engineering (NWI-IMC073-2024)/Data & Codes/extracted_data_json\\693387.json: sequence item 1: expected str instance, dict found\n",
      "Error processing C:/Users/lohit/Desktop/Radboud University/Data Engineering (NWI-IMC073-2024)/Data & Codes/extracted_data_json\\693389.json: sequence item 0: expected str instance, dict found\n",
      "Error processing C:/Users/lohit/Desktop/Radboud University/Data Engineering (NWI-IMC073-2024)/Data & Codes/extracted_data_json\\693391.json: sequence item 1: expected str instance, dict found\n",
      "Error processing C:/Users/lohit/Desktop/Radboud University/Data Engineering (NWI-IMC073-2024)/Data & Codes/extracted_data_json\\693393.json: sequence item 1: expected str instance, dict found\n",
      "Error processing C:/Users/lohit/Desktop/Radboud University/Data Engineering (NWI-IMC073-2024)/Data & Codes/extracted_data_json\\693395.json: sequence item 0: expected str instance, dict found\n",
      "Error processing C:/Users/lohit/Desktop/Radboud University/Data Engineering (NWI-IMC073-2024)/Data & Codes/extracted_data_json\\693397.json: sequence item 1: expected str instance, dict found\n",
      "Error processing C:/Users/lohit/Desktop/Radboud University/Data Engineering (NWI-IMC073-2024)/Data & Codes/extracted_data_json\\693399.json: sequence item 1: expected str instance, dict found\n",
      "Error processing C:/Users/lohit/Desktop/Radboud University/Data Engineering (NWI-IMC073-2024)/Data & Codes/extracted_data_json\\693401.json: sequence item 1: expected str instance, dict found\n",
      "Error processing C:/Users/lohit/Desktop/Radboud University/Data Engineering (NWI-IMC073-2024)/Data & Codes/extracted_data_json\\693403.json: sequence item 0: expected str instance, dict found\n",
      "Error processing C:/Users/lohit/Desktop/Radboud University/Data Engineering (NWI-IMC073-2024)/Data & Codes/extracted_data_json\\693405.json: sequence item 1: expected str instance, dict found\n",
      "Error processing C:/Users/lohit/Desktop/Radboud University/Data Engineering (NWI-IMC073-2024)/Data & Codes/extracted_data_json\\693407.json: sequence item 1: expected str instance, dict found\n",
      "Error processing C:/Users/lohit/Desktop/Radboud University/Data Engineering (NWI-IMC073-2024)/Data & Codes/extracted_data_json\\693409.json: sequence item 1: expected str instance, dict found\n",
      "Error processing C:/Users/lohit/Desktop/Radboud University/Data Engineering (NWI-IMC073-2024)/Data & Codes/extracted_data_json\\693411.json: sequence item 1: expected str instance, dict found\n",
      "Error processing C:/Users/lohit/Desktop/Radboud University/Data Engineering (NWI-IMC073-2024)/Data & Codes/extracted_data_json\\693413.json: sequence item 1: expected str instance, dict found\n"
     ]
    },
    {
     "name": "stderr",
     "output_type": "stream",
     "text": [
      "Batch 17:  65%|████████████████████████████████████████████▍                       | 653/1000 [00:06<00:03, 107.56it/s]"
     ]
    },
    {
     "name": "stdout",
     "output_type": "stream",
     "text": [
      "Error processing C:/Users/lohit/Desktop/Radboud University/Data Engineering (NWI-IMC073-2024)/Data & Codes/extracted_data_json\\693415.json: sequence item 0: expected str instance, dict found\n",
      "Error processing C:/Users/lohit/Desktop/Radboud University/Data Engineering (NWI-IMC073-2024)/Data & Codes/extracted_data_json\\693417.json: sequence item 1: expected str instance, dict found\n",
      "Error processing C:/Users/lohit/Desktop/Radboud University/Data Engineering (NWI-IMC073-2024)/Data & Codes/extracted_data_json\\693419.json: sequence item 0: expected str instance, dict found\n",
      "Error processing C:/Users/lohit/Desktop/Radboud University/Data Engineering (NWI-IMC073-2024)/Data & Codes/extracted_data_json\\693421.json: sequence item 1: expected str instance, dict found\n",
      "Error processing C:/Users/lohit/Desktop/Radboud University/Data Engineering (NWI-IMC073-2024)/Data & Codes/extracted_data_json\\693423.json: sequence item 0: expected str instance, dict found\n",
      "Error processing C:/Users/lohit/Desktop/Radboud University/Data Engineering (NWI-IMC073-2024)/Data & Codes/extracted_data_json\\693425.json: sequence item 0: expected str instance, dict found\n",
      "Error processing C:/Users/lohit/Desktop/Radboud University/Data Engineering (NWI-IMC073-2024)/Data & Codes/extracted_data_json\\693427.json: sequence item 0: expected str instance, dict found\n",
      "Error processing C:/Users/lohit/Desktop/Radboud University/Data Engineering (NWI-IMC073-2024)/Data & Codes/extracted_data_json\\693429.json: sequence item 0: expected str instance, dict found\n",
      "Error processing C:/Users/lohit/Desktop/Radboud University/Data Engineering (NWI-IMC073-2024)/Data & Codes/extracted_data_json\\693431.json: sequence item 0: expected str instance, dict found\n",
      "Error processing C:/Users/lohit/Desktop/Radboud University/Data Engineering (NWI-IMC073-2024)/Data & Codes/extracted_data_json\\702139.json: sequence item 0: expected str instance, dict found\n"
     ]
    },
    {
     "name": "stderr",
     "output_type": "stream",
     "text": [
      "Batch 17:  69%|██████████████████████████████████████████████▋                     | 687/1000 [00:07<00:03, 101.03it/s]"
     ]
    },
    {
     "name": "stdout",
     "output_type": "stream",
     "text": [
      "Error processing C:/Users/lohit/Desktop/Radboud University/Data Engineering (NWI-IMC073-2024)/Data & Codes/extracted_data_json\\722389.json: sequence item 0: expected str instance, dict found\n",
      "Error processing C:/Users/lohit/Desktop/Radboud University/Data Engineering (NWI-IMC073-2024)/Data & Codes/extracted_data_json\\722391.json: sequence item 0: expected str instance, dict found\n",
      "Error processing C:/Users/lohit/Desktop/Radboud University/Data Engineering (NWI-IMC073-2024)/Data & Codes/extracted_data_json\\722665.json: sequence item 0: expected str instance, dict found\n",
      "Error processing C:/Users/lohit/Desktop/Radboud University/Data Engineering (NWI-IMC073-2024)/Data & Codes/extracted_data_json\\722667.json: sequence item 0: expected str instance, dict found\n",
      "Error processing C:/Users/lohit/Desktop/Radboud University/Data Engineering (NWI-IMC073-2024)/Data & Codes/extracted_data_json\\722673.json: sequence item 0: expected str instance, dict found\n",
      "Error processing C:/Users/lohit/Desktop/Radboud University/Data Engineering (NWI-IMC073-2024)/Data & Codes/extracted_data_json\\722677.json: sequence item 0: expected str instance, dict found\n",
      "Error processing C:/Users/lohit/Desktop/Radboud University/Data Engineering (NWI-IMC073-2024)/Data & Codes/extracted_data_json\\722679.json: sequence item 0: expected str instance, dict found\n",
      "Error processing C:/Users/lohit/Desktop/Radboud University/Data Engineering (NWI-IMC073-2024)/Data & Codes/extracted_data_json\\722687.json: sequence item 0: expected str instance, dict found\n"
     ]
    },
    {
     "name": "stderr",
     "output_type": "stream",
     "text": [
      "Batch 17:  82%|████████████████████████████████████████████████████████▊            | 824/1000 [00:08<00:01, 88.58it/s]"
     ]
    },
    {
     "name": "stdout",
     "output_type": "stream",
     "text": [
      "Error processing C:/Users/lohit/Desktop/Radboud University/Data Engineering (NWI-IMC073-2024)/Data & Codes/extracted_data_json\\736499.json: sequence item 0: expected str instance, dict found\n",
      "Error processing C:/Users/lohit/Desktop/Radboud University/Data Engineering (NWI-IMC073-2024)/Data & Codes/extracted_data_json\\736501.json: sequence item 0: expected str instance, dict found\n",
      "Error processing C:/Users/lohit/Desktop/Radboud University/Data Engineering (NWI-IMC073-2024)/Data & Codes/extracted_data_json\\736505.json: sequence item 0: expected str instance, dict found\n",
      "Error processing C:/Users/lohit/Desktop/Radboud University/Data Engineering (NWI-IMC073-2024)/Data & Codes/extracted_data_json\\736507.json: sequence item 0: expected str instance, dict found\n",
      "Error processing C:/Users/lohit/Desktop/Radboud University/Data Engineering (NWI-IMC073-2024)/Data & Codes/extracted_data_json\\736511.json: sequence item 0: expected str instance, dict found\n",
      "Error processing C:/Users/lohit/Desktop/Radboud University/Data Engineering (NWI-IMC073-2024)/Data & Codes/extracted_data_json\\736517.json: sequence item 0: expected str instance, dict found\n",
      "Error processing C:/Users/lohit/Desktop/Radboud University/Data Engineering (NWI-IMC073-2024)/Data & Codes/extracted_data_json\\736519.json: sequence item 0: expected str instance, dict found\n",
      "Error processing C:/Users/lohit/Desktop/Radboud University/Data Engineering (NWI-IMC073-2024)/Data & Codes/extracted_data_json\\736525.json: sequence item 0: expected str instance, dict found\n"
     ]
    },
    {
     "name": "stderr",
     "output_type": "stream",
     "text": [
      "Batch 17:  89%|█████████████████████████████████████████████████████████████▍       | 891/1000 [00:09<00:01, 90.47it/s]"
     ]
    },
    {
     "name": "stdout",
     "output_type": "stream",
     "text": [
      "Error processing C:/Users/lohit/Desktop/Radboud University/Data Engineering (NWI-IMC073-2024)/Data & Codes/extracted_data_json\\746087.json: sequence item 0: expected str instance, dict found\n",
      "Error processing C:/Users/lohit/Desktop/Radboud University/Data Engineering (NWI-IMC073-2024)/Data & Codes/extracted_data_json\\746089.json: sequence item 0: expected str instance, dict found\n",
      "Error processing C:/Users/lohit/Desktop/Radboud University/Data Engineering (NWI-IMC073-2024)/Data & Codes/extracted_data_json\\746091.json: sequence item 0: expected str instance, dict found\n",
      "Error processing C:/Users/lohit/Desktop/Radboud University/Data Engineering (NWI-IMC073-2024)/Data & Codes/extracted_data_json\\746093.json: sequence item 0: expected str instance, dict found\n",
      "Error processing C:/Users/lohit/Desktop/Radboud University/Data Engineering (NWI-IMC073-2024)/Data & Codes/extracted_data_json\\746095.json: sequence item 0: expected str instance, dict found\n",
      "Error processing C:/Users/lohit/Desktop/Radboud University/Data Engineering (NWI-IMC073-2024)/Data & Codes/extracted_data_json\\746097.json: sequence item 0: expected str instance, dict found\n",
      "Error processing C:/Users/lohit/Desktop/Radboud University/Data Engineering (NWI-IMC073-2024)/Data & Codes/extracted_data_json\\746101.json: sequence item 0: expected str instance, dict found\n",
      "Error processing C:/Users/lohit/Desktop/Radboud University/Data Engineering (NWI-IMC073-2024)/Data & Codes/extracted_data_json\\746105.json: sequence item 0: expected str instance, dict found\n",
      "Error processing C:/Users/lohit/Desktop/Radboud University/Data Engineering (NWI-IMC073-2024)/Data & Codes/extracted_data_json\\746107.json: sequence item 0: expected str instance, dict found\n",
      "Error processing C:/Users/lohit/Desktop/Radboud University/Data Engineering (NWI-IMC073-2024)/Data & Codes/extracted_data_json\\746109.json: sequence item 0: expected str instance, dict found\n",
      "Error processing C:/Users/lohit/Desktop/Radboud University/Data Engineering (NWI-IMC073-2024)/Data & Codes/extracted_data_json\\749539.json: sequence item 0: expected str instance, dict found\n",
      "Error processing C:/Users/lohit/Desktop/Radboud University/Data Engineering (NWI-IMC073-2024)/Data & Codes/extracted_data_json\\749541.json: sequence item 0: expected str instance, dict found\n"
     ]
    },
    {
     "name": "stderr",
     "output_type": "stream",
     "text": [
      "Batch 17:  91%|██████████████████████████████████████████████████████████████▊      | 910/1000 [00:09<00:01, 80.61it/s]"
     ]
    },
    {
     "name": "stdout",
     "output_type": "stream",
     "text": [
      "Error processing C:/Users/lohit/Desktop/Radboud University/Data Engineering (NWI-IMC073-2024)/Data & Codes/extracted_data_json\\749543.json: sequence item 0: expected str instance, dict found\n",
      "Error processing C:/Users/lohit/Desktop/Radboud University/Data Engineering (NWI-IMC073-2024)/Data & Codes/extracted_data_json\\749545.json: sequence item 0: expected str instance, dict found\n",
      "Error processing C:/Users/lohit/Desktop/Radboud University/Data Engineering (NWI-IMC073-2024)/Data & Codes/extracted_data_json\\749547.json: sequence item 0: expected str instance, dict found\n",
      "Error processing C:/Users/lohit/Desktop/Radboud University/Data Engineering (NWI-IMC073-2024)/Data & Codes/extracted_data_json\\749551.json: sequence item 0: expected str instance, dict found\n",
      "Error processing C:/Users/lohit/Desktop/Radboud University/Data Engineering (NWI-IMC073-2024)/Data & Codes/extracted_data_json\\749553.json: sequence item 0: expected str instance, dict found\n",
      "Error processing C:/Users/lohit/Desktop/Radboud University/Data Engineering (NWI-IMC073-2024)/Data & Codes/extracted_data_json\\749555.json: sequence item 0: expected str instance, dict found\n",
      "Error processing C:/Users/lohit/Desktop/Radboud University/Data Engineering (NWI-IMC073-2024)/Data & Codes/extracted_data_json\\749557.json: sequence item 0: expected str instance, dict found\n",
      "Error processing C:/Users/lohit/Desktop/Radboud University/Data Engineering (NWI-IMC073-2024)/Data & Codes/extracted_data_json\\749561.json: sequence item 0: expected str instance, dict found\n",
      "Error processing C:/Users/lohit/Desktop/Radboud University/Data Engineering (NWI-IMC073-2024)/Data & Codes/extracted_data_json\\749563.json: sequence item 0: expected str instance, dict found\n",
      "Error processing C:/Users/lohit/Desktop/Radboud University/Data Engineering (NWI-IMC073-2024)/Data & Codes/extracted_data_json\\749567.json: sequence item 0: expected str instance, dict found\n",
      "Error processing C:/Users/lohit/Desktop/Radboud University/Data Engineering (NWI-IMC073-2024)/Data & Codes/extracted_data_json\\749569.json: sequence item 0: expected str instance, dict found\n",
      "Error processing C:/Users/lohit/Desktop/Radboud University/Data Engineering (NWI-IMC073-2024)/Data & Codes/extracted_data_json\\749571.json: sequence item 0: expected str instance, dict found\n",
      "Error processing C:/Users/lohit/Desktop/Radboud University/Data Engineering (NWI-IMC073-2024)/Data & Codes/extracted_data_json\\749573.json: sequence item 0: expected str instance, dict found\n"
     ]
    },
    {
     "name": "stderr",
     "output_type": "stream",
     "text": [
      "Batch 17:  96%|██████████████████████████████████████████████████████████████████▏  | 960/1000 [00:10<00:00, 89.67it/s]"
     ]
    },
    {
     "name": "stdout",
     "output_type": "stream",
     "text": [
      "Error processing C:/Users/lohit/Desktop/Radboud University/Data Engineering (NWI-IMC073-2024)/Data & Codes/extracted_data_json\\754787.json: sequence item 0: expected str instance, dict found\n",
      "Error processing C:/Users/lohit/Desktop/Radboud University/Data Engineering (NWI-IMC073-2024)/Data & Codes/extracted_data_json\\754789.json: sequence item 0: expected str instance, dict found\n",
      "Error processing C:/Users/lohit/Desktop/Radboud University/Data Engineering (NWI-IMC073-2024)/Data & Codes/extracted_data_json\\754813.json: sequence item 0: expected str instance, dict found\n"
     ]
    },
    {
     "name": "stderr",
     "output_type": "stream",
     "text": [
      "Batch 17: 100%|████████████████████████████████████████████████████████████████████| 1000/1000 [00:10<00:00, 95.10it/s]\n"
     ]
    },
    {
     "name": "stdout",
     "output_type": "stream",
     "text": [
      "Error processing C:/Users/lohit/Desktop/Radboud University/Data Engineering (NWI-IMC073-2024)/Data & Codes/extracted_data_json\\757505.json: sequence item 0: expected str instance, dict found\n",
      "Error processing C:/Users/lohit/Desktop/Radboud University/Data Engineering (NWI-IMC073-2024)/Data & Codes/extracted_data_json\\757507.json: sequence item 0: expected str instance, dict found\n",
      "Error processing C:/Users/lohit/Desktop/Radboud University/Data Engineering (NWI-IMC073-2024)/Data & Codes/extracted_data_json\\757509.json: sequence item 0: expected str instance, dict found\n",
      "Processing batch 18/19 (files 17001-18000)\n"
     ]
    },
    {
     "name": "stderr",
     "output_type": "stream",
     "text": [
      "Batch 18:   9%|█████▉                                                               | 86/1000 [00:00<00:08, 104.84it/s]"
     ]
    },
    {
     "name": "stdout",
     "output_type": "stream",
     "text": [
      "Error processing C:/Users/lohit/Desktop/Radboud University/Data Engineering (NWI-IMC073-2024)/Data & Codes/extracted_data_json\\785959.json: sequence item 0: expected str instance, dict found\n",
      "Error processing C:/Users/lohit/Desktop/Radboud University/Data Engineering (NWI-IMC073-2024)/Data & Codes/extracted_data_json\\785961.json: sequence item 0: expected str instance, dict found\n",
      "Error processing C:/Users/lohit/Desktop/Radboud University/Data Engineering (NWI-IMC073-2024)/Data & Codes/extracted_data_json\\785963.json: sequence item 0: expected str instance, dict found\n",
      "Error processing C:/Users/lohit/Desktop/Radboud University/Data Engineering (NWI-IMC073-2024)/Data & Codes/extracted_data_json\\785965.json: sequence item 0: expected str instance, dict found\n",
      "Error processing C:/Users/lohit/Desktop/Radboud University/Data Engineering (NWI-IMC073-2024)/Data & Codes/extracted_data_json\\785967.json: sequence item 0: expected str instance, dict found\n",
      "Error processing C:/Users/lohit/Desktop/Radboud University/Data Engineering (NWI-IMC073-2024)/Data & Codes/extracted_data_json\\785969.json: sequence item 0: expected str instance, dict found\n",
      "Error processing C:/Users/lohit/Desktop/Radboud University/Data Engineering (NWI-IMC073-2024)/Data & Codes/extracted_data_json\\785975.json: sequence item 0: expected str instance, dict found\n",
      "Error processing C:/Users/lohit/Desktop/Radboud University/Data Engineering (NWI-IMC073-2024)/Data & Codes/extracted_data_json\\785977.json: sequence item 0: expected str instance, dict found\n",
      "Error processing C:/Users/lohit/Desktop/Radboud University/Data Engineering (NWI-IMC073-2024)/Data & Codes/extracted_data_json\\785979.json: sequence item 0: expected str instance, dict found\n",
      "Error processing C:/Users/lohit/Desktop/Radboud University/Data Engineering (NWI-IMC073-2024)/Data & Codes/extracted_data_json\\785981.json: sequence item 0: expected str instance, dict found\n",
      "Error processing C:/Users/lohit/Desktop/Radboud University/Data Engineering (NWI-IMC073-2024)/Data & Codes/extracted_data_json\\785983.json: sequence item 0: expected str instance, dict found\n",
      "Error processing C:/Users/lohit/Desktop/Radboud University/Data Engineering (NWI-IMC073-2024)/Data & Codes/extracted_data_json\\785985.json: sequence item 0: expected str instance, dict found\n",
      "Error processing C:/Users/lohit/Desktop/Radboud University/Data Engineering (NWI-IMC073-2024)/Data & Codes/extracted_data_json\\785987.json: sequence item 0: expected str instance, dict found\n",
      "Error processing C:/Users/lohit/Desktop/Radboud University/Data Engineering (NWI-IMC073-2024)/Data & Codes/extracted_data_json\\785989.json: sequence item 0: expected str instance, dict found\n",
      "Error processing C:/Users/lohit/Desktop/Radboud University/Data Engineering (NWI-IMC073-2024)/Data & Codes/extracted_data_json\\785991.json: sequence item 0: expected str instance, dict found\n",
      "Error processing C:/Users/lohit/Desktop/Radboud University/Data Engineering (NWI-IMC073-2024)/Data & Codes/extracted_data_json\\785993.json: sequence item 0: expected str instance, dict found\n",
      "Error processing C:/Users/lohit/Desktop/Radboud University/Data Engineering (NWI-IMC073-2024)/Data & Codes/extracted_data_json\\793201.json: sequence item 0: expected str instance, dict found\n"
     ]
    },
    {
     "name": "stderr",
     "output_type": "stream",
     "text": [
      "Batch 18:  39%|██████████████████████████▋                                          | 387/1000 [00:04<00:06, 99.71it/s]"
     ]
    },
    {
     "name": "stdout",
     "output_type": "stream",
     "text": [
      "Error processing C:/Users/lohit/Desktop/Radboud University/Data Engineering (NWI-IMC073-2024)/Data & Codes/extracted_data_json\\804713.json: sequence item 0: expected str instance, dict found\n",
      "Error processing C:/Users/lohit/Desktop/Radboud University/Data Engineering (NWI-IMC073-2024)/Data & Codes/extracted_data_json\\804715.json: sequence item 1: expected str instance, dict found\n",
      "Error processing C:/Users/lohit/Desktop/Radboud University/Data Engineering (NWI-IMC073-2024)/Data & Codes/extracted_data_json\\804723.json: sequence item 1: expected str instance, dict found\n",
      "Error processing C:/Users/lohit/Desktop/Radboud University/Data Engineering (NWI-IMC073-2024)/Data & Codes/extracted_data_json\\804725.json: sequence item 1: expected str instance, dict found\n",
      "Error processing C:/Users/lohit/Desktop/Radboud University/Data Engineering (NWI-IMC073-2024)/Data & Codes/extracted_data_json\\804729.json: sequence item 1: expected str instance, dict found\n",
      "Error processing C:/Users/lohit/Desktop/Radboud University/Data Engineering (NWI-IMC073-2024)/Data & Codes/extracted_data_json\\804731.json: sequence item 1: expected str instance, dict found\n",
      "Error processing C:/Users/lohit/Desktop/Radboud University/Data Engineering (NWI-IMC073-2024)/Data & Codes/extracted_data_json\\804735.json: sequence item 1: expected str instance, dict found\n",
      "Error processing C:/Users/lohit/Desktop/Radboud University/Data Engineering (NWI-IMC073-2024)/Data & Codes/extracted_data_json\\804737.json: sequence item 1: expected str instance, dict found\n",
      "Error processing C:/Users/lohit/Desktop/Radboud University/Data Engineering (NWI-IMC073-2024)/Data & Codes/extracted_data_json\\804739.json: sequence item 1: expected str instance, dict found\n",
      "Error processing C:/Users/lohit/Desktop/Radboud University/Data Engineering (NWI-IMC073-2024)/Data & Codes/extracted_data_json\\804741.json: sequence item 0: expected str instance, dict found\n",
      "Error processing C:/Users/lohit/Desktop/Radboud University/Data Engineering (NWI-IMC073-2024)/Data & Codes/extracted_data_json\\804743.json: sequence item 1: expected str instance, dict found\n",
      "Error processing C:/Users/lohit/Desktop/Radboud University/Data Engineering (NWI-IMC073-2024)/Data & Codes/extracted_data_json\\804745.json: sequence item 1: expected str instance, dict found\n",
      "Error processing C:/Users/lohit/Desktop/Radboud University/Data Engineering (NWI-IMC073-2024)/Data & Codes/extracted_data_json\\804747.json: sequence item 1: expected str instance, dict found\n",
      "Error processing C:/Users/lohit/Desktop/Radboud University/Data Engineering (NWI-IMC073-2024)/Data & Codes/extracted_data_json\\804749.json: sequence item 1: expected str instance, dict found\n",
      "Error processing C:/Users/lohit/Desktop/Radboud University/Data Engineering (NWI-IMC073-2024)/Data & Codes/extracted_data_json\\804751.json: sequence item 1: expected str instance, dict found\n",
      "Error processing C:/Users/lohit/Desktop/Radboud University/Data Engineering (NWI-IMC073-2024)/Data & Codes/extracted_data_json\\804753.json: sequence item 1: expected str instance, dict found\n",
      "Error processing C:/Users/lohit/Desktop/Radboud University/Data Engineering (NWI-IMC073-2024)/Data & Codes/extracted_data_json\\804755.json: sequence item 1: expected str instance, dict found\n"
     ]
    },
    {
     "name": "stderr",
     "output_type": "stream",
     "text": [
      "Batch 18:  40%|███████████████████████████▍                                         | 398/1000 [00:04<00:06, 96.97it/s]"
     ]
    },
    {
     "name": "stdout",
     "output_type": "stream",
     "text": [
      "Error processing C:/Users/lohit/Desktop/Radboud University/Data Engineering (NWI-IMC073-2024)/Data & Codes/extracted_data_json\\804757.json: sequence item 1: expected str instance, dict found\n",
      "Error processing C:/Users/lohit/Desktop/Radboud University/Data Engineering (NWI-IMC073-2024)/Data & Codes/extracted_data_json\\804759.json: sequence item 1: expected str instance, dict found\n",
      "Error processing C:/Users/lohit/Desktop/Radboud University/Data Engineering (NWI-IMC073-2024)/Data & Codes/extracted_data_json\\804761.json: sequence item 1: expected str instance, dict found\n",
      "Error processing C:/Users/lohit/Desktop/Radboud University/Data Engineering (NWI-IMC073-2024)/Data & Codes/extracted_data_json\\804763.json: sequence item 1: expected str instance, dict found\n",
      "Error processing C:/Users/lohit/Desktop/Radboud University/Data Engineering (NWI-IMC073-2024)/Data & Codes/extracted_data_json\\804765.json: sequence item 1: expected str instance, dict found\n",
      "Error processing C:/Users/lohit/Desktop/Radboud University/Data Engineering (NWI-IMC073-2024)/Data & Codes/extracted_data_json\\804767.json: sequence item 1: expected str instance, dict found\n",
      "Error processing C:/Users/lohit/Desktop/Radboud University/Data Engineering (NWI-IMC073-2024)/Data & Codes/extracted_data_json\\804769.json: sequence item 1: expected str instance, dict found\n",
      "Error processing C:/Users/lohit/Desktop/Radboud University/Data Engineering (NWI-IMC073-2024)/Data & Codes/extracted_data_json\\804771.json: sequence item 1: expected str instance, dict found\n",
      "Error processing C:/Users/lohit/Desktop/Radboud University/Data Engineering (NWI-IMC073-2024)/Data & Codes/extracted_data_json\\804773.json: sequence item 1: expected str instance, dict found\n",
      "Error processing C:/Users/lohit/Desktop/Radboud University/Data Engineering (NWI-IMC073-2024)/Data & Codes/extracted_data_json\\804775.json: sequence item 1: expected str instance, dict found\n",
      "Error processing C:/Users/lohit/Desktop/Radboud University/Data Engineering (NWI-IMC073-2024)/Data & Codes/extracted_data_json\\804777.json: sequence item 1: expected str instance, dict found\n",
      "Error processing C:/Users/lohit/Desktop/Radboud University/Data Engineering (NWI-IMC073-2024)/Data & Codes/extracted_data_json\\804779.json: sequence item 1: expected str instance, dict found\n",
      "Error processing C:/Users/lohit/Desktop/Radboud University/Data Engineering (NWI-IMC073-2024)/Data & Codes/extracted_data_json\\804781.json: sequence item 1: expected str instance, dict found\n",
      "Error processing C:/Users/lohit/Desktop/Radboud University/Data Engineering (NWI-IMC073-2024)/Data & Codes/extracted_data_json\\804783.json: sequence item 1: expected str instance, dict found\n",
      "Error processing C:/Users/lohit/Desktop/Radboud University/Data Engineering (NWI-IMC073-2024)/Data & Codes/extracted_data_json\\804785.json: sequence item 1: expected str instance, dict found\n",
      "Error processing C:/Users/lohit/Desktop/Radboud University/Data Engineering (NWI-IMC073-2024)/Data & Codes/extracted_data_json\\804787.json: sequence item 1: expected str instance, dict found\n",
      "Error processing C:/Users/lohit/Desktop/Radboud University/Data Engineering (NWI-IMC073-2024)/Data & Codes/extracted_data_json\\804789.json: sequence item 1: expected str instance, dict found\n",
      "Error processing C:/Users/lohit/Desktop/Radboud University/Data Engineering (NWI-IMC073-2024)/Data & Codes/extracted_data_json\\804791.json: sequence item 1: expected str instance, dict found\n",
      "Error processing C:/Users/lohit/Desktop/Radboud University/Data Engineering (NWI-IMC073-2024)/Data & Codes/extracted_data_json\\804793.json: sequence item 0: expected str instance, dict found\n",
      "Error processing C:/Users/lohit/Desktop/Radboud University/Data Engineering (NWI-IMC073-2024)/Data & Codes/extracted_data_json\\804795.json: sequence item 1: expected str instance, dict found\n"
     ]
    },
    {
     "name": "stderr",
     "output_type": "stream",
     "text": [
      "Batch 18:  42%|████████████████████████████▊                                        | 418/1000 [00:04<00:06, 92.59it/s]"
     ]
    },
    {
     "name": "stdout",
     "output_type": "stream",
     "text": [
      "Error processing C:/Users/lohit/Desktop/Radboud University/Data Engineering (NWI-IMC073-2024)/Data & Codes/extracted_data_json\\804797.json: sequence item 1: expected str instance, dict found\n",
      "Error processing C:/Users/lohit/Desktop/Radboud University/Data Engineering (NWI-IMC073-2024)/Data & Codes/extracted_data_json\\804799.json: sequence item 1: expected str instance, dict found\n",
      "Error processing C:/Users/lohit/Desktop/Radboud University/Data Engineering (NWI-IMC073-2024)/Data & Codes/extracted_data_json\\804801.json: sequence item 1: expected str instance, dict found\n",
      "Error processing C:/Users/lohit/Desktop/Radboud University/Data Engineering (NWI-IMC073-2024)/Data & Codes/extracted_data_json\\804803.json: sequence item 1: expected str instance, dict found\n",
      "Error processing C:/Users/lohit/Desktop/Radboud University/Data Engineering (NWI-IMC073-2024)/Data & Codes/extracted_data_json\\804805.json: sequence item 1: expected str instance, dict found\n",
      "Error processing C:/Users/lohit/Desktop/Radboud University/Data Engineering (NWI-IMC073-2024)/Data & Codes/extracted_data_json\\804807.json: sequence item 0: expected str instance, dict found\n",
      "Error processing C:/Users/lohit/Desktop/Radboud University/Data Engineering (NWI-IMC073-2024)/Data & Codes/extracted_data_json\\804811.json: sequence item 1: expected str instance, dict found\n",
      "Error processing C:/Users/lohit/Desktop/Radboud University/Data Engineering (NWI-IMC073-2024)/Data & Codes/extracted_data_json\\804813.json: sequence item 0: expected str instance, dict found\n",
      "Error processing C:/Users/lohit/Desktop/Radboud University/Data Engineering (NWI-IMC073-2024)/Data & Codes/extracted_data_json\\804815.json: sequence item 1: expected str instance, dict found\n",
      "Error processing C:/Users/lohit/Desktop/Radboud University/Data Engineering (NWI-IMC073-2024)/Data & Codes/extracted_data_json\\804817.json: sequence item 1: expected str instance, dict found\n",
      "Error processing C:/Users/lohit/Desktop/Radboud University/Data Engineering (NWI-IMC073-2024)/Data & Codes/extracted_data_json\\804819.json: sequence item 1: expected str instance, dict found\n",
      "Error processing C:/Users/lohit/Desktop/Radboud University/Data Engineering (NWI-IMC073-2024)/Data & Codes/extracted_data_json\\804821.json: sequence item 1: expected str instance, dict found\n",
      "Error processing C:/Users/lohit/Desktop/Radboud University/Data Engineering (NWI-IMC073-2024)/Data & Codes/extracted_data_json\\804823.json: sequence item 1: expected str instance, dict found\n",
      "Error processing C:/Users/lohit/Desktop/Radboud University/Data Engineering (NWI-IMC073-2024)/Data & Codes/extracted_data_json\\804825.json: sequence item 1: expected str instance, dict found\n",
      "Error processing C:/Users/lohit/Desktop/Radboud University/Data Engineering (NWI-IMC073-2024)/Data & Codes/extracted_data_json\\804827.json: sequence item 1: expected str instance, dict found\n",
      "Error processing C:/Users/lohit/Desktop/Radboud University/Data Engineering (NWI-IMC073-2024)/Data & Codes/extracted_data_json\\804829.json: sequence item 1: expected str instance, dict found\n",
      "Error processing C:/Users/lohit/Desktop/Radboud University/Data Engineering (NWI-IMC073-2024)/Data & Codes/extracted_data_json\\804831.json: sequence item 1: expected str instance, dict found\n",
      "Error processing C:/Users/lohit/Desktop/Radboud University/Data Engineering (NWI-IMC073-2024)/Data & Codes/extracted_data_json\\804833.json: sequence item 1: expected str instance, dict found\n",
      "Error processing C:/Users/lohit/Desktop/Radboud University/Data Engineering (NWI-IMC073-2024)/Data & Codes/extracted_data_json\\804835.json: sequence item 1: expected str instance, dict found\n",
      "Error processing C:/Users/lohit/Desktop/Radboud University/Data Engineering (NWI-IMC073-2024)/Data & Codes/extracted_data_json\\804837.json: sequence item 1: expected str instance, dict found\n",
      "Error processing C:/Users/lohit/Desktop/Radboud University/Data Engineering (NWI-IMC073-2024)/Data & Codes/extracted_data_json\\804839.json: sequence item 1: expected str instance, dict found\n"
     ]
    },
    {
     "name": "stderr",
     "output_type": "stream",
     "text": [
      "Batch 18:  44%|██████████████████████████████                                      | 442/1000 [00:05<00:05, 102.19it/s]"
     ]
    },
    {
     "name": "stdout",
     "output_type": "stream",
     "text": [
      "Error processing C:/Users/lohit/Desktop/Radboud University/Data Engineering (NWI-IMC073-2024)/Data & Codes/extracted_data_json\\804841.json: sequence item 1: expected str instance, dict found\n",
      "Error processing C:/Users/lohit/Desktop/Radboud University/Data Engineering (NWI-IMC073-2024)/Data & Codes/extracted_data_json\\804843.json: sequence item 1: expected str instance, dict found\n",
      "Error processing C:/Users/lohit/Desktop/Radboud University/Data Engineering (NWI-IMC073-2024)/Data & Codes/extracted_data_json\\804845.json: sequence item 1: expected str instance, dict found\n",
      "Error processing C:/Users/lohit/Desktop/Radboud University/Data Engineering (NWI-IMC073-2024)/Data & Codes/extracted_data_json\\804849.json: sequence item 1: expected str instance, dict found\n",
      "Error processing C:/Users/lohit/Desktop/Radboud University/Data Engineering (NWI-IMC073-2024)/Data & Codes/extracted_data_json\\804851.json: sequence item 1: expected str instance, dict found\n",
      "Error processing C:/Users/lohit/Desktop/Radboud University/Data Engineering (NWI-IMC073-2024)/Data & Codes/extracted_data_json\\804853.json: sequence item 1: expected str instance, dict found\n",
      "Error processing C:/Users/lohit/Desktop/Radboud University/Data Engineering (NWI-IMC073-2024)/Data & Codes/extracted_data_json\\804857.json: sequence item 0: expected str instance, dict found\n",
      "Error processing C:/Users/lohit/Desktop/Radboud University/Data Engineering (NWI-IMC073-2024)/Data & Codes/extracted_data_json\\804859.json: sequence item 1: expected str instance, dict found\n",
      "Error processing C:/Users/lohit/Desktop/Radboud University/Data Engineering (NWI-IMC073-2024)/Data & Codes/extracted_data_json\\804861.json: sequence item 0: expected str instance, dict found\n",
      "Error processing C:/Users/lohit/Desktop/Radboud University/Data Engineering (NWI-IMC073-2024)/Data & Codes/extracted_data_json\\804863.json: sequence item 1: expected str instance, dict found\n",
      "Error processing C:/Users/lohit/Desktop/Radboud University/Data Engineering (NWI-IMC073-2024)/Data & Codes/extracted_data_json\\804865.json: sequence item 0: expected str instance, dict found\n",
      "Error processing C:/Users/lohit/Desktop/Radboud University/Data Engineering (NWI-IMC073-2024)/Data & Codes/extracted_data_json\\804867.json: sequence item 0: expected str instance, dict found\n",
      "Error processing C:/Users/lohit/Desktop/Radboud University/Data Engineering (NWI-IMC073-2024)/Data & Codes/extracted_data_json\\804869.json: sequence item 0: expected str instance, dict found\n",
      "Error processing C:/Users/lohit/Desktop/Radboud University/Data Engineering (NWI-IMC073-2024)/Data & Codes/extracted_data_json\\808863.json: sequence item 0: expected str instance, dict found\n",
      "Error processing C:/Users/lohit/Desktop/Radboud University/Data Engineering (NWI-IMC073-2024)/Data & Codes/extracted_data_json\\808865.json: sequence item 0: expected str instance, dict found\n",
      "Error processing C:/Users/lohit/Desktop/Radboud University/Data Engineering (NWI-IMC073-2024)/Data & Codes/extracted_data_json\\810829.json: sequence item 0: expected str instance, dict found\n"
     ]
    },
    {
     "name": "stderr",
     "output_type": "stream",
     "text": [
      "Batch 18:  48%|████████████████████████████████▊                                    | 475/1000 [00:05<00:05, 99.78it/s]"
     ]
    },
    {
     "name": "stdout",
     "output_type": "stream",
     "text": [
      "Error processing C:/Users/lohit/Desktop/Radboud University/Data Engineering (NWI-IMC073-2024)/Data & Codes/extracted_data_json\\812775.json: sequence item 0: expected str instance, dict found\n",
      "Error processing C:/Users/lohit/Desktop/Radboud University/Data Engineering (NWI-IMC073-2024)/Data & Codes/extracted_data_json\\812777.json: sequence item 0: expected str instance, dict found\n",
      "Error processing C:/Users/lohit/Desktop/Radboud University/Data Engineering (NWI-IMC073-2024)/Data & Codes/extracted_data_json\\812779.json: sequence item 0: expected str instance, dict found\n",
      "Error processing C:/Users/lohit/Desktop/Radboud University/Data Engineering (NWI-IMC073-2024)/Data & Codes/extracted_data_json\\812781.json: sequence item 0: expected str instance, dict found\n",
      "Error processing C:/Users/lohit/Desktop/Radboud University/Data Engineering (NWI-IMC073-2024)/Data & Codes/extracted_data_json\\812783.json: sequence item 0: expected str instance, dict found\n",
      "Error processing C:/Users/lohit/Desktop/Radboud University/Data Engineering (NWI-IMC073-2024)/Data & Codes/extracted_data_json\\812785.json: sequence item 0: expected str instance, dict found\n",
      "Error processing C:/Users/lohit/Desktop/Radboud University/Data Engineering (NWI-IMC073-2024)/Data & Codes/extracted_data_json\\812787.json: sequence item 0: expected str instance, dict found\n",
      "Error processing C:/Users/lohit/Desktop/Radboud University/Data Engineering (NWI-IMC073-2024)/Data & Codes/extracted_data_json\\812789.json: sequence item 0: expected str instance, dict found\n",
      "Error processing C:/Users/lohit/Desktop/Radboud University/Data Engineering (NWI-IMC073-2024)/Data & Codes/extracted_data_json\\812791.json: sequence item 0: expected str instance, dict found\n",
      "Error processing C:/Users/lohit/Desktop/Radboud University/Data Engineering (NWI-IMC073-2024)/Data & Codes/extracted_data_json\\812795.json: sequence item 0: expected str instance, dict found\n",
      "Error processing C:/Users/lohit/Desktop/Radboud University/Data Engineering (NWI-IMC073-2024)/Data & Codes/extracted_data_json\\812797.json: sequence item 0: expected str instance, dict found\n",
      "Error processing C:/Users/lohit/Desktop/Radboud University/Data Engineering (NWI-IMC073-2024)/Data & Codes/extracted_data_json\\812799.json: sequence item 0: expected str instance, dict found\n",
      "Error processing C:/Users/lohit/Desktop/Radboud University/Data Engineering (NWI-IMC073-2024)/Data & Codes/extracted_data_json\\812801.json: sequence item 0: expected str instance, dict found\n",
      "Error processing C:/Users/lohit/Desktop/Radboud University/Data Engineering (NWI-IMC073-2024)/Data & Codes/extracted_data_json\\812803.json: sequence item 0: expected str instance, dict found\n",
      "Error processing C:/Users/lohit/Desktop/Radboud University/Data Engineering (NWI-IMC073-2024)/Data & Codes/extracted_data_json\\812805.json: sequence item 0: expected str instance, dict found\n",
      "Error processing C:/Users/lohit/Desktop/Radboud University/Data Engineering (NWI-IMC073-2024)/Data & Codes/extracted_data_json\\812807.json: sequence item 0: expected str instance, dict found\n",
      "Error processing C:/Users/lohit/Desktop/Radboud University/Data Engineering (NWI-IMC073-2024)/Data & Codes/extracted_data_json\\812809.json: sequence item 0: expected str instance, dict found\n"
     ]
    },
    {
     "name": "stderr",
     "output_type": "stream",
     "text": [
      "Batch 18:  50%|█████████████████████████████████▊                                  | 497/1000 [00:05<00:04, 103.46it/s]"
     ]
    },
    {
     "name": "stdout",
     "output_type": "stream",
     "text": [
      "Error processing C:/Users/lohit/Desktop/Radboud University/Data Engineering (NWI-IMC073-2024)/Data & Codes/extracted_data_json\\828245.json: sequence item 0: expected str instance, dict found\n"
     ]
    },
    {
     "name": "stderr",
     "output_type": "stream",
     "text": [
      "Batch 18:  65%|████████████████████████████████████████████▍                       | 654/1000 [00:07<00:03, 108.83it/s]"
     ]
    },
    {
     "name": "stdout",
     "output_type": "stream",
     "text": [
      "Error processing C:/Users/lohit/Desktop/Radboud University/Data Engineering (NWI-IMC073-2024)/Data & Codes/extracted_data_json\\870891.json: sequence item 0: expected str instance, dict found\n"
     ]
    },
    {
     "name": "stderr",
     "output_type": "stream",
     "text": [
      "Batch 18:  74%|██████████████████████████████████████████████████▎                 | 739/1000 [00:07<00:02, 113.03it/s]"
     ]
    },
    {
     "name": "stdout",
     "output_type": "stream",
     "text": [
      "Error processing C:/Users/lohit/Desktop/Radboud University/Data Engineering (NWI-IMC073-2024)/Data & Codes/extracted_data_json\\895797.json: sequence item 0: expected str instance, dict found\n"
     ]
    },
    {
     "name": "stderr",
     "output_type": "stream",
     "text": [
      "Batch 18:  88%|████████████████████████████████████████████████████████████▍        | 875/1000 [00:09<00:01, 91.59it/s]"
     ]
    },
    {
     "name": "stdout",
     "output_type": "stream",
     "text": [
      "Error processing C:/Users/lohit/Desktop/Radboud University/Data Engineering (NWI-IMC073-2024)/Data & Codes/extracted_data_json\\907375.json: sequence item 0: expected str instance, dict found\n",
      "Error processing C:/Users/lohit/Desktop/Radboud University/Data Engineering (NWI-IMC073-2024)/Data & Codes/extracted_data_json\\907391.json: sequence item 0: expected str instance, dict found\n"
     ]
    },
    {
     "name": "stderr",
     "output_type": "stream",
     "text": [
      "Batch 18:  94%|████████████████████████████████████████████████████████████████▉    | 941/1000 [00:09<00:00, 96.03it/s]"
     ]
    },
    {
     "name": "stdout",
     "output_type": "stream",
     "text": [
      "Error processing C:/Users/lohit/Desktop/Radboud University/Data Engineering (NWI-IMC073-2024)/Data & Codes/extracted_data_json\\916647.json: sequence item 1: expected str instance, dict found\n"
     ]
    },
    {
     "name": "stderr",
     "output_type": "stream",
     "text": [
      "Batch 18:  99%|████████████████████████████████████████████████████████████████████ | 987/1000 [00:10<00:00, 79.74it/s]"
     ]
    },
    {
     "name": "stdout",
     "output_type": "stream",
     "text": [
      "Error processing C:/Users/lohit/Desktop/Radboud University/Data Engineering (NWI-IMC073-2024)/Data & Codes/extracted_data_json\\923327.json: sequence item 0: expected str instance, dict found\n",
      "Error processing C:/Users/lohit/Desktop/Radboud University/Data Engineering (NWI-IMC073-2024)/Data & Codes/extracted_data_json\\930567.json: sequence item 1: expected str instance, dict found\n"
     ]
    },
    {
     "name": "stderr",
     "output_type": "stream",
     "text": [
      "Batch 18: 100%|████████████████████████████████████████████████████████████████████| 1000/1000 [00:10<00:00, 93.62it/s]\n"
     ]
    },
    {
     "name": "stdout",
     "output_type": "stream",
     "text": [
      "Processing batch 19/19 (files 18001-18646)\n"
     ]
    },
    {
     "name": "stderr",
     "output_type": "stream",
     "text": [
      "Batch 19:   7%|████▊                                                                 | 44/646 [00:00<00:05, 111.46it/s]"
     ]
    },
    {
     "name": "stdout",
     "output_type": "stream",
     "text": [
      "Error processing C:/Users/lohit/Desktop/Radboud University/Data Engineering (NWI-IMC073-2024)/Data & Codes/extracted_data_json\\935813.json: sequence item 0: expected str instance, dict found\n",
      "Error processing C:/Users/lohit/Desktop/Radboud University/Data Engineering (NWI-IMC073-2024)/Data & Codes/extracted_data_json\\935817.json: sequence item 1: expected str instance, dict found\n",
      "Error processing C:/Users/lohit/Desktop/Radboud University/Data Engineering (NWI-IMC073-2024)/Data & Codes/extracted_data_json\\935821.json: sequence item 0: expected str instance, dict found\n"
     ]
    },
    {
     "name": "stderr",
     "output_type": "stream",
     "text": [
      "Batch 19:  10%|███████▎                                                               | 67/646 [00:00<00:05, 99.17it/s]"
     ]
    },
    {
     "name": "stdout",
     "output_type": "stream",
     "text": [
      "Error processing C:/Users/lohit/Desktop/Radboud University/Data Engineering (NWI-IMC073-2024)/Data & Codes/extracted_data_json\\946545.json: sequence item 0: expected str instance, dict found\n",
      "Error processing C:/Users/lohit/Desktop/Radboud University/Data Engineering (NWI-IMC073-2024)/Data & Codes/extracted_data_json\\946547.json: sequence item 0: expected str instance, dict found\n",
      "Error processing C:/Users/lohit/Desktop/Radboud University/Data Engineering (NWI-IMC073-2024)/Data & Codes/extracted_data_json\\946549.json: sequence item 0: expected str instance, dict found\n"
     ]
    },
    {
     "name": "stderr",
     "output_type": "stream",
     "text": [
      "Batch 19:  79%|██████████████████████████████████████████████████████▌              | 511/646 [00:05<00:01, 113.61it/s]"
     ]
    },
    {
     "name": "stdout",
     "output_type": "stream",
     "text": [
      "Error processing C:/Users/lohit/Desktop/Radboud University/Data Engineering (NWI-IMC073-2024)/Data & Codes/extracted_data_json\\962017.json: sequence item 1: expected str instance, dict found\n"
     ]
    },
    {
     "name": "stderr",
     "output_type": "stream",
     "text": [
      "Batch 19:  99%|█████████████████████████████████████████████████████████████████████▏| 638/646 [00:06<00:00, 98.26it/s]"
     ]
    },
    {
     "name": "stdout",
     "output_type": "stream",
     "text": [
      "Error processing C:/Users/lohit/Desktop/Radboud University/Data Engineering (NWI-IMC073-2024)/Data & Codes/extracted_data_json\\wi_201706.json: sequence item 0: expected str instance, dict found\n"
     ]
    },
    {
     "name": "stderr",
     "output_type": "stream",
     "text": [
      "Batch 19: 100%|██████████████████████████████████████████████████████████████████████| 646/646 [00:06<00:00, 99.05it/s]\n"
     ]
    },
    {
     "name": "stdout",
     "output_type": "stream",
     "text": [
      "Created metadata for 18646 matches\n",
      "\n",
      "Basic statistics about the metadata:\n",
      "                        count unique  \\\n",
      "match_id                18646  18646   \n",
      "data_version            17956      2   \n",
      "created_date            17956   2219   \n",
      "revision              17956.0    NaN   \n",
      "match_type              17956      6   \n",
      "match_type_number      7559.0    NaN   \n",
      "gender                  17956      2   \n",
      "teams                   17956   3546   \n",
      "team_type               17956      2   \n",
      "overs                 15332.0    NaN   \n",
      "balls_per_over        17956.0    NaN   \n",
      "date                    17956   5289   \n",
      "city                    16361    324   \n",
      "venue                   17956    798   \n",
      "season                  17956     60   \n",
      "event_name              17873    920   \n",
      "event_group              5026     31   \n",
      "umpires                 17188   6542   \n",
      "referees                  0.0    NaN   \n",
      "toss_winner             17956    355   \n",
      "toss_decision           17956      2   \n",
      "outcome_winner          16599    348   \n",
      "outcome_result           1357      3   \n",
      "outcome_method            745      4   \n",
      "outcome_by_runs        8335.0    NaN   \n",
      "outcome_by_wickets     8260.0    NaN   \n",
      "player_of_match         17956   3156   \n",
      "team1_players         17956.0    NaN   \n",
      "team2_players         17956.0    NaN   \n",
      "registry_count        17956.0    NaN   \n",
      "missing_fields          17956     13   \n",
      "has_innings_data        17956      1   \n",
      "innings_count         17956.0    NaN   \n",
      "total_overs_recorded  17956.0    NaN   \n",
      "total_deliveries      17956.0    NaN   \n",
      "error                     690      3   \n",
      "\n",
      "                                                                    top  \\\n",
      "match_id                                                        1000851   \n",
      "data_version                                                      1.1.0   \n",
      "created_date                                                 2021-09-10   \n",
      "revision                                                            NaN   \n",
      "match_type                                                          T20   \n",
      "match_type_number                                                   NaN   \n",
      "gender                                                             male   \n",
      "teams                                                 England|Australia   \n",
      "team_type                                                          club   \n",
      "overs                                                               NaN   \n",
      "balls_per_over                                                      NaN   \n",
      "date                                                         2019-02-24   \n",
      "city                                                             London   \n",
      "venue                               Dubai International Cricket Stadium   \n",
      "season                                                             2024   \n",
      "event_name                                        Indian Premier League   \n",
      "event_group                                                       South   \n",
      "umpires                                             CM Brown|WR Knights   \n",
      "referees                                                            NaN   \n",
      "toss_winner                                                   Australia   \n",
      "toss_decision                                                     field   \n",
      "outcome_winner                                                Australia   \n",
      "outcome_result                                                     draw   \n",
      "outcome_method                                                      D/L   \n",
      "outcome_by_runs                                                     NaN   \n",
      "outcome_by_wickets                                                  NaN   \n",
      "player_of_match                                                           \n",
      "team1_players                                                       NaN   \n",
      "team2_players                                                       NaN   \n",
      "registry_count                                                      NaN   \n",
      "missing_fields                                                            \n",
      "has_innings_data                                                   True   \n",
      "innings_count                                                       NaN   \n",
      "total_overs_recorded                                                NaN   \n",
      "total_deliveries                                                    NaN   \n",
      "error                 sequence item 0: expected str instance, dict f...   \n",
      "\n",
      "                       freq         mean          std   min     max  \n",
      "match_id                  1          NaN          NaN   NaN     NaN  \n",
      "data_version          10555          NaN          NaN   NaN     NaN  \n",
      "created_date            148          NaN          NaN   NaN     NaN  \n",
      "revision                NaN     1.321675     0.566886   1.0     6.0  \n",
      "match_type            11289          NaN          NaN   NaN     NaN  \n",
      "match_type_number       NaN  2155.819685  1206.974591   1.0  4863.0  \n",
      "gender                14808          NaN          NaN   NaN     NaN  \n",
      "teams                   122          NaN          NaN   NaN     NaN  \n",
      "team_type              9753          NaN          NaN   NaN     NaN  \n",
      "overs                   NaN    27.312158    12.880524  20.0    50.0  \n",
      "balls_per_over          NaN     5.985854     0.118095   5.0     6.0  \n",
      "date                     23          NaN          NaN   NaN     NaN  \n",
      "city                    548          NaN          NaN   NaN     NaN  \n",
      "venue                   339          NaN          NaN   NaN     NaN  \n",
      "season                 1288          NaN          NaN   NaN     NaN  \n",
      "event_name             1128          NaN          NaN   NaN     NaN  \n",
      "event_group             760          NaN          NaN   NaN     NaN  \n",
      "umpires                  35          NaN          NaN   NaN     NaN  \n",
      "referees                NaN          NaN          NaN   NaN     NaN  \n",
      "toss_winner             568          NaN          NaN   NaN     NaN  \n",
      "toss_decision         10257          NaN          NaN   NaN     NaN  \n",
      "outcome_winner          669          NaN          NaN   NaN     NaN  \n",
      "outcome_result          821          NaN          NaN   NaN     NaN  \n",
      "outcome_method          738          NaN          NaN   NaN     NaN  \n",
      "outcome_by_runs         NaN    58.078944     62.37891   1.0   504.0  \n",
      "outcome_by_wickets      NaN     6.165254     2.120633   1.0    10.0  \n",
      "player_of_match        4649          NaN          NaN   NaN     NaN  \n",
      "team1_players           NaN     11.02495     0.158457  10.0    14.0  \n",
      "team2_players           NaN    11.025228     0.159638  11.0    13.0  \n",
      "registry_count          NaN    26.075908     1.437059  21.0    32.0  \n",
      "missing_fields        16169          NaN          NaN   NaN     NaN  \n",
      "has_innings_data      17956          NaN          NaN   NaN     NaN  \n",
      "innings_count           NaN     2.231845     0.643275   1.0     6.0  \n",
      "total_overs_recorded    NaN    85.234518    94.514933   1.0   451.0  \n",
      "total_deliveries        NaN   518.776843   567.514208   2.0  2731.0  \n",
      "error                   496          NaN          NaN   NaN     NaN  \n",
      "\n",
      "NULL value analysis:\n",
      "                      null_count  null_percentage\n",
      "referees                   18646       100.000000\n",
      "error                      17956        96.299474\n",
      "outcome_method             17901        96.004505\n",
      "outcome_result             17289        92.722300\n",
      "event_group                13620        73.045157\n",
      "match_type_number          11087        59.460474\n",
      "outcome_by_wickets         10386        55.700955\n",
      "outcome_by_runs            10311        55.298724\n",
      "overs                       3314        17.773249\n",
      "city                        2285        12.254639\n",
      "outcome_winner              2047        10.978226\n",
      "umpires                     1458         7.819371\n",
      "event_name                   773         4.145661\n",
      "player_of_match              690         3.700526\n",
      "team1_players                690         3.700526\n",
      "revision                     690         3.700526\n",
      "team2_players                690         3.700526\n",
      "missing_fields               690         3.700526\n",
      "has_innings_data             690         3.700526\n",
      "innings_count                690         3.700526\n",
      "total_overs_recorded         690         3.700526\n",
      "total_deliveries             690         3.700526\n",
      "registry_count               690         3.700526\n",
      "toss_winner                  690         3.700526\n",
      "toss_decision                690         3.700526\n",
      "match_type                   690         3.700526\n",
      "created_date                 690         3.700526\n",
      "season                       690         3.700526\n",
      "venue                        690         3.700526\n",
      "date                         690         3.700526\n",
      "balls_per_over               690         3.700526\n",
      "team_type                    690         3.700526\n",
      "teams                        690         3.700526\n",
      "gender                       690         3.700526\n",
      "data_version                 690         3.700526\n",
      "\n",
      "Matches without innings data: 0\n",
      "\n",
      "Quality analysis by match type:\n",
      "  match_type  count  total_deliveries  avg_innings  pct_null_city  \\\n",
      "0       IT20    319           70696.0     1.987461      11.912226   \n",
      "1        MDM   1763         3029734.0     3.562677       8.224617   \n",
      "2        ODI   2617         1390015.0     1.979366      10.240734   \n",
      "3        ODM   1107          572534.0     1.975610       2.981030   \n",
      "4        T20  11289         2582909.0     2.001506       8.973337   \n",
      "5       Test    861         1669269.0     3.714286      11.382114   \n",
      "\n",
      "   pct_null_venue  pct_with_winner  pct_with_result  pct_with_pom  \\\n",
      "0             0.0        98.119122         1.880878     84.639498   \n",
      "1             0.0        63.131027        36.868973     10.493477   \n",
      "2             0.0        94.841421         5.158579     93.580436   \n",
      "3             0.0        95.121951         4.878049     31.074977   \n",
      "4             0.0        96.997077         3.002923     81.574984   \n",
      "5             0.0        79.907085        20.092915     98.722416   \n",
      "\n",
      "   pct_with_missing_fields  \n",
      "0                13.793103  \n",
      "1                 0.680658  \n",
      "2                 2.407337  \n",
      "3                25.745257  \n",
      "4                12.242005  \n",
      "5                 0.116144  \n",
      "\n",
      "Matches by year:\n",
      "date\n",
      "2001.0       1\n",
      "2002.0       3\n",
      "2003.0     140\n",
      "2004.0      96\n",
      "2005.0      72\n",
      "2006.0     126\n",
      "2007.0     190\n",
      "2008.0     202\n",
      "2009.0     262\n",
      "2010.0     272\n",
      "2011.0     285\n",
      "2012.0     384\n",
      "2013.0     476\n",
      "2014.0     709\n",
      "2015.0     787\n",
      "2016.0    1013\n",
      "2017.0    1002\n",
      "2018.0    1282\n",
      "2019.0    1605\n",
      "2020.0     700\n",
      "2021.0    1574\n",
      "2022.0    1987\n",
      "2023.0    1989\n",
      "2024.0    2307\n",
      "2025.0     492\n",
      "dtype: int64\n",
      "\n",
      "Top 20 venues:\n",
      "venue\n",
      "Dubai International Cricket Stadium      339\n",
      "Shere Bangla National Stadium, Mirpur    333\n",
      "County Ground                            236\n",
      "Edgbaston, Birmingham                    215\n",
      "The Rose Bowl, Southampton               197\n",
      "Harare Sports Club                       193\n",
      "Adelaide Oval                            192\n",
      "Melbourne Cricket Ground                 180\n",
      "Sydney Cricket Ground                    180\n",
      "Trent Bridge, Nottingham                 176\n",
      "Kennington Oval, London                  174\n",
      "Sharjah Cricket Stadium                  167\n",
      "Old Trafford, Manchester                 162\n",
      "County Ground, Chelmsford                161\n",
      "Headingley, Leeds                        159\n",
      "Lord's, London                           150\n",
      "Sophia Gardens, Cardiff                  149\n",
      "County Ground, Hove                      148\n",
      "County Ground, New Road, Worcester       147\n",
      "County Ground, Northampton               144\n",
      "Name: count, dtype: int64\n",
      "Total unique venues: 798\n",
      "\n",
      "Potentially similar venue names:\n",
      "                                             venue1  \\\n",
      "0  Daren Sammy National Cricket Stadium, Gros Islet   \n",
      "4                          Willowmoore Park B Field   \n",
      "5                             M.Chinnaswamy Stadium   \n",
      "1            Saurashtra Cricket Association Stadium   \n",
      "2                                       Skarpnack 1   \n",
      "3                Wright Cricket Field, Woodley Park   \n",
      "\n",
      "                                              venue2  similarity  \n",
      "0  Darren Sammy National Cricket Stadium, Gros Islet          99  \n",
      "4                           Willowmoore Park C Field          96  \n",
      "5                              M Chinnaswamy Stadium          95  \n",
      "1            Maharashtra Cricket Association Stadium          94  \n",
      "2                                        Skarpnack 2          91  \n",
      "3                   Wong Cricket Field, Woodley Park          91  \n",
      "\n",
      "Player registry statistics:\n",
      "Average players per match: 26.08\n",
      "Minimum players: 21.0\n",
      "Maximum players: 32.0\n",
      "\n",
      "Top 20 team combinations:\n",
      "teams\n",
      "England|Australia         122\n",
      "Australia|India           111\n",
      "Australia|England         105\n",
      "New Zealand|Pakistan       97\n",
      "England|Pakistan           96\n",
      "India|Sri Lanka            92\n",
      "India|Australia            90\n",
      "Australia|Pakistan         88\n",
      "India|England              86\n",
      "India|South Africa         85\n",
      "England|India              83\n",
      "England|New Zealand        78\n",
      "England|West Indies        76\n",
      "South Africa|England       72\n",
      "India|West Indies          71\n",
      "Australia|New Zealand      71\n",
      "Sri Lanka|India            67\n",
      "New Zealand|Sri Lanka      67\n",
      "Sri Lanka|Pakistan         65\n",
      "South Africa|Sri Lanka     65\n",
      "Name: count, dtype: int64\n",
      "\n",
      "Matches with potential quality issues: 9\n",
      "      match_id match_type  total_deliveries  team1_players  team2_players  \\\n",
      "1482   1124687        T20               6.0           11.0           11.0   \n",
      "1891   1130677        T20             249.0           11.0           11.0   \n",
      "5966   1263166        T20               8.0           11.0           11.0   \n",
      "10754  1409478        T20               3.0           11.0           11.0   \n",
      "11595  1424829        T20               2.0           11.0           11.0   \n",
      "12805  1452625        T20             191.0           10.0           11.0   \n",
      "15259   566927        T20               2.0           11.0           11.0   \n",
      "17995   932861        ODI               9.0           11.0           11.0   \n",
      "18342   947405        ODM               6.0           11.0           11.0   \n",
      "\n",
      "       registry_count  \n",
      "1482             27.0  \n",
      "1891             21.0  \n",
      "5966             27.0  \n",
      "10754            27.0  \n",
      "11595            27.0  \n",
      "12805            24.0  \n",
      "15259            27.0  \n",
      "17995            27.0  \n",
      "18342            24.0  \n"
     ]
    }
   ],
   "source": [
    "\n",
    "all_files = glob(data_path)\n",
    "\n",
    "print(f\"Total match files found: {len(all_files)}\")\n",
    "\n",
    "def extract_match_metadata(file_path):\n",
    "    \"\"\"Extract comprehensive metadata from a match file\"\"\"\n",
    "    try:\n",
    "        with open(file_path, 'r') as f:\n",
    "            data = json.load(f)\n",
    "        \n",
    "        # Get match ID from filename\n",
    "        match_id = os.path.basename(file_path).split('.')[0]\n",
    "        \n",
    "        # Extract meta information\n",
    "        meta = data.get('meta', {})\n",
    "        info = data.get('info', {})\n",
    "        \n",
    "        # Extract basic metadata\n",
    "        metadata = {\n",
    "            'match_id': match_id,\n",
    "            'data_version': meta.get('data_version'),\n",
    "            'created_date': meta.get('created'),\n",
    "            'revision': meta.get('revision'),\n",
    "            \n",
    "            # Match information\n",
    "            'match_type': info.get('match_type'),\n",
    "            'match_type_number': info.get('match_type_number'),\n",
    "            'gender': info.get('gender'),\n",
    "            'teams': '|'.join(info.get('teams', [])),\n",
    "            'team_type': info.get('team_type'),\n",
    "            'overs': info.get('overs'),\n",
    "            'balls_per_over': info.get('balls_per_over'),\n",
    "            \n",
    "            # Date and location\n",
    "            'date': info.get('dates', [None])[0] if info.get('dates') else None,\n",
    "            'city': info.get('city'),\n",
    "            'venue': info.get('venue'),\n",
    "            'season': info.get('season'),\n",
    "            \n",
    "            # Event information\n",
    "            'event_name': info.get('event', {}).get('name') if isinstance(info.get('event'), dict) else info.get('event'),\n",
    "            'event_group': info.get('event', {}).get('group') if isinstance(info.get('event'), dict) else None,\n",
    "            \n",
    "            # Officials\n",
    "            'umpires': '|'.join(info.get('officials', {}).get('umpires', [])) if 'officials' in info else None,\n",
    "            'referees': '|'.join(info.get('officials', {}).get('referees', [])) if 'officials' in info and 'referees' in info['officials'] else None,\n",
    "            \n",
    "            # Toss information\n",
    "            'toss_winner': info.get('toss', {}).get('winner') if 'toss' in info else None,\n",
    "            'toss_decision': info.get('toss', {}).get('decision') if 'toss' in info else None,\n",
    "            \n",
    "            # Outcome information\n",
    "            'outcome_winner': info.get('outcome', {}).get('winner') if 'outcome' in info and 'winner' in info['outcome'] else None,\n",
    "            'outcome_result': info.get('outcome', {}).get('result') if 'outcome' in info and 'result' in info['outcome'] else None,\n",
    "            'outcome_method': info.get('outcome', {}).get('method') if 'outcome' in info and 'method' in info['outcome'] else None,\n",
    "            'outcome_by_runs': info.get('outcome', {}).get('by', {}).get('runs') if 'outcome' in info and 'by' in info['outcome'] and 'runs' in info['outcome']['by'] else None,\n",
    "            'outcome_by_wickets': info.get('outcome', {}).get('by', {}).get('wickets') if 'outcome' in info and 'by' in info['outcome'] and 'wickets' in info['outcome']['by'] else None,\n",
    "            \n",
    "            # Player information\n",
    "            'player_of_match': '|'.join(info.get('player_of_match', [])),\n",
    "            'team1_players': len(info.get('players', {}).get(info.get('teams', [''])[0], [])) if info.get('teams') and info.get('players') else 0,\n",
    "            'team2_players': len(info.get('players', {}).get(info.get('teams', ['', ''])[1], [])) if len(info.get('teams', [])) > 1 and info.get('players') else 0,\n",
    "            'registry_count': len(info.get('registry', {}).get('people', {})) if 'registry' in info else 0,\n",
    "            \n",
    "            # Data completeness\n",
    "            'missing_fields': '|'.join(info.get('missing', [])),\n",
    "            'has_innings_data': 'innings' in data and len(data['innings']) > 0,\n",
    "            'innings_count': len(data.get('innings', [])),\n",
    "            'total_overs_recorded': sum(len(innings.get('overs', [])) for innings in data.get('innings', [])),\n",
    "            'total_deliveries': sum(sum(len(over.get('deliveries', [])) for over in innings.get('overs', [])) \n",
    "                                   for innings in data.get('innings', []))\n",
    "        }\n",
    "                \n",
    "        return metadata\n",
    "    \n",
    "    except Exception as e:\n",
    "        print(f\"Error processing {file_path}: {e}\")\n",
    "        return {'match_id': os.path.basename(file_path).split('.')[0], 'error': str(e)}\n",
    "\n",
    "# Process files in batches to manage memory usage\n",
    "def process_files_in_batches(file_paths, batch_size=1000):\n",
    "    \"\"\"Process files in batches to manage memory usage\"\"\"\n",
    "    num_batches = (len(file_paths) + batch_size - 1) // batch_size\n",
    "    all_metadata = []\n",
    "    \n",
    "    for batch_idx in range(num_batches):\n",
    "        start_idx = batch_idx * batch_size\n",
    "        end_idx = min((batch_idx + 1) * batch_size, len(file_paths))\n",
    "        batch_files = file_paths[start_idx:end_idx]\n",
    "        \n",
    "        print(f\"Processing batch {batch_idx+1}/{num_batches} (files {start_idx+1}-{end_idx})\")\n",
    "        \n",
    "        batch_metadata = []\n",
    "        for file_path in tqdm(batch_files, desc=f\"Batch {batch_idx+1}\"):\n",
    "            metadata = extract_match_metadata(file_path)\n",
    "            batch_metadata.append(metadata)\n",
    "        \n",
    "        all_metadata.extend(batch_metadata)\n",
    "        \n",
    "        # Optional: Save intermediate results\n",
    "        if batch_idx % 5 == 0:\n",
    "            temp_df = pd.DataFrame(all_metadata)\n",
    "            temp_df.to_csv(f'cricket_metadata_partial_{end_idx}.csv', index=False)\n",
    "            print(f\"Saved intermediate results up to file {end_idx}\")\n",
    "    \n",
    "    return pd.DataFrame(all_metadata)\n",
    "\n",
    "# Process all files in batches\n",
    "match_metadata_df = process_files_in_batches(all_files, batch_size=1000)\n",
    "print(f\"Created metadata for {len(match_metadata_df)} matches\")\n",
    "\n",
    "# Save complete results\n",
    "match_metadata_df.to_csv('cricket_match_metadata_complete.csv', index=False)\n",
    "\n",
    "# Display basic statistics about the metadata\n",
    "print(\"\\nBasic statistics about the metadata:\")\n",
    "print(match_metadata_df.describe(include='all').transpose()[['count', 'unique', 'top', 'freq', 'mean', 'std', 'min', 'max']])\n",
    "\n",
    "# Check for NULL values and completeness\n",
    "null_counts = match_metadata_df.isnull().sum()\n",
    "null_percentages = null_counts / len(match_metadata_df) * 100\n",
    "null_analysis = pd.DataFrame({'null_count': null_counts, 'null_percentage': null_percentages})\n",
    "print(\"\\nNULL value analysis:\")\n",
    "print(null_analysis[null_analysis['null_count'] > 0].sort_values('null_count', ascending=False))\n",
    "\n",
    "# Check for empty matches (no innings data)\n",
    "empty_matches = match_metadata_df[match_metadata_df['has_innings_data'] == False]\n",
    "print(f\"\\nMatches without innings data: {len(empty_matches)}\")\n",
    "\n",
    "# Analyze completeness by match type\n",
    "match_type_analysis = match_metadata_df.groupby('match_type').agg({\n",
    "    'match_id': 'count',\n",
    "    'total_deliveries': 'sum',\n",
    "    'innings_count': 'mean',\n",
    "    'city': lambda x: x.isnull().mean() * 100,\n",
    "    'venue': lambda x: x.isnull().mean() * 100,\n",
    "    'outcome_winner': lambda x: x.notnull().mean() * 100,\n",
    "    'outcome_result': lambda x: x.notnull().mean() * 100,\n",
    "    'player_of_match': lambda x: (x != '').mean() * 100,\n",
    "    'missing_fields': lambda x: (x != '').mean() * 100\n",
    "}).reset_index()\n",
    "\n",
    "match_type_analysis.columns = ['match_type', 'count', 'total_deliveries', 'avg_innings', \n",
    "                              'pct_null_city', 'pct_null_venue', 'pct_with_winner', \n",
    "                              'pct_with_result', 'pct_with_pom', 'pct_with_missing_fields']\n",
    "\n",
    "print(\"\\nQuality analysis by match type:\")\n",
    "print(match_type_analysis)\n",
    "\n",
    "# Analyze date distribution\n",
    "match_metadata_df['date'] = pd.to_datetime(match_metadata_df['date'], errors='coerce')\n",
    "date_distribution = match_metadata_df.groupby(match_metadata_df['date'].dt.year).size()\n",
    "print(\"\\nMatches by year:\")\n",
    "print(date_distribution)\n",
    "\n",
    "# Analyze venue consistency\n",
    "venue_corrections = {}\n",
    "top_venues = match_metadata_df['venue'].value_counts().head(20)\n",
    "print(\"\\nTop 20 venues:\")\n",
    "print(top_venues)\n",
    "\n",
    "# Check for similar venue names (potential inconsistencies)\n",
    "def find_similar_venues(venues, threshold=90):\n",
    "    similar_pairs = []\n",
    "    venue_list = list(venues)\n",
    "    \n",
    "    # Process in smaller chunks to avoid memory issues\n",
    "    chunk_size = 50\n",
    "    for i in range(0, len(venue_list), chunk_size):\n",
    "        chunk = venue_list[i:i+chunk_size]\n",
    "        for venue1, venue2 in combinations(chunk, 2):\n",
    "            similarity = fuzz.ratio(str(venue1).lower(), str(venue2).lower())\n",
    "            if similarity >= threshold:\n",
    "                similar_pairs.append((venue1, venue2, similarity))\n",
    "        \n",
    "        # Also compare with venues from other chunks\n",
    "        if i > 0:\n",
    "            for venue1 in chunk:\n",
    "                for j in range(0, i, chunk_size):\n",
    "                    other_chunk = venue_list[j:j+chunk_size]\n",
    "                    for venue2 in other_chunk:\n",
    "                        similarity = fuzz.ratio(str(venue1).lower(), str(venue2).lower())\n",
    "                        if similarity >= threshold:\n",
    "                            similar_pairs.append((venue1, venue2, similarity))\n",
    "    \n",
    "    return pd.DataFrame(similar_pairs, columns=['venue1', 'venue2', 'similarity']).sort_values('similarity', ascending=False)\n",
    "\n",
    "# Get all unique venues\n",
    "all_venues = match_metadata_df['venue'].dropna().unique()\n",
    "print(f\"Total unique venues: {len(all_venues)}\")\n",
    "\n",
    "# Find similar venues in chunks to manage memory\n",
    "similar_venues = find_similar_venues(all_venues[:200])  # Start with top 200 venues\n",
    "print(\"\\nPotentially similar venue names:\")\n",
    "print(similar_venues.head(20))\n",
    "\n",
    "# Save similar venues for later reference\n",
    "similar_venues.to_csv('similar_venues.csv', index=False)\n",
    "\n",
    "# Additional analysis: Player registry completeness\n",
    "player_registry_counts = match_metadata_df['registry_count']\n",
    "print(\"\\nPlayer registry statistics:\")\n",
    "print(f\"Average players per match: {player_registry_counts.mean():.2f}\")\n",
    "print(f\"Minimum players: {player_registry_counts.min()}\")\n",
    "print(f\"Maximum players: {player_registry_counts.max()}\")\n",
    "\n",
    "# Team name variations\n",
    "team_variations = match_metadata_df['teams'].value_counts().head(20)\n",
    "print(\"\\nTop 20 team combinations:\")\n",
    "print(team_variations)\n",
    "\n",
    "# Identify matches with potential data quality issues\n",
    "quality_issues = match_metadata_df[\n",
    "    (match_metadata_df['total_deliveries'] < 10) |  # Too few deliveries\n",
    "    (match_metadata_df['team1_players'] < 11) |     # Too few players\n",
    "    (match_metadata_df['team2_players'] < 11) |     # Too few players\n",
    "    (match_metadata_df['registry_count'] < 22)      # Incomplete registry\n",
    "]\n",
    "\n",
    "print(f\"\\nMatches with potential quality issues: {len(quality_issues)}\")\n",
    "if len(quality_issues) > 0:\n",
    "    print(quality_issues[['match_id', 'match_type', 'total_deliveries', 'team1_players', 'team2_players', 'registry_count']].head(10))\n",
    "\n",
    "# Save results of quality issues for further investigation\n",
    "quality_issues.to_csv('matches_with_quality_issues.csv', index=False)"
   ]
  },
  {
   "cell_type": "code",
   "execution_count": 19,
   "id": "7238014b-ca2d-4a7c-a377-aa84fae25818",
   "metadata": {},
   "outputs": [
    {
     "name": "stdout",
     "output_type": "stream",
     "text": [
      "Data type analysis (no transformations performed):\n",
      "\n",
      "File: C:/Users/lohit/Desktop/Radboud University/Data Engineering (NWI-IMC073-2024)/Data & Codes/extracted_data_json\\1000851.json\n",
      "Info field types:\n",
      "  balls_per_over: int\n",
      "  city: str\n",
      "  dates: list\n",
      "  event: dict\n",
      "  gender: str\n",
      "  match_type: str\n",
      "  match_type_number: int\n",
      "  officials: dict\n",
      "  outcome: dict\n",
      "  player_of_match: list\n",
      "  players: dict\n",
      "  registry: dict\n",
      "  season: str\n",
      "  team_type: str\n",
      "  teams: list\n",
      "  toss: dict\n",
      "  venue: str\n",
      "\n",
      "Delivery field types:\n",
      "  batter: str\n",
      "  bowler: str\n",
      "  non_striker: str\n",
      "  runs: dict\n",
      "  runs.batter: int\n",
      "  runs.extras: int\n",
      "  runs.total: int\n",
      "\n",
      "File: C:/Users/lohit/Desktop/Radboud University/Data Engineering (NWI-IMC073-2024)/Data & Codes/extracted_data_json\\1000853.json\n",
      "Info field types:\n",
      "  balls_per_over: int\n",
      "  city: str\n",
      "  dates: list\n",
      "  event: dict\n",
      "  gender: str\n",
      "  match_type: str\n",
      "  match_type_number: int\n",
      "  officials: dict\n",
      "  outcome: dict\n",
      "  player_of_match: list\n",
      "  players: dict\n",
      "  registry: dict\n",
      "  season: str\n",
      "  team_type: str\n",
      "  teams: list\n",
      "  toss: dict\n",
      "  venue: str\n",
      "\n",
      "Delivery field types:\n",
      "  batter: str\n",
      "  bowler: str\n",
      "  non_striker: str\n",
      "  runs: dict\n",
      "  runs.batter: int\n",
      "  runs.extras: int\n",
      "  runs.total: int\n",
      "\n",
      "File: C:/Users/lohit/Desktop/Radboud University/Data Engineering (NWI-IMC073-2024)/Data & Codes/extracted_data_json\\1000855.json\n",
      "Info field types:\n",
      "  balls_per_over: int\n",
      "  dates: list\n",
      "  event: dict\n",
      "  gender: str\n",
      "  match_type: str\n",
      "  match_type_number: int\n",
      "  officials: dict\n",
      "  outcome: dict\n",
      "  player_of_match: list\n",
      "  players: dict\n",
      "  registry: dict\n",
      "  season: str\n",
      "  team_type: str\n",
      "  teams: list\n",
      "  toss: dict\n",
      "  venue: str\n",
      "\n",
      "Delivery field types:\n",
      "  batter: str\n",
      "  bowler: str\n",
      "  non_striker: str\n",
      "  runs: dict\n",
      "  runs.batter: int\n",
      "  runs.extras: int\n",
      "  runs.total: int\n",
      "\n",
      "File: C:/Users/lohit/Desktop/Radboud University/Data Engineering (NWI-IMC073-2024)/Data & Codes/extracted_data_json\\1000881.json\n",
      "Info field types:\n",
      "  balls_per_over: int\n",
      "  city: str\n",
      "  dates: list\n",
      "  event: dict\n",
      "  gender: str\n",
      "  match_type: str\n",
      "  match_type_number: int\n",
      "  officials: dict\n",
      "  outcome: dict\n",
      "  player_of_match: list\n",
      "  players: dict\n",
      "  registry: dict\n",
      "  season: str\n",
      "  team_type: str\n",
      "  teams: list\n",
      "  toss: dict\n",
      "  venue: str\n",
      "\n",
      "Delivery field types:\n",
      "  batter: str\n",
      "  bowler: str\n",
      "  non_striker: str\n",
      "  runs: dict\n",
      "  runs.batter: int\n",
      "  runs.extras: int\n",
      "  runs.total: int\n",
      "\n",
      "File: C:/Users/lohit/Desktop/Radboud University/Data Engineering (NWI-IMC073-2024)/Data & Codes/extracted_data_json\\1000883.json\n",
      "Info field types:\n",
      "  balls_per_over: int\n",
      "  dates: list\n",
      "  event: dict\n",
      "  gender: str\n",
      "  match_type: str\n",
      "  match_type_number: int\n",
      "  officials: dict\n",
      "  outcome: dict\n",
      "  player_of_match: list\n",
      "  players: dict\n",
      "  registry: dict\n",
      "  season: str\n",
      "  team_type: str\n",
      "  teams: list\n",
      "  toss: dict\n",
      "  venue: str\n",
      "\n",
      "Delivery field types:\n",
      "  batter: str\n",
      "  bowler: str\n",
      "  non_striker: str\n",
      "  runs: dict\n",
      "  runs.batter: int\n",
      "  runs.extras: int\n",
      "  runs.total: int\n"
     ]
    }
   ],
   "source": [
    "\n",
    "# Function to check types in a sample JSON file\n",
    "def check_data_types(file_path):\n",
    "    \"\"\"Examine data types in a sample JSON file without transforming anything\"\"\"\n",
    "    with open(file_path, 'r') as f:\n",
    "        data = json.load(f)\n",
    "    \n",
    "    type_analysis = {\n",
    "        'info_fields': {},\n",
    "        'delivery_fields': {}\n",
    "    }\n",
    "    \n",
    "    # Check info section data types\n",
    "    info = data.get('info', {})\n",
    "    for key, value in info.items():\n",
    "        type_analysis['info_fields'][key] = type(value).__name__\n",
    "    \n",
    "    # Check delivery data types (from first over of first innings)\n",
    "    if 'innings' in data and data['innings'] and 'overs' in data['innings'][0]:\n",
    "        overs = data['innings'][0]['overs']\n",
    "        if overs and 'deliveries' in overs[0]:\n",
    "            delivery = overs[0]['deliveries'][0]\n",
    "            for key, value in delivery.items():\n",
    "                type_analysis['delivery_fields'][key] = type(value).__name__\n",
    "                # Also check nested fields like 'runs'\n",
    "                if isinstance(value, dict):\n",
    "                    for subkey, subvalue in value.items():\n",
    "                        type_analysis['delivery_fields'][f\"{key}.{subkey}\"] = type(subvalue).__name__\n",
    "    \n",
    "    return type_analysis\n",
    "\n",
    "# Analyze a few sample files\n",
    "sample_files = glob(data_path)[:5]  # Just analyze a few files\n",
    "\n",
    "type_results = {}\n",
    "for file in sample_files:\n",
    "    type_results[file] = check_data_types(file)\n",
    "\n",
    "# Summarize the results\n",
    "print(\"Data type analysis (no transformations performed):\")\n",
    "for file, analysis in type_results.items():\n",
    "    print(f\"\\nFile: {file}\")\n",
    "    print(\"Info field types:\")\n",
    "    for field, field_type in analysis['info_fields'].items():\n",
    "        print(f\"  {field}: {field_type}\")\n",
    "    \n",
    "    print(\"\\nDelivery field types:\")\n",
    "    for field, field_type in analysis['delivery_fields'].items():\n",
    "        print(f\"  {field}: {field_type}\")"
   ]
  },
  {
   "cell_type": "code",
   "execution_count": 22,
   "id": "d4507c9f-4c1f-44e6-aa2f-c2257a343a9c",
   "metadata": {},
   "outputs": [
    {
     "name": "stdout",
     "output_type": "stream",
     "text": [
      "Processed 1000 files...\n",
      "Processed 2000 files...\n",
      "Processed 3000 files...\n",
      "Processed 4000 files...\n",
      "Processed 5000 files...\n",
      "Processed 6000 files...\n",
      "Processed 7000 files...\n",
      "Processed 8000 files...\n",
      "Processed 9000 files...\n",
      "Processed 10000 files...\n",
      "Processed 11000 files...\n",
      "Processed 12000 files...\n",
      "Processed 13000 files...\n",
      "Processed 14000 files...\n",
      "Processed 15000 files...\n",
      "Processed 16000 files...\n",
      "Processed 17000 files...\n",
      "Processed 18000 files...\n",
      "\n",
      "Summary Statistics:\n",
      "        batter_runs        extras    total_runs\n",
      "count  9.663876e+06  9.663876e+06  9.663876e+06\n",
      "mean   7.501123e-01  4.700816e-02  7.971204e-01\n",
      "std    1.305196e+00  3.052374e-01  1.317440e+00\n",
      "min    0.000000e+00  0.000000e+00  0.000000e+00\n",
      "25%    0.000000e+00  0.000000e+00  0.000000e+00\n",
      "50%    0.000000e+00  0.000000e+00  0.000000e+00\n",
      "75%    1.000000e+00  0.000000e+00  1.000000e+00\n",
      "max    8.000000e+00  1.200000e+01  1.300000e+01\n",
      "\n",
      "Total files processed: 18646\n",
      "Total deliveries analyzed: 9663876\n",
      "Number of potentially invalid run values (>7): 191\n",
      "\n",
      "Sample of potentially invalid runs:\n",
      "{'file': '1068309.json', 'batter': 'CJ Anderson', 'bowler': 'TK Curran', 'batter_runs': 1, 'extras': 12, 'total': 13}\n",
      "{'file': '1068338.json', 'batter': 'DT Christian', 'bowler': 'MJ Henry', 'batter_runs': 6, 'extras': 2, 'total': 8}\n",
      "{'file': '1068348.json', 'batter': 'SA Northeast', 'bowler': 'CJ Jordan', 'batter_runs': 6, 'extras': 2, 'total': 8}\n",
      "{'file': '1068362.json', 'batter': 'P Coughlin', 'bowler': 'MW Pillans', 'batter_runs': 6, 'extras': 2, 'total': 8}\n",
      "{'file': '1068364.json', 'batter': 'M Klinger', 'bowler': 'CP Wood', 'batter_runs': 6, 'extras': 2, 'total': 8}\n",
      "{'file': '1068376.json', 'batter': 'AD Hales', 'bowler': 'D Klein', 'batter_runs': 6, 'extras': 2, 'total': 8}\n",
      "{'file': '1068378.json', 'batter': 'RE Levi', 'bowler': 'R McLaren', 'batter_runs': 6, 'extras': 2, 'total': 8}\n",
      "{'file': '1068387.json', 'batter': 'CA Ingram', 'bowler': 'SM Curran', 'batter_runs': 6, 'extras': 2, 'total': 8}\n",
      "{'file': '1068448.json', 'batter': 'AJ Blake', 'bowler': 'L Gregory', 'batter_runs': 6, 'extras': 2, 'total': 8}\n",
      "{'file': '1068463.json', 'batter': 'SJ Croft', 'bowler': 'OJ Hannon-Dalby', 'batter_runs': 6, 'extras': 2, 'total': 8}\n",
      "\n",
      "Run Distribution (% of deliveries):\n",
      "0 runs: 58.53%\n",
      "1 runs: 26.18%\n",
      "2 runs: 5.04%\n",
      "3 runs: 0.75%\n",
      "4 runs: 7.84%\n",
      "5 runs: 0.11%\n",
      "6 runs: 1.54%\n",
      "7 runs: 0.01%\n"
     ]
    }
   ],
   "source": [
    "data_dir = data_path = \"C:/Users/lohit/Desktop/Radboud University/Data Engineering (NWI-IMC073-2024)/Data & Codes/extracted_data_json\"\n",
    "\n",
    "# Stats collection\n",
    "runs_per_delivery = []\n",
    "extras_per_delivery = []\n",
    "total_runs_per_delivery = []\n",
    "invalid_runs = []\n",
    "\n",
    "# Process each JSON file\n",
    "file_count = 0\n",
    "delivery_count = 0\n",
    "\n",
    "# Process each file\n",
    "for filename in os.listdir(data_dir):\n",
    "    if filename.endswith('.json'):\n",
    "        file_path = os.path.join(data_dir, filename)\n",
    "        file_count += 1\n",
    "        \n",
    "        # Progress tracking (optional)\n",
    "        if file_count % 1000 == 0:\n",
    "            print(f\"Processed {file_count} files...\")\n",
    "        \n",
    "        try:\n",
    "            with open(file_path, 'r', encoding='utf-8') as f:\n",
    "                match_data = json.load(f)\n",
    "            \n",
    "            # Process each innings\n",
    "            if 'innings' in match_data:\n",
    "                for innings in match_data['innings']:\n",
    "                    if 'overs' in innings:\n",
    "                        for over in innings['overs']:\n",
    "                            if 'deliveries' in over:\n",
    "                                for delivery in over['deliveries']:\n",
    "                                    delivery_count += 1\n",
    "                                    \n",
    "                                    # Extract runs data\n",
    "                                    if 'runs' in delivery:\n",
    "                                        runs = delivery['runs']\n",
    "                                        \n",
    "                                        # Collect statistics\n",
    "                                        batter_runs = runs.get('batter', 0)\n",
    "                                        extras = runs.get('extras', 0)\n",
    "                                        total = runs.get('total', 0)\n",
    "                                        \n",
    "                                        runs_per_delivery.append(batter_runs)\n",
    "                                        extras_per_delivery.append(extras)\n",
    "                                        total_runs_per_delivery.append(total)\n",
    "                                        \n",
    "                                        # Check for potential outliers or invalid data\n",
    "                                        if total > 7:  # Allowing for 6 + no ball\n",
    "                                            invalid_runs.append({\n",
    "                                                'file': filename,\n",
    "                                                'batter': delivery.get('batter', 'unknown'),\n",
    "                                                'bowler': delivery.get('bowler', 'unknown'),\n",
    "                                                'batter_runs': batter_runs,\n",
    "                                                'extras': extras,\n",
    "                                                'total': total\n",
    "                                            })\n",
    "        except Exception as e:\n",
    "            print(f\"Error processing {filename}: {str(e)}\")\n",
    "\n",
    "# Convert to pandas DataFrames for analysis\n",
    "runs_df = pd.DataFrame({\n",
    "    'batter_runs': runs_per_delivery,\n",
    "    'extras': extras_per_delivery,\n",
    "    'total_runs': total_runs_per_delivery\n",
    "})\n",
    "\n",
    "# Generate summary statistics\n",
    "summary_stats = runs_df.describe()\n",
    "print(\"\\nSummary Statistics:\")\n",
    "print(summary_stats)\n",
    "\n",
    "print(f\"\\nTotal files processed: {file_count}\")\n",
    "print(f\"Total deliveries analyzed: {delivery_count}\")\n",
    "print(f\"Number of potentially invalid run values (>7): {len(invalid_runs)}\")\n",
    "\n",
    "# Show sample of invalid runs if any\n",
    "if invalid_runs:\n",
    "    print(\"\\nSample of potentially invalid runs:\")\n",
    "    for i, item in enumerate(invalid_runs[:10]):\n",
    "        print(item)\n",
    "        if i >= 9:\n",
    "            break\n",
    "\n",
    "# Distribution analysis\n",
    "print(\"\\nRun Distribution (% of deliveries):\")\n",
    "for run_value in range(8):\n",
    "    percentage = (runs_df['total_runs'] == run_value).mean() * 100\n",
    "    print(f\"{run_value} runs: {percentage:.2f}%\")"
   ]
  },
  {
   "cell_type": "code",
   "execution_count": 23,
   "id": "8049a624-001d-48c9-8783-a73d68b317fc",
   "metadata": {},
   "outputs": [
    {
     "name": "stdout",
     "output_type": "stream",
     "text": [
      "Processed 1000 files...\n",
      "Processed 2000 files...\n",
      "Processed 3000 files...\n",
      "Processed 4000 files...\n",
      "Processed 5000 files...\n",
      "Processed 6000 files...\n",
      "Processed 7000 files...\n",
      "Processed 8000 files...\n",
      "Processed 9000 files...\n",
      "Processed 10000 files...\n",
      "Processed 11000 files...\n",
      "Processed 12000 files...\n",
      "Processed 13000 files...\n",
      "Processed 14000 files...\n",
      "Processed 15000 files...\n",
      "Processed 16000 files...\n",
      "Processed 17000 files...\n",
      "Processed 18000 files...\n",
      "\n",
      "Summary Statistics by Match Type:\n",
      "\n",
      "Test matches:\n",
      "  Number of overs: 277020\n",
      "  Average deliveries per over: 6.03\n",
      "  Min deliveries: 1\n",
      "  Max deliveries: 10\n",
      "\n",
      "ODI matches:\n",
      "  Number of overs: 253469\n",
      "  Average deliveries per over: 6.13\n",
      "  Min deliveries: 1\n",
      "  Max deliveries: 14\n",
      "\n",
      "T20 matches:\n",
      "  Number of overs: 418800\n",
      "  Average deliveries per over: 6.17\n",
      "  Min deliveries: 1\n",
      "  Max deliveries: 19\n",
      "\n",
      "ODM matches:\n",
      "  Number of overs: 123062\n",
      "  Average deliveries per over: 6.14\n",
      "  Min deliveries: 1\n",
      "  Max deliveries: 12\n",
      "\n",
      "MDM matches:\n",
      "  Number of overs: 503520\n",
      "  Average deliveries per over: 6.02\n",
      "  Min deliveries: 1\n",
      "  Max deliveries: 10\n",
      "\n",
      "IT20 matches:\n",
      "  Number of overs: 11370\n",
      "  Average deliveries per over: 6.24\n",
      "  Min deliveries: 1\n",
      "  Max deliveries: 13\n",
      "\n",
      "Total files processed: 18646\n",
      "Total overs analyzed: 1587241\n",
      "Number of potentially outlier overs: 5239\n",
      "\n",
      "Sample of potentially outlier overs:\n",
      "{'file': '1000883.json', 'match_type': 'Test', 'over_num': 30, 'deliveries': 9, 'expected': 6}\n",
      "{'file': '1001371.json', 'match_type': 'ODI', 'over_num': 24, 'deliveries': 9, 'expected': 6}\n",
      "{'file': '1002145.json', 'match_type': 'ODM', 'over_num': 0, 'deliveries': 9, 'expected': 6}\n",
      "{'file': '1003845.json', 'match_type': 'T20', 'over_num': 7, 'deliveries': 9, 'expected': 6}\n",
      "{'file': '1003849.json', 'match_type': 'T20', 'over_num': 19, 'deliveries': 9, 'expected': 6}\n",
      "{'file': '1003849.json', 'match_type': 'T20', 'over_num': 17, 'deliveries': 9, 'expected': 6}\n",
      "{'file': '1003855.json', 'match_type': 'T20', 'over_num': 4, 'deliveries': 9, 'expected': 6}\n",
      "{'file': '1003865.json', 'match_type': 'T20', 'over_num': 17, 'deliveries': 10, 'expected': 6}\n",
      "{'file': '1003885.json', 'match_type': 'T20', 'over_num': 11, 'deliveries': 9, 'expected': 6}\n",
      "{'file': '1003895.json', 'match_type': 'T20', 'over_num': 0, 'deliveries': 9, 'expected': 6}\n"
     ]
    }
   ],
   "source": [
    "# Stats collection\n",
    "deliveries_per_over = defaultdict(list)\n",
    "outlier_overs = []\n",
    "\n",
    "# Process each JSON file\n",
    "file_count = 0\n",
    "over_count = 0\n",
    "\n",
    "# Process each file\n",
    "for filename in os.listdir(data_dir):\n",
    "    if filename.endswith('.json'):\n",
    "        file_path = os.path.join(data_dir, filename)\n",
    "        file_count += 1\n",
    "        \n",
    "        # Progress tracking (optional)\n",
    "        if file_count % 1000 == 0:\n",
    "            print(f\"Processed {file_count} files...\")\n",
    "        \n",
    "        try:\n",
    "            with open(file_path, 'r', encoding='utf-8') as f:\n",
    "                match_data = json.load(f)\n",
    "            \n",
    "            # Get match type (T20, ODI, Test, etc.)\n",
    "            match_type = match_data.get('info', {}).get('match_type', 'unknown')\n",
    "            balls_per_over = match_data.get('info', {}).get('balls_per_over', 6)\n",
    "            \n",
    "            # Process each innings\n",
    "            if 'innings' in match_data:\n",
    "                for innings in match_data['innings']:\n",
    "                    if 'overs' in innings:\n",
    "                        for over in innings['overs']:\n",
    "                            over_count += 1\n",
    "                            over_num = over.get('over', -1)\n",
    "                            \n",
    "                            # Count deliveries in this over\n",
    "                            if 'deliveries' in over:\n",
    "                                num_deliveries = len(over['deliveries'])\n",
    "                                deliveries_per_over[match_type].append(num_deliveries)\n",
    "                                \n",
    "                                # Check for potential outliers\n",
    "                                if num_deliveries > balls_per_over + 2:  # Allowing for extras\n",
    "                                    outlier_overs.append({\n",
    "                                        'file': filename,\n",
    "                                        'match_type': match_type,\n",
    "                                        'over_num': over_num,\n",
    "                                        'deliveries': num_deliveries,\n",
    "                                        'expected': balls_per_over\n",
    "                                    })\n",
    "        except Exception as e:\n",
    "            print(f\"Error processing {filename}: {str(e)}\")\n",
    "\n",
    "# Generate summary statistics for each match type\n",
    "stats_by_match_type = {}\n",
    "for match_type, deliveries in deliveries_per_over.items():\n",
    "    stats_by_match_type[match_type] = {\n",
    "        'count': len(deliveries),\n",
    "        'mean': np.mean(deliveries),\n",
    "        'std': np.std(deliveries),\n",
    "        'min': min(deliveries),\n",
    "        'max': max(deliveries),\n",
    "    }\n",
    "\n",
    "print(\"\\nSummary Statistics by Match Type:\")\n",
    "for match_type, stats in stats_by_match_type.items():\n",
    "    print(f\"\\n{match_type} matches:\")\n",
    "    print(f\"  Number of overs: {stats['count']}\")\n",
    "    print(f\"  Average deliveries per over: {stats['mean']:.2f}\")\n",
    "    print(f\"  Min deliveries: {stats['min']}\")\n",
    "    print(f\"  Max deliveries: {stats['max']}\")\n",
    "\n",
    "print(f\"\\nTotal files processed: {file_count}\")\n",
    "print(f\"Total overs analyzed: {over_count}\")\n",
    "print(f\"Number of potentially outlier overs: {len(outlier_overs)}\")\n",
    "\n",
    "# Show sample of outlier overs if any\n",
    "if outlier_overs:\n",
    "    print(\"\\nSample of potentially outlier overs:\")\n",
    "    for i, item in enumerate(outlier_overs[:10]):\n",
    "        print(item)\n",
    "        if i >= 9:\n",
    "            break"
   ]
  }
 ],
 "metadata": {
  "kernelspec": {
   "display_name": "Python 3 (ipykernel)",
   "language": "python",
   "name": "python3"
  },
  "language_info": {
   "codemirror_mode": {
    "name": "ipython",
    "version": 3
   },
   "file_extension": ".py",
   "mimetype": "text/x-python",
   "name": "python",
   "nbconvert_exporter": "python",
   "pygments_lexer": "ipython3",
   "version": "3.12.7"
  }
 },
 "nbformat": 4,
 "nbformat_minor": 5
}
